{
 "cells": [
  {
   "cell_type": "code",
   "execution_count": 1,
   "id": "39f6e880-6f8f-4daa-a31a-7f3833b85806",
   "metadata": {},
   "outputs": [],
   "source": [
    "%load_ext autoreload\n",
    "%autoreload 2"
   ]
  },
  {
   "cell_type": "code",
   "execution_count": 2,
   "id": "e0c0c04c-6c9e-463f-9c81-e7597b5be44c",
   "metadata": {},
   "outputs": [],
   "source": [
    "# unscaled, log-normalized counts, with conditions subsampled to the same number of cells \n",
    "# and 2000 highly variable genes calculated jointly across all perturbation conditions, including control, using scanpy28 with default parameters (Supplementary Methods)"
   ]
  },
  {
   "cell_type": "code",
   "execution_count": 3,
   "id": "ec3d5ee8-9908-4635-bfd7-b759312952b4",
   "metadata": {},
   "outputs": [
    {
     "name": "stdout",
     "output_type": "stream",
     "text": [
      "will use the CPU to calculate the distance matrix.\n",
      "will use the CPU to calculate the distance matrix.\n"
     ]
    }
   ],
   "source": [
    "import scanpy as sc\n",
    "import pandas as pd \n",
    "import matplotlib.pyplot as plt\n",
    "import numpy as np\n",
    "import os\n",
    "from anndata import read_h5ad\n",
    "import sys\n",
    "sys.path.append(\"..\")\n",
    "from src import *"
   ]
  },
  {
   "cell_type": "code",
   "execution_count": 4,
   "id": "2c9b9c16-8566-41e8-9607-7e96b235841e",
   "metadata": {},
   "outputs": [],
   "source": [
    "data_path = \"/data/bionets/datasets/scrnaseq_ji\""
   ]
  },
  {
   "cell_type": "code",
   "execution_count": 5,
   "id": "536e425c-0729-4833-83f1-5962fbedcfb6",
   "metadata": {},
   "outputs": [],
   "source": [
    "mcf = read_h5ad(os.path.join(data_path, 'mcfarland.hdf5'))"
   ]
  },
  {
   "cell_type": "code",
   "execution_count": 6,
   "id": "89b10d67-a911-4b79-87ac-2c6ed789f9c7",
   "metadata": {},
   "outputs": [],
   "source": [
    "sc.pp.log1p(mcf)\n",
    "sc.pp.highly_variable_genes(mcf, n_top_genes=2000)\n",
    "mcf = mcf[:, mcf.var.highly_variable]"
   ]
  },
  {
   "cell_type": "code",
   "execution_count": 7,
   "id": "c1d5e1d3-8251-4574-bdaf-d55234391c2b",
   "metadata": {},
   "outputs": [
    {
     "name": "stderr",
     "output_type": "stream",
     "text": [
      "/data/bionets/je30bery/conda/envs/graphtool/lib/python3.9/site-packages/tqdm/auto.py:21: TqdmWarning: IProgress not found. Please update jupyter and ipywidgets. See https://ipywidgets.readthedocs.io/en/stable/user_install.html\n",
      "  from .autonotebook import tqdm as notebook_tqdm\n"
     ]
    }
   ],
   "source": [
    "sc.pp.neighbors(mcf, n_pcs=0)"
   ]
  },
  {
   "cell_type": "code",
   "execution_count": 8,
   "id": "e8651bfd-192d-49d4-936f-149e5d864d39",
   "metadata": {},
   "outputs": [],
   "source": [
    "g6 = list(np.unique([v for v in mcf.obs[\"perturbation\"].values if v.endswith(\"_6\")]))\n",
    "g24 = list(np.unique([v for v in mcf.obs[\"perturbation\"].values if v.endswith(\"_24\")]))\n",
    "test_groups = [g6, g24]\n",
    "reference = \"control\""
   ]
  },
  {
   "cell_type": "code",
   "execution_count": null,
   "id": "d0e8ba4b-0dbb-4bfc-9682-10f217e35eea",
   "metadata": {},
   "outputs": [
    {
     "name": "stderr",
     "output_type": "stream",
     "text": [
      "/data/bionets/je30bery/rosenbaum_test/notebooks/../src/rosenbaum.py:150: ImplicitModificationWarning: Trying to modify attribute `.obs` of view, initializing view as actual.\n",
      "  adata.obs[\"XMatch_group\"] = np.where(adata.obs[group_by].isin(test_group), \"test\", \"reference\")\n"
     ]
    },
    {
     "name": "stdout",
     "output_type": "stream",
     "text": [
      "XMatch_group\n",
      "reference    541\n",
      "test         392\n",
      "Name: count, dtype: int64\n",
      "using CPU to calculate distance matrix.\n",
      "creating distance graph.\n",
      "num samples 934 edges 436645\n",
      "matching.\n"
     ]
    }
   ],
   "source": [
    "rosenbaum(mcf, group_by=\"perturbation\", reference=reference, test_group=g6, use_nx=False, k=None)"
   ]
  },
  {
   "cell_type": "code",
   "execution_count": null,
   "id": "43800c0d-6411-4891-aa3a-9c507a731f8a",
   "metadata": {},
   "outputs": [],
   "source": []
  }
 ],
 "metadata": {
  "kernelspec": {
   "display_name": "Python 3 (ipykernel)",
   "language": "python",
   "name": "python3"
  },
  "language_info": {
   "codemirror_mode": {
    "name": "ipython",
    "version": 3
   },
   "file_extension": ".py",
   "mimetype": "text/x-python",
   "name": "python",
   "nbconvert_exporter": "python",
   "pygments_lexer": "ipython3",
   "version": "3.9.18"
  }
 },
 "nbformat": 4,
 "nbformat_minor": 5
}
