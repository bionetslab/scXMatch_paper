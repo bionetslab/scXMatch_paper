{
 "cells": [
  {
   "cell_type": "code",
   "execution_count": 1,
   "id": "39f6e880-6f8f-4daa-a31a-7f3833b85806",
   "metadata": {},
   "outputs": [],
   "source": [
    "%load_ext autoreload\n",
    "%autoreload 2"
   ]
  },
  {
   "cell_type": "code",
   "execution_count": 2,
   "id": "e0c0c04c-6c9e-463f-9c81-e7597b5be44c",
   "metadata": {},
   "outputs": [],
   "source": [
    "# unscaled, log-normalized counts, with conditions subsampled to the same number of cells \n",
    "# and 2000 highly variable genes calculated jointly across all perturbation conditions, including control, using scanpy28 with default parameters (Supplementary Methods)"
   ]
  },
  {
   "cell_type": "code",
   "execution_count": null,
   "id": "f202b907-22be-4e17-8f1c-bf796d080518",
   "metadata": {},
   "outputs": [],
   "source": []
  },
  {
   "cell_type": "code",
   "execution_count": 3,
   "id": "ec3d5ee8-9908-4635-bfd7-b759312952b4",
   "metadata": {},
   "outputs": [
    {
     "name": "stdout",
     "output_type": "stream",
     "text": [
      "will use the CPU to calculate the distance matrix.\n",
      "will use the CPU to calculate the distance matrix.\n"
     ]
    },
    {
     "name": "stderr",
     "output_type": "stream",
     "text": [
      "/data/bionets/je30bery/singularity/gt/lib/python3.13/site-packages/graph_tool/draw/cairo_draw.py:33: RuntimeWarning: Error importing cairo. Graph drawing will not work.\n",
      "  warnings.warn(msg, RuntimeWarning)\n",
      "/data/bionets/je30bery/singularity/gt/lib/python3.13/site-packages/graph_tool/draw/cairo_draw.py:33: RuntimeWarning: Error importing cairo. Graph drawing will not work.\n",
      "  warnings.warn(msg, RuntimeWarning)\n",
      "/data/bionets/je30bery/singularity/gt/lib/python3.13/site-packages/graph_tool/draw/cairo_draw.py:33: RuntimeWarning: Error importing cairo. Graph drawing will not work.\n",
      "  warnings.warn(msg, RuntimeWarning)\n",
      "/data/bionets/je30bery/singularity/gt/lib/python3.13/site-packages/graph_tool/all.py:39: RuntimeWarning: Error importing draw module, proceeding nevertheless: No module named 'cairo'\n",
      "  warnings.warn(msg, RuntimeWarning)\n"
     ]
    }
   ],
   "source": [
    "import scanpy as sc\n",
    "import pandas as pd \n",
    "import matplotlib.pyplot as plt\n",
    "import numpy as np\n",
    "import os\n",
    "from anndata import read_h5ad\n",
    "import sys\n",
    "sys.path.append(\"..\")\n",
    "from src import *"
   ]
  },
  {
   "cell_type": "code",
   "execution_count": 4,
   "id": "2c9b9c16-8566-41e8-9607-7e96b235841e",
   "metadata": {},
   "outputs": [],
   "source": [
    "data_path = \"/mnt/data\""
   ]
  },
  {
   "cell_type": "code",
   "execution_count": 5,
   "id": "536e425c-0729-4833-83f1-5962fbedcfb6",
   "metadata": {},
   "outputs": [],
   "source": [
    "mcf = read_h5ad(os.path.join(data_path, 'mcfarland.hdf5'))"
   ]
  },
  {
   "cell_type": "code",
   "execution_count": 6,
   "id": "89b10d67-a911-4b79-87ac-2c6ed789f9c7",
   "metadata": {},
   "outputs": [],
   "source": [
    "sc.pp.log1p(mcf)\n",
    "sc.pp.highly_variable_genes(mcf, n_top_genes=2000)\n",
    "mcf = mcf[:, mcf.var.highly_variable]"
   ]
  },
  {
   "cell_type": "code",
   "execution_count": 7,
   "id": "c1d5e1d3-8251-4574-bdaf-d55234391c2b",
   "metadata": {},
   "outputs": [],
   "source": [
    "#sc.pp.neighbors(mcf, n_pcs=0)"
   ]
  },
  {
   "cell_type": "code",
   "execution_count": 8,
   "id": "e8651bfd-192d-49d4-936f-149e5d864d39",
   "metadata": {},
   "outputs": [],
   "source": [
    "g6 = list(np.unique([v for v in mcf.obs[\"perturbation\"].values if v.endswith(\"_6\")]))\n",
    "g24 = list(np.unique([v for v in mcf.obs[\"perturbation\"].values if v.endswith(\"_24\")]))\n",
    "test_groups = [g6, g24]\n",
    "reference = \"control\""
   ]
  },
  {
   "cell_type": "code",
   "execution_count": 9,
   "id": "d0e8ba4b-0dbb-4bfc-9682-10f217e35eea",
   "metadata": {},
   "outputs": [
    {
     "name": "stderr",
     "output_type": "stream",
     "text": [
      "/mnt/je30bery/rosenbaum_test/notebooks/../src/rosenbaum.py:153: ImplicitModificationWarning: Trying to modify attribute `.obs` of view, initializing view as actual.\n",
      "  adata.obs[\"XMatch_group\"] = np.where(adata.obs[group_by].isin(test_group), \"test\", \"reference\")\n"
     ]
    },
    {
     "name": "stdout",
     "output_type": "stream",
     "text": [
      "XMatch_group\n",
      "reference    541\n",
      "test         392\n",
      "Name: count, dtype: int64\n",
      "using CPU to calculate distance matrix.\n",
      "creating distance graph with 934 samples\n",
      "num samples 933 edges 436645\n",
      "matching.\n",
      "NUM 933\n",
      "counting cross matches.\n"
     ]
    },
    {
     "data": {
      "text/plain": [
       "(8.141915891577072e-38, np.float64(-12.56855421634986), 1.0)"
      ]
     },
     "execution_count": 9,
     "metadata": {},
     "output_type": "execute_result"
    }
   ],
   "source": [
    "rosenbaum(mcf, group_by=\"perturbation\", reference=reference, test_group=g6, use_nx=False, k=None)"
   ]
  },
  {
   "cell_type": "code",
   "execution_count": 10,
   "id": "43800c0d-6411-4891-aa3a-9c507a731f8a",
   "metadata": {},
   "outputs": [
    {
     "name": "stdout",
     "output_type": "stream",
     "text": [
      "will use the CPU to calculate the distance matrix.\n",
      "XMatch_group\n",
      "reference    541\n",
      "test         392\n",
      "Name: count, dtype: int64\n",
      "calculating PCA and kNN graph.\n"
     ]
    },
    {
     "name": "stderr",
     "output_type": "stream",
     "text": [
      "/mnt/je30bery/rosenbaum_test/notebooks/../src/rosenbaum.py:153: ImplicitModificationWarning: Trying to modify attribute `.obs` of view, initializing view as actual.\n",
      "  adata.obs[\"XMatch_group\"] = np.where(adata.obs[group_by].isin(test_group), \"test\", \"reference\")\n",
      "/data/bionets/je30bery/singularity/gt/lib/python3.13/site-packages/tqdm/auto.py:21: TqdmWarning: IProgress not found. Please update jupyter and ipywidgets. See https://ipywidgets.readthedocs.io/en/stable/user_install.html\n",
      "  from .autonotebook import tqdm as notebook_tqdm\n"
     ]
    },
    {
     "name": "stdout",
     "output_type": "stream",
     "text": [
      "counting cross matches.\n"
     ]
    },
    {
     "data": {
      "text/plain": [
       "(1.87702863286868e-38, np.float64(-12.669890894843123), 1.0)"
      ]
     },
     "execution_count": 10,
     "metadata": {},
     "output_type": "execute_result"
    }
   ],
   "source": [
    "rosenbaum(mcf, group_by=\"perturbation\", reference=reference, test_group=g6, use_nx=False, k=5)"
   ]
  },
  {
   "cell_type": "code",
   "execution_count": 11,
   "id": "5cc925a3-674b-4100-a8e0-5b4e9b422149",
   "metadata": {},
   "outputs": [
    {
     "name": "stderr",
     "output_type": "stream",
     "text": [
      "/mnt/je30bery/rosenbaum_test/notebooks/../src/rosenbaum.py:153: ImplicitModificationWarning: Trying to modify attribute `.obs` of view, initializing view as actual.\n",
      "  adata.obs[\"XMatch_group\"] = np.where(adata.obs[group_by].isin(test_group), \"test\", \"reference\")\n"
     ]
    },
    {
     "name": "stdout",
     "output_type": "stream",
     "text": [
      "XMatch_group\n",
      "reference    541\n",
      "test         392\n",
      "Name: count, dtype: int64\n",
      "calculating PCA and kNN graph.\n",
      "counting cross matches.\n"
     ]
    },
    {
     "data": {
      "text/plain": [
       "(8.64187385289462e-33, np.float64(-11.624933449879777), 0.759656652360515)"
      ]
     },
     "execution_count": 11,
     "metadata": {},
     "output_type": "execute_result"
    }
   ],
   "source": [
    "rosenbaum(mcf, group_by=\"perturbation\", reference=reference, test_group=g6, use_nx=False, k=2)"
   ]
  },
  {
   "cell_type": "code",
   "execution_count": 12,
   "id": "6cd1c2c1-8dcd-41fa-9c85-825eba9addbd",
   "metadata": {},
   "outputs": [
    {
     "name": "stderr",
     "output_type": "stream",
     "text": [
      "/mnt/je30bery/rosenbaum_test/notebooks/../src/rosenbaum.py:153: ImplicitModificationWarning: Trying to modify attribute `.obs` of view, initializing view as actual.\n",
      "  adata.obs[\"XMatch_group\"] = np.where(adata.obs[group_by].isin(test_group), \"test\", \"reference\")\n"
     ]
    },
    {
     "name": "stdout",
     "output_type": "stream",
     "text": [
      "XMatch_group\n",
      "reference    541\n",
      "test         392\n",
      "Name: count, dtype: int64\n",
      "calculating PCA and kNN graph.\n",
      "counting cross matches.\n"
     ]
    },
    {
     "data": {
      "text/plain": [
       "(8.64187385289462e-33, np.float64(-11.624933449879777), 0.759656652360515)"
      ]
     },
     "execution_count": 12,
     "metadata": {},
     "output_type": "execute_result"
    }
   ],
   "source": [
    "rosenbaum(mcf, group_by=\"perturbation\", reference=reference, test_group=g6, use_nx=False, k=2)"
   ]
  },
  {
   "cell_type": "code",
   "execution_count": null,
   "id": "28beb1a1-75a0-4fdc-913f-4d3abdfec883",
   "metadata": {},
   "outputs": [],
   "source": []
  }
 ],
 "metadata": {
  "kernelspec": {
   "display_name": "Python 3 (ipykernel)",
   "language": "python",
   "name": "python3"
  },
  "language_info": {
   "codemirror_mode": {
    "name": "ipython",
    "version": 3
   },
   "file_extension": ".py",
   "mimetype": "text/x-python",
   "name": "python",
   "nbconvert_exporter": "python",
   "pygments_lexer": "ipython3",
   "version": "3.13.1"
  }
 },
 "nbformat": 4,
 "nbformat_minor": 5
}
