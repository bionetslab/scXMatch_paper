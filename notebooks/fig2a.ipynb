{
 "cells": [
  {
   "cell_type": "code",
   "execution_count": 1,
   "id": "39f6e880-6f8f-4daa-a31a-7f3833b85806",
   "metadata": {},
   "outputs": [],
   "source": [
    "%load_ext autoreload\n",
    "%autoreload 2"
   ]
  },
  {
   "cell_type": "code",
   "execution_count": 2,
   "id": "e0c0c04c-6c9e-463f-9c81-e7597b5be44c",
   "metadata": {},
   "outputs": [],
   "source": [
    "# unscaled, log-normalized counts, with conditions subsampled to the same number of cells \n",
    "# and 2000 highly variable genes calculated jointly across all perturbation conditions, including control, using scanpy28 with default parameters (Supplementary Methods)"
   ]
  },
  {
   "cell_type": "code",
   "execution_count": 3,
   "id": "ec3d5ee8-9908-4635-bfd7-b759312952b4",
   "metadata": {},
   "outputs": [],
   "source": [
    "from anndata import read_h5ad\n",
    "import matplotlib.patches as patches\n",
    "import matplotlib.pyplot as plt\n",
    "import numpy as np\n",
    "import os\n",
    "import pandas as pd \n",
    "import scanpy as sc\n",
    "import seaborn as sns\n",
    "import string\n",
    "import sys\n",
    "from sklearn.linear_model import LinearRegression\n",
    "sys.path.append(\"../../scxmatch/src/\")\n",
    "from scxmatch import *\n",
    "np.random.seed(42)"
   ]
  },
  {
   "cell_type": "code",
   "execution_count": 4,
   "id": "5c5dbb25-b94e-4a4a-8f39-892b33426770",
   "metadata": {},
   "outputs": [],
   "source": [
    "reference = 0\n",
    "group_by = \"dose_value\""
   ]
  },
  {
   "cell_type": "code",
   "execution_count": 5,
   "id": "76d6f07c-89f6-4dfe-890f-84c442f29a1f",
   "metadata": {},
   "outputs": [],
   "source": [
    "ram = pd.read_csv(\"total_RAM.csv\")\n",
    "ram.loc[ram[\"k\"] == 0, \"k\"] = ram.loc[ram[\"k\"] == 0, \"n_obs\"] \n",
    "ram = ram.astype(float)"
   ]
  },
  {
   "cell_type": "code",
   "execution_count": 6,
   "id": "c2a48ef6-ecca-4e9d-aa4d-ff725882a6b6",
   "metadata": {},
   "outputs": [],
   "source": [
    "df = pd.concat([pd.read_csv(f\"../evaluation_results/runtime_memory_log_{n_obs}.txt\", delimiter=\",\") for n_obs in [500, 1000, 2000, 5000, 10000, 20000, 50000]])"
   ]
  },
  {
   "cell_type": "code",
   "execution_count": 7,
   "id": "e075bacb-cf53-465c-8c43-4288124bb1fb",
   "metadata": {},
   "outputs": [
    {
     "ename": "ValueError",
     "evalue": "could not convert string to float: '193.44 MB'",
     "output_type": "error",
     "traceback": [
      "\u001b[0;31m---------------------------------------------------------------------------\u001b[0m",
      "\u001b[0;31mValueError\u001b[0m                                Traceback (most recent call last)",
      "Cell \u001b[0;32mIn[7], line 3\u001b[0m\n\u001b[1;32m      1\u001b[0m df_filtered \u001b[38;5;241m=\u001b[39m df[\u001b[38;5;241m~\u001b[39m(df\u001b[38;5;241m.\u001b[39meq(df\u001b[38;5;241m.\u001b[39mcolumns)\u001b[38;5;241m.\u001b[39mall(axis\u001b[38;5;241m=\u001b[39m\u001b[38;5;241m1\u001b[39m))]\n\u001b[1;32m      2\u001b[0m df_filtered\u001b[38;5;241m.\u001b[39mloc[df_filtered[\u001b[38;5;124m\"\u001b[39m\u001b[38;5;124mk\u001b[39m\u001b[38;5;124m\"\u001b[39m]\u001b[38;5;241m.\u001b[39misna(), \u001b[38;5;124m\"\u001b[39m\u001b[38;5;124mk\u001b[39m\u001b[38;5;124m\"\u001b[39m] \u001b[38;5;241m=\u001b[39m df_filtered\u001b[38;5;241m.\u001b[39mloc[df_filtered[\u001b[38;5;124m\"\u001b[39m\u001b[38;5;124mk\u001b[39m\u001b[38;5;124m\"\u001b[39m]\u001b[38;5;241m.\u001b[39misna(), \u001b[38;5;124m\"\u001b[39m\u001b[38;5;124mn_obs\u001b[39m\u001b[38;5;124m\"\u001b[39m] \n\u001b[0;32m----> 3\u001b[0m df_filtered \u001b[38;5;241m=\u001b[39m \u001b[43mdf_filtered\u001b[49m\u001b[38;5;241;43m.\u001b[39;49m\u001b[43mastype\u001b[49m\u001b[43m(\u001b[49m\u001b[38;5;28;43mfloat\u001b[39;49m\u001b[43m)\u001b[49m\n",
      "File \u001b[0;32m/data/bionets/je30bery/anaconda3/envs/gt-292/lib/python3.10/site-packages/pandas/core/generic.py:6643\u001b[0m, in \u001b[0;36mNDFrame.astype\u001b[0;34m(self, dtype, copy, errors)\u001b[0m\n\u001b[1;32m   6637\u001b[0m     results \u001b[38;5;241m=\u001b[39m [\n\u001b[1;32m   6638\u001b[0m         ser\u001b[38;5;241m.\u001b[39mastype(dtype, copy\u001b[38;5;241m=\u001b[39mcopy, errors\u001b[38;5;241m=\u001b[39merrors) \u001b[38;5;28;01mfor\u001b[39;00m _, ser \u001b[38;5;129;01min\u001b[39;00m \u001b[38;5;28mself\u001b[39m\u001b[38;5;241m.\u001b[39mitems()\n\u001b[1;32m   6639\u001b[0m     ]\n\u001b[1;32m   6641\u001b[0m \u001b[38;5;28;01melse\u001b[39;00m:\n\u001b[1;32m   6642\u001b[0m     \u001b[38;5;66;03m# else, only a single dtype is given\u001b[39;00m\n\u001b[0;32m-> 6643\u001b[0m     new_data \u001b[38;5;241m=\u001b[39m \u001b[38;5;28;43mself\u001b[39;49m\u001b[38;5;241;43m.\u001b[39;49m\u001b[43m_mgr\u001b[49m\u001b[38;5;241;43m.\u001b[39;49m\u001b[43mastype\u001b[49m\u001b[43m(\u001b[49m\u001b[43mdtype\u001b[49m\u001b[38;5;241;43m=\u001b[39;49m\u001b[43mdtype\u001b[49m\u001b[43m,\u001b[49m\u001b[43m \u001b[49m\u001b[43mcopy\u001b[49m\u001b[38;5;241;43m=\u001b[39;49m\u001b[43mcopy\u001b[49m\u001b[43m,\u001b[49m\u001b[43m \u001b[49m\u001b[43merrors\u001b[49m\u001b[38;5;241;43m=\u001b[39;49m\u001b[43merrors\u001b[49m\u001b[43m)\u001b[49m\n\u001b[1;32m   6644\u001b[0m     res \u001b[38;5;241m=\u001b[39m \u001b[38;5;28mself\u001b[39m\u001b[38;5;241m.\u001b[39m_constructor_from_mgr(new_data, axes\u001b[38;5;241m=\u001b[39mnew_data\u001b[38;5;241m.\u001b[39maxes)\n\u001b[1;32m   6645\u001b[0m     \u001b[38;5;28;01mreturn\u001b[39;00m res\u001b[38;5;241m.\u001b[39m__finalize__(\u001b[38;5;28mself\u001b[39m, method\u001b[38;5;241m=\u001b[39m\u001b[38;5;124m\"\u001b[39m\u001b[38;5;124mastype\u001b[39m\u001b[38;5;124m\"\u001b[39m)\n",
      "File \u001b[0;32m/data/bionets/je30bery/anaconda3/envs/gt-292/lib/python3.10/site-packages/pandas/core/internals/managers.py:430\u001b[0m, in \u001b[0;36mBaseBlockManager.astype\u001b[0;34m(self, dtype, copy, errors)\u001b[0m\n\u001b[1;32m    427\u001b[0m \u001b[38;5;28;01melif\u001b[39;00m using_copy_on_write():\n\u001b[1;32m    428\u001b[0m     copy \u001b[38;5;241m=\u001b[39m \u001b[38;5;28;01mFalse\u001b[39;00m\n\u001b[0;32m--> 430\u001b[0m \u001b[38;5;28;01mreturn\u001b[39;00m \u001b[38;5;28;43mself\u001b[39;49m\u001b[38;5;241;43m.\u001b[39;49m\u001b[43mapply\u001b[49m\u001b[43m(\u001b[49m\n\u001b[1;32m    431\u001b[0m \u001b[43m    \u001b[49m\u001b[38;5;124;43m\"\u001b[39;49m\u001b[38;5;124;43mastype\u001b[39;49m\u001b[38;5;124;43m\"\u001b[39;49m\u001b[43m,\u001b[49m\n\u001b[1;32m    432\u001b[0m \u001b[43m    \u001b[49m\u001b[43mdtype\u001b[49m\u001b[38;5;241;43m=\u001b[39;49m\u001b[43mdtype\u001b[49m\u001b[43m,\u001b[49m\n\u001b[1;32m    433\u001b[0m \u001b[43m    \u001b[49m\u001b[43mcopy\u001b[49m\u001b[38;5;241;43m=\u001b[39;49m\u001b[43mcopy\u001b[49m\u001b[43m,\u001b[49m\n\u001b[1;32m    434\u001b[0m \u001b[43m    \u001b[49m\u001b[43merrors\u001b[49m\u001b[38;5;241;43m=\u001b[39;49m\u001b[43merrors\u001b[49m\u001b[43m,\u001b[49m\n\u001b[1;32m    435\u001b[0m \u001b[43m    \u001b[49m\u001b[43musing_cow\u001b[49m\u001b[38;5;241;43m=\u001b[39;49m\u001b[43musing_copy_on_write\u001b[49m\u001b[43m(\u001b[49m\u001b[43m)\u001b[49m\u001b[43m,\u001b[49m\n\u001b[1;32m    436\u001b[0m \u001b[43m\u001b[49m\u001b[43m)\u001b[49m\n",
      "File \u001b[0;32m/data/bionets/je30bery/anaconda3/envs/gt-292/lib/python3.10/site-packages/pandas/core/internals/managers.py:363\u001b[0m, in \u001b[0;36mBaseBlockManager.apply\u001b[0;34m(self, f, align_keys, **kwargs)\u001b[0m\n\u001b[1;32m    361\u001b[0m         applied \u001b[38;5;241m=\u001b[39m b\u001b[38;5;241m.\u001b[39mapply(f, \u001b[38;5;241m*\u001b[39m\u001b[38;5;241m*\u001b[39mkwargs)\n\u001b[1;32m    362\u001b[0m     \u001b[38;5;28;01melse\u001b[39;00m:\n\u001b[0;32m--> 363\u001b[0m         applied \u001b[38;5;241m=\u001b[39m \u001b[38;5;28;43mgetattr\u001b[39;49m\u001b[43m(\u001b[49m\u001b[43mb\u001b[49m\u001b[43m,\u001b[49m\u001b[43m \u001b[49m\u001b[43mf\u001b[49m\u001b[43m)\u001b[49m\u001b[43m(\u001b[49m\u001b[38;5;241;43m*\u001b[39;49m\u001b[38;5;241;43m*\u001b[39;49m\u001b[43mkwargs\u001b[49m\u001b[43m)\u001b[49m\n\u001b[1;32m    364\u001b[0m     result_blocks \u001b[38;5;241m=\u001b[39m extend_blocks(applied, result_blocks)\n\u001b[1;32m    366\u001b[0m out \u001b[38;5;241m=\u001b[39m \u001b[38;5;28mtype\u001b[39m(\u001b[38;5;28mself\u001b[39m)\u001b[38;5;241m.\u001b[39mfrom_blocks(result_blocks, \u001b[38;5;28mself\u001b[39m\u001b[38;5;241m.\u001b[39maxes)\n",
      "File \u001b[0;32m/data/bionets/je30bery/anaconda3/envs/gt-292/lib/python3.10/site-packages/pandas/core/internals/blocks.py:758\u001b[0m, in \u001b[0;36mBlock.astype\u001b[0;34m(self, dtype, copy, errors, using_cow, squeeze)\u001b[0m\n\u001b[1;32m    755\u001b[0m         \u001b[38;5;28;01mraise\u001b[39;00m \u001b[38;5;167;01mValueError\u001b[39;00m(\u001b[38;5;124m\"\u001b[39m\u001b[38;5;124mCan not squeeze with more than one column.\u001b[39m\u001b[38;5;124m\"\u001b[39m)\n\u001b[1;32m    756\u001b[0m     values \u001b[38;5;241m=\u001b[39m values[\u001b[38;5;241m0\u001b[39m, :]  \u001b[38;5;66;03m# type: ignore[call-overload]\u001b[39;00m\n\u001b[0;32m--> 758\u001b[0m new_values \u001b[38;5;241m=\u001b[39m \u001b[43mastype_array_safe\u001b[49m\u001b[43m(\u001b[49m\u001b[43mvalues\u001b[49m\u001b[43m,\u001b[49m\u001b[43m \u001b[49m\u001b[43mdtype\u001b[49m\u001b[43m,\u001b[49m\u001b[43m \u001b[49m\u001b[43mcopy\u001b[49m\u001b[38;5;241;43m=\u001b[39;49m\u001b[43mcopy\u001b[49m\u001b[43m,\u001b[49m\u001b[43m \u001b[49m\u001b[43merrors\u001b[49m\u001b[38;5;241;43m=\u001b[39;49m\u001b[43merrors\u001b[49m\u001b[43m)\u001b[49m\n\u001b[1;32m    760\u001b[0m new_values \u001b[38;5;241m=\u001b[39m maybe_coerce_values(new_values)\n\u001b[1;32m    762\u001b[0m refs \u001b[38;5;241m=\u001b[39m \u001b[38;5;28;01mNone\u001b[39;00m\n",
      "File \u001b[0;32m/data/bionets/je30bery/anaconda3/envs/gt-292/lib/python3.10/site-packages/pandas/core/dtypes/astype.py:237\u001b[0m, in \u001b[0;36mastype_array_safe\u001b[0;34m(values, dtype, copy, errors)\u001b[0m\n\u001b[1;32m    234\u001b[0m     dtype \u001b[38;5;241m=\u001b[39m dtype\u001b[38;5;241m.\u001b[39mnumpy_dtype\n\u001b[1;32m    236\u001b[0m \u001b[38;5;28;01mtry\u001b[39;00m:\n\u001b[0;32m--> 237\u001b[0m     new_values \u001b[38;5;241m=\u001b[39m \u001b[43mastype_array\u001b[49m\u001b[43m(\u001b[49m\u001b[43mvalues\u001b[49m\u001b[43m,\u001b[49m\u001b[43m \u001b[49m\u001b[43mdtype\u001b[49m\u001b[43m,\u001b[49m\u001b[43m \u001b[49m\u001b[43mcopy\u001b[49m\u001b[38;5;241;43m=\u001b[39;49m\u001b[43mcopy\u001b[49m\u001b[43m)\u001b[49m\n\u001b[1;32m    238\u001b[0m \u001b[38;5;28;01mexcept\u001b[39;00m (\u001b[38;5;167;01mValueError\u001b[39;00m, \u001b[38;5;167;01mTypeError\u001b[39;00m):\n\u001b[1;32m    239\u001b[0m     \u001b[38;5;66;03m# e.g. _astype_nansafe can fail on object-dtype of strings\u001b[39;00m\n\u001b[1;32m    240\u001b[0m     \u001b[38;5;66;03m#  trying to convert to float\u001b[39;00m\n\u001b[1;32m    241\u001b[0m     \u001b[38;5;28;01mif\u001b[39;00m errors \u001b[38;5;241m==\u001b[39m \u001b[38;5;124m\"\u001b[39m\u001b[38;5;124mignore\u001b[39m\u001b[38;5;124m\"\u001b[39m:\n",
      "File \u001b[0;32m/data/bionets/je30bery/anaconda3/envs/gt-292/lib/python3.10/site-packages/pandas/core/dtypes/astype.py:182\u001b[0m, in \u001b[0;36mastype_array\u001b[0;34m(values, dtype, copy)\u001b[0m\n\u001b[1;32m    179\u001b[0m     values \u001b[38;5;241m=\u001b[39m values\u001b[38;5;241m.\u001b[39mastype(dtype, copy\u001b[38;5;241m=\u001b[39mcopy)\n\u001b[1;32m    181\u001b[0m \u001b[38;5;28;01melse\u001b[39;00m:\n\u001b[0;32m--> 182\u001b[0m     values \u001b[38;5;241m=\u001b[39m \u001b[43m_astype_nansafe\u001b[49m\u001b[43m(\u001b[49m\u001b[43mvalues\u001b[49m\u001b[43m,\u001b[49m\u001b[43m \u001b[49m\u001b[43mdtype\u001b[49m\u001b[43m,\u001b[49m\u001b[43m \u001b[49m\u001b[43mcopy\u001b[49m\u001b[38;5;241;43m=\u001b[39;49m\u001b[43mcopy\u001b[49m\u001b[43m)\u001b[49m\n\u001b[1;32m    184\u001b[0m \u001b[38;5;66;03m# in pandas we don't store numpy str dtypes, so convert to object\u001b[39;00m\n\u001b[1;32m    185\u001b[0m \u001b[38;5;28;01mif\u001b[39;00m \u001b[38;5;28misinstance\u001b[39m(dtype, np\u001b[38;5;241m.\u001b[39mdtype) \u001b[38;5;129;01mand\u001b[39;00m \u001b[38;5;28missubclass\u001b[39m(values\u001b[38;5;241m.\u001b[39mdtype\u001b[38;5;241m.\u001b[39mtype, \u001b[38;5;28mstr\u001b[39m):\n",
      "File \u001b[0;32m/data/bionets/je30bery/anaconda3/envs/gt-292/lib/python3.10/site-packages/pandas/core/dtypes/astype.py:133\u001b[0m, in \u001b[0;36m_astype_nansafe\u001b[0;34m(arr, dtype, copy, skipna)\u001b[0m\n\u001b[1;32m    129\u001b[0m     \u001b[38;5;28;01mraise\u001b[39;00m \u001b[38;5;167;01mValueError\u001b[39;00m(msg)\n\u001b[1;32m    131\u001b[0m \u001b[38;5;28;01mif\u001b[39;00m copy \u001b[38;5;129;01mor\u001b[39;00m arr\u001b[38;5;241m.\u001b[39mdtype \u001b[38;5;241m==\u001b[39m \u001b[38;5;28mobject\u001b[39m \u001b[38;5;129;01mor\u001b[39;00m dtype \u001b[38;5;241m==\u001b[39m \u001b[38;5;28mobject\u001b[39m:\n\u001b[1;32m    132\u001b[0m     \u001b[38;5;66;03m# Explicit copy, or required since NumPy can't view from / to object.\u001b[39;00m\n\u001b[0;32m--> 133\u001b[0m     \u001b[38;5;28;01mreturn\u001b[39;00m \u001b[43marr\u001b[49m\u001b[38;5;241;43m.\u001b[39;49m\u001b[43mastype\u001b[49m\u001b[43m(\u001b[49m\u001b[43mdtype\u001b[49m\u001b[43m,\u001b[49m\u001b[43m \u001b[49m\u001b[43mcopy\u001b[49m\u001b[38;5;241;43m=\u001b[39;49m\u001b[38;5;28;43;01mTrue\u001b[39;49;00m\u001b[43m)\u001b[49m\n\u001b[1;32m    135\u001b[0m \u001b[38;5;28;01mreturn\u001b[39;00m arr\u001b[38;5;241m.\u001b[39mastype(dtype, copy\u001b[38;5;241m=\u001b[39mcopy)\n",
      "\u001b[0;31mValueError\u001b[0m: could not convert string to float: '193.44 MB'"
     ]
    }
   ],
   "source": [
    "df_filtered = df[~(df.eq(df.columns).all(axis=1))]\n",
    "df_filtered.loc[df_filtered[\"k\"].isna(), \"k\"] = df_filtered.loc[df_filtered[\"k\"].isna(), \"n_obs\"] \n",
    "df_filtered = df_filtered.astype(float)"
   ]
  },
  {
   "cell_type": "code",
   "execution_count": null,
   "id": "55d08971-0adc-43e0-8f7a-7d58cba26eaa",
   "metadata": {},
   "outputs": [],
   "source": [
    "df_filtered.set_index([\"k\", \"n_obs\", \"n_var\"])]"
   ]
  },
  {
   "cell_type": "code",
   "execution_count": null,
   "id": "eccbddd9-b5e1-4707-92b8-83370653e521",
   "metadata": {},
   "outputs": [],
   "source": [
    "conc = pd.concat([ram.set_index([\"k\", \"n_obs\", \"n_var\"]), df_filtered.set_index([\"k\", \"n_obs\", \"n_var\"])], axis=1).reset_index()"
   ]
  },
  {
   "cell_type": "code",
   "execution_count": null,
   "id": "b951861e-6a6f-4130-a7f3-eafc1c695865",
   "metadata": {},
   "outputs": [],
   "source": [
    "conc[conc.isna().any(axis=1)].sort_values([\"n_obs\", \"k\"])[[\"k\", \"n_obs\", \"n_var\"]].sort_values([\"k\", \"n_obs\", \"n_var\"])"
   ]
  },
  {
   "cell_type": "code",
   "execution_count": null,
   "id": "1568ccf4-58ea-437e-854c-b5cfadfe2792",
   "metadata": {},
   "outputs": [],
   "source": [
    "conc.dropna()[\"n_var\"].unique()"
   ]
  },
  {
   "cell_type": "code",
   "execution_count": null,
   "id": "043b1232-1255-4c56-a7f4-a5b6231c4234",
   "metadata": {},
   "outputs": [],
   "source": [
    "conc[\"upper_lim_edges\"] = conc[\"k\"] * conc[\"n_obs\"]"
   ]
  },
  {
   "cell_type": "code",
   "execution_count": null,
   "id": "ece71fa3-6d50-45ba-b8f3-e4283f485a58",
   "metadata": {},
   "outputs": [],
   "source": [
    "conc[\"t_total\"] = conc[\"t_NN [s]\"] + conc[\"t_matching [s]\"]"
   ]
  },
  {
   "cell_type": "code",
   "execution_count": null,
   "id": "eee2b937-1b44-4c09-9d28-9979902fef51",
   "metadata": {},
   "outputs": [],
   "source": [
    "f, axs = plt.subplots(1, 2, figsize=(12, 6))\n",
    "\n",
    "X = conc.loc[(conc[\"k\"] > 0) & (conc[\"n_edges\"].notna()), \"n_edges\"].values.reshape(-1, 1)\n",
    "y = conc.loc[(conc[\"k\"] > 0) & (conc[\"n_edges\"].notna()), \"total_ram_gb\"].values.reshape(-1, 1)\n",
    "lr = LinearRegression().fit(X, y)\n",
    "lr.coef_\n",
    "\n",
    "conc[[\"k\", \"n_obs\", \"n_var\"]] = conc[[\"k\", \"n_obs\", \"n_var\"]].astype(int)\n",
    "sns.scatterplot(conc.loc[conc[\"k\"] > 0], ax=axs[0], x=\"n_edges\", y=\"total_ram_gb\", hue=\"n_obs\", size=\"k\", sizes=(50, 200), style=\"n_var\", palette=sns.color_palette(\"hls\", 7), alpha=0.5, legend=False)\n",
    "\n",
    "X_fit = np.linspace(X.min(), X.max(), 100).reshape(-1, 1)\n",
    "y_fit = lr.predict(X_fit)\n",
    "axs[0].plot(X_fit, y_fit, color=\"grey\", label=\"Linear Fit\", ls=\"dotted\")\n",
    "axs[0].set_ylabel(\"Total RAM [GB]\")\n",
    "axs[0].set_xlabel(\"Number of edges in distance graph\")\n",
    "axs[0].set_xscale(\"log\")\n",
    "axs[0].set_title(\"Memory requirements\")\n",
    "\n",
    "sns.scatterplot(conc.loc[conc[\"k\"] > 0], ax=axs[1], x=\"n_obs\", y=\"t_total\", hue=\"n_obs\", size=\"k\", sizes=(50, 200), style=\"n_var\", palette=sns.color_palette(\"hls\", 7), alpha=0.5, legend=\"full\")\n",
    "sns.move_legend(axs[1], loc=\"right\", bbox_to_anchor=(1.24, 0.5))\n",
    "axs[1].set_ylabel(\"Total time [s]\")\n",
    "axs[1].set_xlabel(\"Number of samples\")\n",
    "axs[1].set_title(\"Time requirements\")\n",
    "\n",
    "labels = [\"a\", \"b\"]\n",
    "for i, label in enumerate(labels):\n",
    "    axs[i].text(\n",
    "        -0.05, 1.1,  # Position (normalized figure coordinates)\n",
    "        labels[i],   # Corresponding letter\n",
    "        transform=axs[i].transAxes,  # Relative to subplot\n",
    "        fontsize=10, fontweight='bold', va='top', ha='left'\n",
    "    )\n",
    "    axs[i].tick_params(axis='x', labelrotation=90)\n",
    "\n",
    "plt.tight_layout()"
   ]
  },
  {
   "cell_type": "code",
   "execution_count": null,
   "id": "d3372571-2600-4211-a507-943930482501",
   "metadata": {},
   "outputs": [],
   "source": [
    "conc.loc[conc[\"n_obs\"] == 50000]"
   ]
  },
  {
   "cell_type": "code",
   "execution_count": null,
   "id": "7b0c9f39-c761-4223-a670-f3a617737de7",
   "metadata": {},
   "outputs": [],
   "source": [
    "df.loc[df[\"k\"].isna(), \"k\"] = df.loc[df[\"k\"].isna(), \"#nodes\"] - 1"
   ]
  },
  {
   "cell_type": "code",
   "execution_count": null,
   "id": "cc29c3c7-f3da-4852-81b5-953d833594f3",
   "metadata": {},
   "outputs": [],
   "source": [
    "df.rename({\"test\": \"dose value\", \"s\": \"rel. support\"}, axis=1, inplace=True)"
   ]
  },
  {
   "cell_type": "code",
   "execution_count": null,
   "id": "4e0e7d5a-576a-4c49-bdc5-4b253ccbbdaf",
   "metadata": {},
   "outputs": [],
   "source": [
    "groups = sorted(df[\"dose value\"].unique())"
   ]
  },
  {
   "cell_type": "code",
   "execution_count": null,
   "id": "6b145adf-3c25-4a28-9cf7-bbff0d989114",
   "metadata": {},
   "outputs": [],
   "source": [
    "colors = sns.color_palette(\"hls\", len(groups) + 1)\n",
    "pal = {group: colors[i] for i, group in enumerate(groups + [reference])}"
   ]
  },
  {
   "cell_type": "code",
   "execution_count": null,
   "id": "7eb3006d-a7e5-498c-b6bc-db8acf6a7c12",
   "metadata": {},
   "outputs": [],
   "source": [
    "melted = pd.melt(df[df[\"#nodes\"] >= 1000], id_vars=[\"k\", \"ref\", \"dose value\", \"#nodes\"], var_name=\"metric\")"
   ]
  },
  {
   "cell_type": "code",
   "execution_count": null,
   "id": "4f44eef7-6186-4ae9-9967-495cb359f674",
   "metadata": {},
   "outputs": [],
   "source": [
    "g = sns.relplot(melted, x=\"k\", y=\"value\", row=\"metric\", hue=\"dose value\", col=\"#nodes\", facet_kws={\"sharex\": False, \"sharey\":False}, kind=\"line\", palette=pal, marker=\"o\", linestyle=\"dashed\", height=3, aspect=1)\n",
    "sns.move_legend(g, loc=\"upper center\", ncol=4, bbox_to_anchor=(0.5, 1.05))\n",
    "    \n",
    "labels = string.ascii_lowercase\n",
    "for i in range(len(melted[\"metric\"].unique())):\n",
    "    g.axes[i, 0].text(\n",
    "        -0.05, 1.2,  # Position (normalized figure coordinates)\n",
    "        labels[i],   # Corresponding letter\n",
    "        transform=g.axes[i, 0].transAxes,  # Relative to subplot\n",
    "        fontsize=10, fontweight='bold', va='top', ha='left'\n",
    "    )\n",
    "plt.savefig(\"../plots/matching_weights.pdf\", bbox_inches=\"tight\")"
   ]
  },
  {
   "cell_type": "code",
   "execution_count": null,
   "id": "fa363d38-d692-41a4-bcac-d1e1cbd9fb69",
   "metadata": {},
   "outputs": [],
   "source": []
  },
  {
   "cell_type": "code",
   "execution_count": null,
   "id": "91fe6bda-2056-4037-9cf0-c5617d2fb256",
   "metadata": {},
   "outputs": [],
   "source": []
  }
 ],
 "metadata": {
  "kernelspec": {
   "display_name": "Python 3 (ipykernel)",
   "language": "python",
   "name": "python3"
  },
  "language_info": {
   "codemirror_mode": {
    "name": "ipython",
    "version": 3
   },
   "file_extension": ".py",
   "mimetype": "text/x-python",
   "name": "python",
   "nbconvert_exporter": "python",
   "pygments_lexer": "ipython3",
   "version": "3.10.16"
  }
 },
 "nbformat": 4,
 "nbformat_minor": 5
}
