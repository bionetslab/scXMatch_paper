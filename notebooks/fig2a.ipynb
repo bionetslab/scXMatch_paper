{
 "cells": [
  {
   "cell_type": "code",
   "execution_count": 1,
   "id": "39f6e880-6f8f-4daa-a31a-7f3833b85806",
   "metadata": {},
   "outputs": [],
   "source": [
    "%load_ext autoreload\n",
    "%autoreload 2"
   ]
  },
  {
   "cell_type": "code",
   "execution_count": 2,
   "id": "e0c0c04c-6c9e-463f-9c81-e7597b5be44c",
   "metadata": {},
   "outputs": [],
   "source": [
    "# unscaled, log-normalized counts, with conditions subsampled to the same number of cells \n",
    "# and 2000 highly variable genes calculated jointly across all perturbation conditions, including control, using scanpy28 with default parameters (Supplementary Methods)"
   ]
  },
  {
   "cell_type": "code",
   "execution_count": 3,
   "id": "ec3d5ee8-9908-4635-bfd7-b759312952b4",
   "metadata": {},
   "outputs": [],
   "source": [
    "from anndata import read_h5ad\n",
    "import matplotlib.patches as patches\n",
    "import matplotlib.pyplot as plt\n",
    "import numpy as np\n",
    "import os\n",
    "import pandas as pd \n",
    "import scanpy as sc\n",
    "import seaborn as sns\n",
    "import string\n",
    "import sys\n",
    "sys.path.append(\"../../scxmatch/src/\")\n",
    "from scxmatch import *\n",
    "np.random.seed(42)"
   ]
  },
  {
   "cell_type": "code",
   "execution_count": 4,
   "id": "5c5dbb25-b94e-4a4a-8f39-892b33426770",
   "metadata": {},
   "outputs": [],
   "source": [
    "reference = 0\n",
    "group_by = \"dose_value\""
   ]
  },
  {
   "cell_type": "code",
   "execution_count": 5,
   "id": "c2a48ef6-ecca-4e9d-aa4d-ff725882a6b6",
   "metadata": {},
   "outputs": [
    {
     "name": "stderr",
     "output_type": "stream",
     "text": [
      "/tmp/ipykernel_3803311/3940062803.py:1: ParserWarning: Falling back to the 'python' engine because the 'c' engine does not support regex separators (separators > 1 char and different from '\\s+' are interpreted as regex); you can avoid this warning by specifying engine='python'.\n",
      "  df = pd.concat([pd.read_csv(f\"../evaluation_results/sciplex_MCF7_matching_properties_{group}.txt\", delimiter=\", \").drop([\"p\", \"z\"], axis=1) for group in [10, 100, 1000, 10000]])\n",
      "/tmp/ipykernel_3803311/3940062803.py:1: ParserWarning: Falling back to the 'python' engine because the 'c' engine does not support regex separators (separators > 1 char and different from '\\s+' are interpreted as regex); you can avoid this warning by specifying engine='python'.\n",
      "  df = pd.concat([pd.read_csv(f\"../evaluation_results/sciplex_MCF7_matching_properties_{group}.txt\", delimiter=\", \").drop([\"p\", \"z\"], axis=1) for group in [10, 100, 1000, 10000]])\n",
      "/tmp/ipykernel_3803311/3940062803.py:1: ParserWarning: Falling back to the 'python' engine because the 'c' engine does not support regex separators (separators > 1 char and different from '\\s+' are interpreted as regex); you can avoid this warning by specifying engine='python'.\n",
      "  df = pd.concat([pd.read_csv(f\"../evaluation_results/sciplex_MCF7_matching_properties_{group}.txt\", delimiter=\", \").drop([\"p\", \"z\"], axis=1) for group in [10, 100, 1000, 10000]])\n",
      "/tmp/ipykernel_3803311/3940062803.py:1: ParserWarning: Falling back to the 'python' engine because the 'c' engine does not support regex separators (separators > 1 char and different from '\\s+' are interpreted as regex); you can avoid this warning by specifying engine='python'.\n",
      "  df = pd.concat([pd.read_csv(f\"../evaluation_results/sciplex_MCF7_matching_properties_{group}.txt\", delimiter=\", \").drop([\"p\", \"z\"], axis=1) for group in [10, 100, 1000, 10000]])\n"
     ]
    }
   ],
   "source": [
    "df = pd.concat([pd.read_csv(f\"../evaluation_results/sciplex_MCF7_matching_properties_{group}.txt\", delimiter=\", \").drop([\"p\", \"z\"], axis=1) for group in [10, 100, 1000, 10000]])"
   ]
  },
  {
   "cell_type": "code",
   "execution_count": 6,
   "id": "7b0c9f39-c761-4223-a670-f3a617737de7",
   "metadata": {},
   "outputs": [],
   "source": [
    "df.loc[df[\"k\"].isna(), \"k\"] = df.loc[df[\"k\"].isna(), \"#nodes\"] - 1"
   ]
  },
  {
   "cell_type": "code",
   "execution_count": 7,
   "id": "cc29c3c7-f3da-4852-81b5-953d833594f3",
   "metadata": {},
   "outputs": [],
   "source": [
    "df.rename({\"test\": \"dose value\", \"s\": \"rel. support\"}, axis=1, inplace=True)"
   ]
  },
  {
   "cell_type": "code",
   "execution_count": 8,
   "id": "4e0e7d5a-576a-4c49-bdc5-4b253ccbbdaf",
   "metadata": {},
   "outputs": [],
   "source": [
    "groups = sorted(df[\"dose value\"].unique())"
   ]
  },
  {
   "cell_type": "code",
   "execution_count": 9,
   "id": "6b145adf-3c25-4a28-9cf7-bbff0d989114",
   "metadata": {},
   "outputs": [],
   "source": [
    "colors = sns.color_palette(\"hls\", len(groups) + 1)\n",
    "pal = {group: colors[i] for i, group in enumerate(groups + [reference])}"
   ]
  },
  {
   "cell_type": "code",
   "execution_count": 10,
   "id": "7eb3006d-a7e5-498c-b6bc-db8acf6a7c12",
   "metadata": {},
   "outputs": [],
   "source": [
    "melted = pd.melt(df[df[\"#nodes\"] >= 1000], id_vars=[\"k\", \"ref\", \"dose value\", \"#nodes\"], var_name=\"metric\")"
   ]
  },
  {
   "cell_type": "code",
   "execution_count": null,
   "id": "4f44eef7-6186-4ae9-9967-495cb359f674",
   "metadata": {},
   "outputs": [],
   "source": [
    "g = sns.relplot(melted, x=\"k\", y=\"value\", row=\"metric\", hue=\"dose value\", col=\"#nodes\", facet_kws={\"sharex\": False, \"sharey\":False}, kind=\"line\", palette=pal, marker=\"o\", linestyle=\"dashed\", height=3, aspect=1)\n",
    "sns.move_legend(g, loc=\"upper center\", ncol=4, bbox_to_anchor=(0.5, 1.05))\n",
    "    \n",
    "labels = string.ascii_lowercase\n",
    "for i in range(len(melted[\"metric\"].unique())):\n",
    "    g.axes[i, 0].text(\n",
    "        -0.05, 1.2,  # Position (normalized figure coordinates)\n",
    "        labels[i],   # Corresponding letter\n",
    "        transform=g.axes[i, 0].transAxes,  # Relative to subplot\n",
    "        fontsize=10, fontweight='bold', va='top', ha='left'\n",
    "    )\n",
    "plt.savefig(\"../plots/matching_weights.pdf\", bbox_inches=\"tight\")"
   ]
  },
  {
   "cell_type": "code",
   "execution_count": null,
   "id": "fa363d38-d692-41a4-bcac-d1e1cbd9fb69",
   "metadata": {},
   "outputs": [],
   "source": []
  },
  {
   "cell_type": "code",
   "execution_count": null,
   "id": "91fe6bda-2056-4037-9cf0-c5617d2fb256",
   "metadata": {},
   "outputs": [],
   "source": []
  }
 ],
 "metadata": {
  "kernelspec": {
   "display_name": "Python 3 (ipykernel)",
   "language": "python",
   "name": "python3"
  },
  "language_info": {
   "codemirror_mode": {
    "name": "ipython",
    "version": 3
   },
   "file_extension": ".py",
   "mimetype": "text/x-python",
   "name": "python",
   "nbconvert_exporter": "python",
   "pygments_lexer": "ipython3",
   "version": "3.9.18"
  }
 },
 "nbformat": 4,
 "nbformat_minor": 5
}
