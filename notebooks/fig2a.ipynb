{
 "cells": [
  {
   "cell_type": "code",
   "execution_count": 1,
   "id": "39f6e880-6f8f-4daa-a31a-7f3833b85806",
   "metadata": {},
   "outputs": [],
   "source": [
    "%load_ext autoreload\n",
    "%autoreload 2"
   ]
  },
  {
   "cell_type": "code",
   "execution_count": 2,
   "id": "e0c0c04c-6c9e-463f-9c81-e7597b5be44c",
   "metadata": {},
   "outputs": [],
   "source": [
    "# unscaled, log-normalized counts, with conditions subsampled to the same number of cells \n",
    "# and 2000 highly variable genes calculated jointly across all perturbation conditions, including control, using scanpy28 with default parameters (Supplementary Methods)"
   ]
  },
  {
   "cell_type": "code",
   "execution_count": 3,
   "id": "ec3d5ee8-9908-4635-bfd7-b759312952b4",
   "metadata": {},
   "outputs": [],
   "source": [
    "from anndata import read_h5ad\n",
    "import matplotlib.patches as patches\n",
    "import matplotlib.pyplot as plt\n",
    "import numpy as np\n",
    "import os\n",
    "import pandas as pd \n",
    "import scanpy as sc\n",
    "import seaborn as sns\n",
    "import string\n",
    "import sys\n",
    "from sklearn.linear_model import LinearRegression\n",
    "sys.path.append(\"../../scxmatch/src/\")\n",
    "from scxmatch import *\n",
    "np.random.seed(42)"
   ]
  },
  {
   "cell_type": "code",
   "execution_count": 4,
   "id": "5c5dbb25-b94e-4a4a-8f39-892b33426770",
   "metadata": {},
   "outputs": [],
   "source": [
    "reference = 0\n",
    "group_by = \"dose_value\""
   ]
  },
  {
   "cell_type": "code",
   "execution_count": 19,
   "id": "76d6f07c-89f6-4dfe-890f-84c442f29a1f",
   "metadata": {},
   "outputs": [],
   "source": [
    "ram = pd.read_csv(\"total_RAM.csv\")\n",
    "ram.loc[ram[\"k\"] == 0, \"k\"] = ram.loc[ram[\"k\"] == 0, \"n_obs\"] \n",
    "ram = ram.astype(float)"
   ]
  },
  {
   "cell_type": "code",
   "execution_count": 21,
   "id": "c2a48ef6-ecca-4e9d-aa4d-ff725882a6b6",
   "metadata": {},
   "outputs": [],
   "source": [
    "df = pd.concat([pd.read_csv(f\"../evaluation_results/runtime_memory_log_{n_obs}.txt\", delimiter=\",\") for n_obs in [500, 1000, 2000, 5000, 10000, 20000, 50000]])"
   ]
  },
  {
   "cell_type": "code",
   "execution_count": 22,
   "id": "e075bacb-cf53-465c-8c43-4288124bb1fb",
   "metadata": {},
   "outputs": [],
   "source": [
    "df_filtered = df[~(df.eq(df.columns).all(axis=1))]\n",
    "df_filtered.loc[df_filtered[\"k\"].isna(), \"k\"] = df_filtered.loc[df_filtered[\"k\"].isna(), \"n_obs\"] \n",
    "df_filtered = df_filtered.astype(float)"
   ]
  },
  {
   "cell_type": "code",
   "execution_count": null,
   "id": "55d08971-0adc-43e0-8f7a-7d58cba26eaa",
   "metadata": {},
   "outputs": [],
   "source": [
    "df_filtered.set_index([\"k\", \"n_obs\", \"n_var\"])]"
   ]
  },
  {
   "cell_type": "code",
   "execution_count": 8,
   "id": "eccbddd9-b5e1-4707-92b8-83370653e521",
   "metadata": {},
   "outputs": [],
   "source": [
    "conc = pd.concat([ram.set_index([\"k\", \"n_obs\", \"n_var\"]), df_filtered.set_index([\"k\", \"n_obs\", \"n_var\"])], axis=1).reset_index()"
   ]
  },
  {
   "cell_type": "code",
   "execution_count": 9,
   "id": "b951861e-6a6f-4130-a7f3-eafc1c695865",
   "metadata": {},
   "outputs": [
    {
     "data": {
      "text/html": [
       "<div>\n",
       "<style scoped>\n",
       "    .dataframe tbody tr th:only-of-type {\n",
       "        vertical-align: middle;\n",
       "    }\n",
       "\n",
       "    .dataframe tbody tr th {\n",
       "        vertical-align: top;\n",
       "    }\n",
       "\n",
       "    .dataframe thead th {\n",
       "        text-align: right;\n",
       "    }\n",
       "</style>\n",
       "<table border=\"1\" class=\"dataframe\">\n",
       "  <thead>\n",
       "    <tr style=\"text-align: right;\">\n",
       "      <th></th>\n",
       "      <th>k</th>\n",
       "      <th>n_obs</th>\n",
       "      <th>n_var</th>\n",
       "    </tr>\n",
       "  </thead>\n",
       "  <tbody>\n",
       "    <tr>\n",
       "      <th>162</th>\n",
       "      <td>20.0</td>\n",
       "      <td>20000.0</td>\n",
       "      <td>10.0</td>\n",
       "    </tr>\n",
       "    <tr>\n",
       "      <th>227</th>\n",
       "      <td>50.0</td>\n",
       "      <td>20000.0</td>\n",
       "      <td>10.0</td>\n",
       "    </tr>\n",
       "    <tr>\n",
       "      <th>234</th>\n",
       "      <td>50.0</td>\n",
       "      <td>50000.0</td>\n",
       "      <td>1000.0</td>\n",
       "    </tr>\n",
       "    <tr>\n",
       "      <th>236</th>\n",
       "      <td>50.0</td>\n",
       "      <td>50000.0</td>\n",
       "      <td>2000.0</td>\n",
       "    </tr>\n",
       "    <tr>\n",
       "      <th>55</th>\n",
       "      <td>100.0</td>\n",
       "      <td>10000.0</td>\n",
       "      <td>500.0</td>\n",
       "    </tr>\n",
       "    <tr>\n",
       "      <th>71</th>\n",
       "      <td>100.0</td>\n",
       "      <td>50000.0</td>\n",
       "      <td>500.0</td>\n",
       "    </tr>\n",
       "    <tr>\n",
       "      <th>68</th>\n",
       "      <td>100.0</td>\n",
       "      <td>50000.0</td>\n",
       "      <td>1000.0</td>\n",
       "    </tr>\n",
       "    <tr>\n",
       "      <th>127</th>\n",
       "      <td>200.0</td>\n",
       "      <td>10000.0</td>\n",
       "      <td>2000.0</td>\n",
       "    </tr>\n",
       "    <tr>\n",
       "      <th>135</th>\n",
       "      <td>200.0</td>\n",
       "      <td>20000.0</td>\n",
       "      <td>2000.0</td>\n",
       "    </tr>\n",
       "    <tr>\n",
       "      <th>193</th>\n",
       "      <td>500.0</td>\n",
       "      <td>0.0</td>\n",
       "      <td>500.0</td>\n",
       "    </tr>\n",
       "    <tr>\n",
       "      <th>31</th>\n",
       "      <td>500.0</td>\n",
       "      <td>500.0</td>\n",
       "      <td>500.0</td>\n",
       "    </tr>\n",
       "    <tr>\n",
       "      <th>195</th>\n",
       "      <td>500.0</td>\n",
       "      <td>10000.0</td>\n",
       "      <td>10.0</td>\n",
       "    </tr>\n",
       "    <tr>\n",
       "      <th>202</th>\n",
       "      <td>500.0</td>\n",
       "      <td>20000.0</td>\n",
       "      <td>1000.0</td>\n",
       "    </tr>\n",
       "    <tr>\n",
       "      <th>33</th>\n",
       "      <td>1000.0</td>\n",
       "      <td>10000.0</td>\n",
       "      <td>10.0</td>\n",
       "    </tr>\n",
       "    <tr>\n",
       "      <th>35</th>\n",
       "      <td>1000.0</td>\n",
       "      <td>10000.0</td>\n",
       "      <td>500.0</td>\n",
       "    </tr>\n",
       "    <tr>\n",
       "      <th>45</th>\n",
       "      <td>1000.0</td>\n",
       "      <td>50000.0</td>\n",
       "      <td>10.0</td>\n",
       "    </tr>\n",
       "    <tr>\n",
       "      <th>112</th>\n",
       "      <td>2000.0</td>\n",
       "      <td>10000.0</td>\n",
       "      <td>500.0</td>\n",
       "    </tr>\n",
       "    <tr>\n",
       "      <th>109</th>\n",
       "      <td>2000.0</td>\n",
       "      <td>10000.0</td>\n",
       "      <td>1000.0</td>\n",
       "    </tr>\n",
       "    <tr>\n",
       "      <th>190</th>\n",
       "      <td>5000.0</td>\n",
       "      <td>50000.0</td>\n",
       "      <td>10.0</td>\n",
       "    </tr>\n",
       "  </tbody>\n",
       "</table>\n",
       "</div>"
      ],
      "text/plain": [
       "          k    n_obs   n_var\n",
       "162    20.0  20000.0    10.0\n",
       "227    50.0  20000.0    10.0\n",
       "234    50.0  50000.0  1000.0\n",
       "236    50.0  50000.0  2000.0\n",
       "55    100.0  10000.0   500.0\n",
       "71    100.0  50000.0   500.0\n",
       "68    100.0  50000.0  1000.0\n",
       "127   200.0  10000.0  2000.0\n",
       "135   200.0  20000.0  2000.0\n",
       "193   500.0      0.0   500.0\n",
       "31    500.0    500.0   500.0\n",
       "195   500.0  10000.0    10.0\n",
       "202   500.0  20000.0  1000.0\n",
       "33   1000.0  10000.0    10.0\n",
       "35   1000.0  10000.0   500.0\n",
       "45   1000.0  50000.0    10.0\n",
       "112  2000.0  10000.0   500.0\n",
       "109  2000.0  10000.0  1000.0\n",
       "190  5000.0  50000.0    10.0"
      ]
     },
     "execution_count": 9,
     "metadata": {},
     "output_type": "execute_result"
    }
   ],
   "source": [
    "conc[conc.isna().any(axis=1)].sort_values([\"n_obs\", \"k\"])[[\"k\", \"n_obs\", \"n_var\"]].sort_values([\"k\", \"n_obs\", \"n_var\"])"
   ]
  },
  {
   "cell_type": "code",
   "execution_count": 10,
   "id": "1568ccf4-58ea-437e-854c-b5cfadfe2792",
   "metadata": {},
   "outputs": [
    {
     "data": {
      "text/plain": [
       "array([1000.,   10., 2000.,  500.])"
      ]
     },
     "execution_count": 10,
     "metadata": {},
     "output_type": "execute_result"
    }
   ],
   "source": [
    "conc.dropna()[\"n_var\"].unique()"
   ]
  },
  {
   "cell_type": "code",
   "execution_count": 11,
   "id": "043b1232-1255-4c56-a7f4-a5b6231c4234",
   "metadata": {},
   "outputs": [],
   "source": [
    "conc[\"upper_lim_edges\"] = conc[\"k\"] * conc[\"n_obs\"]"
   ]
  },
  {
   "cell_type": "code",
   "execution_count": 12,
   "id": "ece71fa3-6d50-45ba-b8f3-e4283f485a58",
   "metadata": {},
   "outputs": [],
   "source": [
    "conc[\"t_total\"] = conc[\"t_NN [s]\"] + conc[\"t_matching [s]\"]"
   ]
  },
  {
   "cell_type": "code",
   "execution_count": 13,
   "id": "f311c3b4-772d-45bd-94e7-9195b6632623",
   "metadata": {},
   "outputs": [
    {
     "ename": "NameError",
     "evalue": "name 'sdfdsfgfd' is not defined",
     "output_type": "error",
     "traceback": [
      "\u001b[0;31m---------------------------------------------------------------------------\u001b[0m",
      "\u001b[0;31mNameError\u001b[0m                                 Traceback (most recent call last)",
      "Cell \u001b[0;32mIn[13], line 1\u001b[0m\n\u001b[0;32m----> 1\u001b[0m \u001b[43msdfdsfgfd\u001b[49m\n",
      "\u001b[0;31mNameError\u001b[0m: name 'sdfdsfgfd' is not defined"
     ]
    }
   ],
   "source": [
    "sdfdsfgfd"
   ]
  },
  {
   "cell_type": "code",
   "execution_count": null,
   "id": "eee2b937-1b44-4c09-9d28-9979902fef51",
   "metadata": {},
   "outputs": [],
   "source": [
    "f, axs = plt.subplots(1, 2, figsize=(12, 6))\n",
    "\n",
    "X = conc.loc[(conc[\"k\"] > 0) & (conc[\"n_edges\"].notna()), \"n_edges\"].values.reshape(-1, 1)\n",
    "y = conc.loc[(conc[\"k\"] > 0) & (conc[\"n_edges\"].notna()), \"total_ram_gb\"].values.reshape(-1, 1)\n",
    "lr = LinearRegression().fit(X, y)\n",
    "lr.coef_\n",
    "\n",
    "conc[[\"k\", \"n_obs\", \"n_var\"]] = conc[[\"k\", \"n_obs\", \"n_var\"]].astype(int)\n",
    "sns.scatterplot(conc.loc[conc[\"k\"] > 0], ax=axs[0], x=\"n_edges\", y=\"total_ram_gb\", hue=\"n_obs\", size=\"k\", sizes=(50, 200), style=\"n_var\", palette=sns.color_palette(\"hls\", 7), alpha=0.5, legend=False)\n",
    "\n",
    "X_fit = np.linspace(X.min(), X.max(), 100).reshape(-1, 1)\n",
    "y_fit = lr.predict(X_fit)\n",
    "axs[0].plot(X_fit, y_fit, color=\"grey\", label=\"Linear Fit\", ls=\"dotted\")\n",
    "axs[0].set_ylabel(\"Total RAM [GB]\")\n",
    "axs[0].set_xlabel(\"Number of edges in distance graph\")\n",
    "axs[0].set_xscale(\"log\")\n",
    "axs[0].set_title(\"Memory requirements\")\n",
    "\n",
    "sns.scatterplot(conc.loc[conc[\"k\"] > 0], ax=axs[1], x=\"n_obs\", y=\"t_total\", hue=\"n_obs\", size=\"k\", sizes=(50, 200), style=\"n_var\", palette=sns.color_palette(\"hls\", 7), alpha=0.5, legend=\"full\")\n",
    "sns.move_legend(axs[1], loc=\"right\", bbox_to_anchor=(1.24, 0.5))\n",
    "axs[1].set_ylabel(\"Total time [s]\")\n",
    "axs[1].set_xlabel(\"Number of samples\")\n",
    "axs[1].set_title(\"Time requirements\")\n",
    "\n",
    "labels = [\"a\", \"b\"]\n",
    "for i, label in enumerate(labels):\n",
    "    axs[i].text(\n",
    "        -0.05, 1.1,  # Position (normalized figure coordinates)\n",
    "        labels[i],   # Corresponding letter\n",
    "        transform=axs[i].transAxes,  # Relative to subplot\n",
    "        fontsize=10, fontweight='bold', va='top', ha='left'\n",
    "    )\n",
    "    axs[i].tick_params(axis='x', labelrotation=90)\n",
    "\n",
    "plt.tight_layout()"
   ]
  },
  {
   "cell_type": "code",
   "execution_count": null,
   "id": "d3372571-2600-4211-a507-943930482501",
   "metadata": {},
   "outputs": [],
   "source": [
    "conc.loc[conc[\"n_obs\"] == 50000]"
   ]
  },
  {
   "cell_type": "code",
   "execution_count": null,
   "id": "7b0c9f39-c761-4223-a670-f3a617737de7",
   "metadata": {},
   "outputs": [],
   "source": [
    "df.loc[df[\"k\"].isna(), \"k\"] = df.loc[df[\"k\"].isna(), \"#nodes\"] - 1"
   ]
  },
  {
   "cell_type": "code",
   "execution_count": null,
   "id": "cc29c3c7-f3da-4852-81b5-953d833594f3",
   "metadata": {},
   "outputs": [],
   "source": [
    "df.rename({\"test\": \"dose value\", \"s\": \"rel. support\"}, axis=1, inplace=True)"
   ]
  },
  {
   "cell_type": "code",
   "execution_count": null,
   "id": "4e0e7d5a-576a-4c49-bdc5-4b253ccbbdaf",
   "metadata": {},
   "outputs": [],
   "source": [
    "groups = sorted(df[\"dose value\"].unique())"
   ]
  },
  {
   "cell_type": "code",
   "execution_count": null,
   "id": "6b145adf-3c25-4a28-9cf7-bbff0d989114",
   "metadata": {},
   "outputs": [],
   "source": [
    "colors = sns.color_palette(\"hls\", len(groups) + 1)\n",
    "pal = {group: colors[i] for i, group in enumerate(groups + [reference])}"
   ]
  },
  {
   "cell_type": "code",
   "execution_count": null,
   "id": "7eb3006d-a7e5-498c-b6bc-db8acf6a7c12",
   "metadata": {},
   "outputs": [],
   "source": [
    "melted = pd.melt(df[df[\"#nodes\"] >= 1000], id_vars=[\"k\", \"ref\", \"dose value\", \"#nodes\"], var_name=\"metric\")"
   ]
  },
  {
   "cell_type": "code",
   "execution_count": null,
   "id": "4f44eef7-6186-4ae9-9967-495cb359f674",
   "metadata": {},
   "outputs": [],
   "source": [
    "g = sns.relplot(melted, x=\"k\", y=\"value\", row=\"metric\", hue=\"dose value\", col=\"#nodes\", facet_kws={\"sharex\": False, \"sharey\":False}, kind=\"line\", palette=pal, marker=\"o\", linestyle=\"dashed\", height=3, aspect=1)\n",
    "sns.move_legend(g, loc=\"upper center\", ncol=4, bbox_to_anchor=(0.5, 1.05))\n",
    "    \n",
    "labels = string.ascii_lowercase\n",
    "for i in range(len(melted[\"metric\"].unique())):\n",
    "    g.axes[i, 0].text(\n",
    "        -0.05, 1.2,  # Position (normalized figure coordinates)\n",
    "        labels[i],   # Corresponding letter\n",
    "        transform=g.axes[i, 0].transAxes,  # Relative to subplot\n",
    "        fontsize=10, fontweight='bold', va='top', ha='left'\n",
    "    )\n",
    "plt.savefig(\"../plots/matching_weights.pdf\", bbox_inches=\"tight\")"
   ]
  },
  {
   "cell_type": "code",
   "execution_count": null,
   "id": "fa363d38-d692-41a4-bcac-d1e1cbd9fb69",
   "metadata": {},
   "outputs": [],
   "source": []
  },
  {
   "cell_type": "code",
   "execution_count": null,
   "id": "91fe6bda-2056-4037-9cf0-c5617d2fb256",
   "metadata": {},
   "outputs": [],
   "source": []
  }
 ],
 "metadata": {
  "kernelspec": {
   "display_name": "Python 3 (ipykernel)",
   "language": "python",
   "name": "python3"
  },
  "language_info": {
   "codemirror_mode": {
    "name": "ipython",
    "version": 3
   },
   "file_extension": ".py",
   "mimetype": "text/x-python",
   "name": "python",
   "nbconvert_exporter": "python",
   "pygments_lexer": "ipython3",
   "version": "3.10.16"
  }
 },
 "nbformat": 4,
 "nbformat_minor": 5
}
