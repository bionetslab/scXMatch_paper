{
 "cells": [
  {
   "cell_type": "code",
   "execution_count": 1,
   "id": "39f6e880-6f8f-4daa-a31a-7f3833b85806",
   "metadata": {},
   "outputs": [],
   "source": [
    "%load_ext autoreload\n",
    "%autoreload 2"
   ]
  },
  {
   "cell_type": "code",
   "execution_count": 2,
   "id": "e0c0c04c-6c9e-463f-9c81-e7597b5be44c",
   "metadata": {},
   "outputs": [],
   "source": [
    "# unscaled, log-normalized counts, with conditions subsampled to the same number of cells \n",
    "# and 2000 highly variable genes calculated jointly across all perturbation conditions, including control, using scanpy28 with default parameters (Supplementary Methods)"
   ]
  },
  {
   "cell_type": "code",
   "execution_count": 3,
   "id": "ec3d5ee8-9908-4635-bfd7-b759312952b4",
   "metadata": {},
   "outputs": [
    {
     "name": "stdout",
     "output_type": "stream",
     "text": [
      "found cupy installation, will try use the GPU to calculate the distance matrix.\n"
     ]
    }
   ],
   "source": [
    "from anndata import read_h5ad\n",
    "import matplotlib.patches as patches\n",
    "import matplotlib.pyplot as plt\n",
    "import numpy as np\n",
    "import os\n",
    "import pandas as pd \n",
    "import scanpy as sc\n",
    "import seaborn as sns\n",
    "import string\n",
    "import sys\n",
    "sys.path.append(\"../../scxmatch/src/\")\n",
    "from scxmatch import *\n",
    "np.random.seed(42)"
   ]
  },
  {
   "cell_type": "code",
   "execution_count": 4,
   "id": "a8416321-a0c7-4cc3-8cfd-26ebb998ebfe",
   "metadata": {},
   "outputs": [],
   "source": [
    "def subsample_adata(adata, group_by):\n",
    "    min_count = 5000 #adata.obs[group_by].value_counts().min()\n",
    "    adata_subsampled = adata.copy()\n",
    "    sampled_indices = []\n",
    "    \n",
    "    for dose in adata.obs[group_by].unique():\n",
    "        group_indices = adata.obs[adata.obs[group_by] == dose].index\n",
    "        sampled_group_indices = np.random.choice(group_indices, min_count, replace=False)\n",
    "        sampled_indices.extend(sampled_group_indices)\n",
    "    \n",
    "    adata_subsampled = adata_subsampled[sampled_indices, :]\n",
    "    return adata_subsampled"
   ]
  },
  {
   "cell_type": "code",
   "execution_count": 5,
   "id": "7e8f1538-4e03-4015-aaf0-602530ac0382",
   "metadata": {},
   "outputs": [],
   "source": [
    "def categorize_perturbation(value):\n",
    "    if value == \"control\":\n",
    "        return \"control\"\n",
    "    elif \"_6\" in value:\n",
    "        return \"t_6\"\n",
    "    elif \"_24\" in value:\n",
    "        return \"t_24\"\n",
    "    else:\n",
    "        return \"unknown\""
   ]
  },
  {
   "cell_type": "code",
   "execution_count": 6,
   "id": "b9e7184c-77d0-4480-b068-dc6cb5d1aeeb",
   "metadata": {},
   "outputs": [],
   "source": []
  },
  {
   "cell_type": "code",
   "execution_count": 7,
   "id": "88e63db9-6719-41c8-99aa-2fad2d105e0f",
   "metadata": {},
   "outputs": [],
   "source": [
    "def odd_components(G):\n",
    "    _, hist = gt.label_components(G)\n",
    "    print(hist)\n",
    "    return np.sum(hist % 2)"
   ]
  },
  {
   "cell_type": "code",
   "execution_count": 8,
   "id": "5c5dbb25-b94e-4a4a-8f39-892b33426770",
   "metadata": {},
   "outputs": [],
   "source": [
    "test_group = 10000\n",
    "reference = 0\n",
    "group_by = \"dose_value\""
   ]
  },
  {
   "cell_type": "code",
   "execution_count": 38,
   "id": "424ee95e-71f7-49a0-aadd-cb56f0b56502",
   "metadata": {},
   "outputs": [],
   "source": [
    "adata = read_h5ad(\"/data_nfs/datasets/scrnaseq_ji/sciplex_MCF7.hdf5\")"
   ]
  },
  {
   "cell_type": "code",
   "execution_count": 40,
   "id": "980dd6ea-96be-4521-83fb-b17611aa4ab8",
   "metadata": {},
   "outputs": [
    {
     "data": {
      "text/plain": [
       "3927"
      ]
     },
     "execution_count": 40,
     "metadata": {},
     "output_type": "execute_result"
    }
   ],
   "source": [
    "# A549\n",
    "adata.obs.dose_value.value_counts()[reference]"
   ]
  },
  {
   "cell_type": "code",
   "execution_count": 12,
   "id": "e2f2ab5c-36bf-4ce4-b6ed-55d34c1d3dac",
   "metadata": {},
   "outputs": [],
   "source": [
    "adata = adata[adata.obs[group_by].isin([test_group, reference]), :].copy()\n",
    "adata = scanpy_setup(adata)"
   ]
  },
  {
   "cell_type": "code",
   "execution_count": 13,
   "id": "daa1b665-8116-457a-8b30-55611aae78b4",
   "metadata": {},
   "outputs": [
    {
     "name": "stdout",
     "output_type": "stream",
     "text": [
      "calculating kNN graph.\n"
     ]
    },
    {
     "name": "stderr",
     "output_type": "stream",
     "text": [
      "/data/bionets/je30bery/anaconda3/envs/gt-292/lib/python3.10/site-packages/tqdm/auto.py:21: TqdmWarning: IProgress not found. Please update jupyter and ipywidgets. See https://ipywidgets.readthedocs.io/en/stable/user_install.html\n",
      "  from .autonotebook import tqdm as notebook_tqdm\n"
     ]
    }
   ],
   "source": [
    "kNN(adata, k=20, metric=\"sqeuclidean\")"
   ]
  },
  {
   "cell_type": "code",
   "execution_count": 14,
   "id": "9e1bb648-651b-48e7-887d-e1972bb1ff7c",
   "metadata": {},
   "outputs": [],
   "source": [
    "G = construct_graph_via_kNN(adata)"
   ]
  },
  {
   "cell_type": "code",
   "execution_count": 32,
   "id": "bb7e4052-8227-4bf7-8a3d-ce8cbb11c339",
   "metadata": {},
   "outputs": [
    {
     "data": {
      "text/plain": [
       "5087271.946472168"
      ]
     },
     "execution_count": 32,
     "metadata": {},
     "output_type": "execute_result"
    }
   ],
   "source": []
  },
  {
   "cell_type": "code",
   "execution_count": 31,
   "id": "23c1cf48-a05e-4acc-be83-bf1d9e028038",
   "metadata": {},
   "outputs": [
    {
     "data": {
      "text/plain": [
       "5087271.946472168"
      ]
     },
     "execution_count": 31,
     "metadata": {},
     "output_type": "execute_result"
    }
   ],
   "source": []
  },
  {
   "cell_type": "code",
   "execution_count": 26,
   "id": "72d26886-a7da-491c-aa54-9167a1754113",
   "metadata": {},
   "outputs": [
    {
     "ename": "TypeError",
     "evalue": "list indices must be integers or slices, not Edge",
     "output_type": "error",
     "traceback": [
      "\u001b[0;31m---------------------------------------------------------------------------\u001b[0m",
      "\u001b[0;31mTypeError\u001b[0m                                 Traceback (most recent call last)",
      "Cell \u001b[0;32mIn[26], line 1\u001b[0m\n\u001b[0;32m----> 1\u001b[0m \u001b[43mcompute_matching_cost\u001b[49m\u001b[43m(\u001b[49m\u001b[43mG\u001b[49m\u001b[43m,\u001b[49m\u001b[43m \u001b[49m\u001b[43mmatching\u001b[49m\u001b[43m,\u001b[49m\u001b[43m \u001b[49m\u001b[43mG\u001b[49m\u001b[38;5;241;43m.\u001b[39;49m\u001b[43medge_properties\u001b[49m\u001b[43m[\u001b[49m\u001b[38;5;124;43m'\u001b[39;49m\u001b[38;5;124;43mweight\u001b[39;49m\u001b[38;5;124;43m'\u001b[39;49m\u001b[43m]\u001b[49m\u001b[43m)\u001b[49m\n",
      "Cell \u001b[0;32mIn[6], line 3\u001b[0m, in \u001b[0;36mcompute_matching_cost\u001b[0;34m(g, matching, weight_map)\u001b[0m\n\u001b[1;32m      1\u001b[0m \u001b[38;5;28;01mdef\u001b[39;00m\u001b[38;5;250m \u001b[39m\u001b[38;5;21mcompute_matching_cost\u001b[39m(g, matching, weight_map):\n\u001b[1;32m      2\u001b[0m \u001b[38;5;250m    \u001b[39m\u001b[38;5;124;03m\"\"\" Computes the total weight of the given matching. \"\"\"\u001b[39;00m\n\u001b[0;32m----> 3\u001b[0m     total_cost \u001b[38;5;241m=\u001b[39m \u001b[38;5;28;43msum\u001b[39;49m\u001b[43m(\u001b[49m\u001b[43mweight_map\u001b[49m\u001b[43m[\u001b[49m\u001b[43me\u001b[49m\u001b[43m]\u001b[49m\u001b[43m \u001b[49m\u001b[38;5;28;43;01mfor\u001b[39;49;00m\u001b[43m \u001b[49m\u001b[43me\u001b[49m\u001b[43m \u001b[49m\u001b[38;5;129;43;01min\u001b[39;49;00m\u001b[43m \u001b[49m\u001b[43mg\u001b[49m\u001b[38;5;241;43m.\u001b[39;49m\u001b[43medges\u001b[49m\u001b[43m(\u001b[49m\u001b[43m)\u001b[49m\u001b[43m \u001b[49m\u001b[38;5;28;43;01mif\u001b[39;49;00m\u001b[43m \u001b[49m\u001b[43mmatching\u001b[49m\u001b[43m[\u001b[49m\u001b[43me\u001b[49m\u001b[43m]\u001b[49m\u001b[43m)\u001b[49m\n\u001b[1;32m      4\u001b[0m     \u001b[38;5;28;01mreturn\u001b[39;00m total_cost\n",
      "Cell \u001b[0;32mIn[6], line 3\u001b[0m, in \u001b[0;36m<genexpr>\u001b[0;34m(.0)\u001b[0m\n\u001b[1;32m      1\u001b[0m \u001b[38;5;28;01mdef\u001b[39;00m\u001b[38;5;250m \u001b[39m\u001b[38;5;21mcompute_matching_cost\u001b[39m(g, matching, weight_map):\n\u001b[1;32m      2\u001b[0m \u001b[38;5;250m    \u001b[39m\u001b[38;5;124;03m\"\"\" Computes the total weight of the given matching. \"\"\"\u001b[39;00m\n\u001b[0;32m----> 3\u001b[0m     total_cost \u001b[38;5;241m=\u001b[39m \u001b[38;5;28msum\u001b[39m(weight_map[e] \u001b[38;5;28;01mfor\u001b[39;00m e \u001b[38;5;129;01min\u001b[39;00m g\u001b[38;5;241m.\u001b[39medges() \u001b[38;5;28;01mif\u001b[39;00m \u001b[43mmatching\u001b[49m\u001b[43m[\u001b[49m\u001b[43me\u001b[49m\u001b[43m]\u001b[49m)\n\u001b[1;32m      4\u001b[0m     \u001b[38;5;28;01mreturn\u001b[39;00m total_cost\n",
      "\u001b[0;31mTypeError\u001b[0m: list indices must be integers or slices, not Edge"
     ]
    }
   ],
   "source": [
    "compute_matching_cost(G, matching, )"
   ]
  },
  {
   "cell_type": "code",
   "execution_count": 19,
   "id": "1a941f8b-5cc0-4a00-904f-83a4cace911a",
   "metadata": {},
   "outputs": [
    {
     "name": "stderr",
     "output_type": "stream",
     "text": [
      "/data_nfs/je30bery/rosenbaum_test/notebooks/../../scxmatch/src/scxmatch/rosenbaum.py:154: ImplicitModificationWarning: Trying to modify attribute `.obs` of view, initializing view as actual.\n",
      "  adata.obs[\"XMatch_group\"] = np.where(adata.obs[group_by].isin(test_group), \"test\", \"reference\")\n"
     ]
    },
    {
     "name": "stdout",
     "output_type": "stream",
     "text": [
      "XMatch_group\n",
      "test         5000\n",
      "reference    5000\n",
      "Name: count, dtype: int64\n",
      "calculating kNN graph.\n",
      "counting cross matches.\n"
     ]
    }
   ],
   "source": [
    "(p, z, s), G, matching = rosenbaum(adata, reference=reference, group_by=group_by, test_group=test_group, metric=\"sqeuclidean\", k=20, return_matching=True)"
   ]
  },
  {
   "cell_type": "code",
   "execution_count": 23,
   "id": "199e82b2-faca-4119-8e73-f56d8fecd1e3",
   "metadata": {},
   "outputs": [
    {
     "data": {
      "text/plain": [
       "10000"
      ]
     },
     "execution_count": 23,
     "metadata": {},
     "output_type": "execute_result"
    }
   ],
   "source": [
    "len(G.get_vertices())"
   ]
  },
  {
   "cell_type": "code",
   "execution_count": 21,
   "id": "e0000def-f5eb-4816-a46a-125eae6a7cd2",
   "metadata": {},
   "outputs": [
    {
     "name": "stdout",
     "output_type": "stream",
     "text": [
      "[10000]\n"
     ]
    },
    {
     "data": {
      "text/plain": [
       "0"
      ]
     },
     "execution_count": 21,
     "metadata": {},
     "output_type": "execute_result"
    }
   ],
   "source": [
    "odd_components(G)"
   ]
  },
  {
   "cell_type": "code",
   "execution_count": 20,
   "id": "4a11f814-ff76-4702-aa2b-304d6446ae41",
   "metadata": {},
   "outputs": [
    {
     "data": {
      "text/plain": [
       "0.844"
      ]
     },
     "execution_count": 20,
     "metadata": {},
     "output_type": "execute_result"
    }
   ],
   "source": [
    "s"
   ]
  },
  {
   "cell_type": "code",
   "execution_count": null,
   "id": "f7d37d3f-3561-4bbb-a137-44542e9160c2",
   "metadata": {},
   "outputs": [],
   "source": [
    "group_by = \"dose_value\"\n",
    "reference = 0.0"
   ]
  },
  {
   "cell_type": "code",
   "execution_count": null,
   "id": "2c160de3-daa4-4873-bd48-7ee0e75c02bd",
   "metadata": {},
   "outputs": [],
   "source": [
    "adata = prepare(adata)\n",
    "#mcf7 = prepare(a2)\n",
    "#k562 = prepare(a3)"
   ]
  },
  {
   "cell_type": "code",
   "execution_count": null,
   "id": "a2ba1a79-2506-473b-88db-15082b4ffc1f",
   "metadata": {},
   "outputs": [],
   "source": []
  },
  {
   "cell_type": "code",
   "execution_count": null,
   "id": "3b42663c-2266-4499-835c-bc2b4ac1b8be",
   "metadata": {},
   "outputs": [],
   "source": [
    "dfs = pd.read_csv(\"../plots/fig2/sciplex_MCF7_combined_results_k_influence_k_small.csv\")\n",
    "groups = sorted(dfs[\"control_group\"].unique())\n",
    "dfs.set_index([\"control_group\", \"metric\"], inplace=True)\n",
    "\n",
    "#dfs_2 = pd.read_csv(\"../plots/fig2/sciplex_A549_combined_results_k_influence_k_small.csv\").drop(columns=[\"7543\"])\n",
    "\n",
    "#for dfs in [dfs_1, dfs_2]:\n",
    "#    dfs.rename({\"Unnamed: 0\": \"control_group\", \"Unnamed: 1\": \"metric\"}, axis=1, inplace=True)\n",
    "#    groups = sorted(dfs[\"control_group\"].unique())\n",
    "#    dfs.set_index([\"control_group\", \"metric\"], inplace=True)\n",
    "#dfs = pd.concat([dfs_1, dfs_2], axis=1)"
   ]
  },
  {
   "cell_type": "code",
   "execution_count": null,
   "id": "a8b29a6d-07b5-49c3-975f-0b55991e4f5c",
   "metadata": {},
   "outputs": [],
   "source": [
    "dfs.columns"
   ]
  },
  {
   "cell_type": "code",
   "execution_count": null,
   "id": "6b145adf-3c25-4a28-9cf7-bbff0d989114",
   "metadata": {},
   "outputs": [],
   "source": [
    "colors = sns.color_palette(\"hls\", len(groups) + 1)\n",
    "pal = {group: colors[i] for i, group in enumerate(groups + [reference])}"
   ]
  },
  {
   "cell_type": "code",
   "execution_count": null,
   "id": "9bb8cad5-3d24-4519-be17-2a682a3c9d89",
   "metadata": {},
   "outputs": [],
   "source": [
    "adata.obs[group_by] = adata.obs[group_by].astype('category')\n",
    "colors = [pal[v] for v in adata.obs[group_by].values]"
   ]
  },
  {
   "cell_type": "code",
   "execution_count": null,
   "id": "a7677666-4ce1-478e-9e95-d7083b9da38d",
   "metadata": {},
   "outputs": [],
   "source": [
    "dfs.sort_index(axis=1).sort_index(axis=0, inplace=True)"
   ]
  },
  {
   "cell_type": "code",
   "execution_count": null,
   "id": "9721b024-6b14-4986-9937-200bd2a4ef50",
   "metadata": {},
   "outputs": [],
   "source": [
    "fig, axes = plt.subplots(2, 3, figsize=(12, 8), sharex=False)\n",
    "\n",
    "k_values = np.unique(dfs.columns.astype(int))\n",
    "\n",
    "# Define subplot labels: 'a', 'b', 'c', etc.\n",
    "labels = string.ascii_lowercase  \n",
    "\n",
    "# Create a single figure with 5 subplots in one row\n",
    "metrics = ['p-val', 'z-score', 'relative support', 'Percentage of reference matching edges in matching', 'Number of edges']\n",
    "#axes[0,0].scatter(x=adata.obsm[\"X_umap\"][:,0], y=adata.obsm[\"X_umap\"][:,1], alpha=0.5, s=2, c=colors)\n",
    "#axes[0,0].set_title(\"UMAP\")\n",
    "#axes[0,0].set_xticks([], [])\n",
    "#axes[0,0].set_yticks([], [])\n",
    "\n",
    "for i, metric in enumerate(metrics):\n",
    "    x, y = (i + 1) // 3, (i + 1) % 3\n",
    "    for group in groups:\n",
    "        df = dfs.loc[group]\n",
    "        df = df[np.array(sorted(df.columns.astype(int))).astype(str)]\n",
    "        if metric == \"Percentage of reference matching edges in matching\":\n",
    "            df.loc[metric] *= 100\n",
    "        x_positions = np.searchsorted(k_values, df.columns.astype(int))\n",
    "        axes[x, y].plot(x_positions, df.loc[metric], 'o--', label=group, color=pal[group], alpha=0.7)\n",
    "    if metric in ['p-val']:\n",
    "        axes[x, y].set_yscale('log')\n",
    "    axes[x, y].set_title(metric.replace(\"Percentage of reference matching edges in matching\", \"contained % of perfect edges\").replace(\"p-val\", \"$P$-val\").replace(\"z-score\", \"$z$-score\"))\n",
    "    axes[x, y].set_xlabel('k')\n",
    "    axes[x, y].set_xticks(ticks=(np.unique(x_positions)))\n",
    "\n",
    "    axes[x, y].set_xticklabels(labels=k_values.astype(str)) \n",
    "    axes[x, y].tick_params(axis='x', labelrotation=90)\n",
    "    \n",
    "\n",
    "for i in range(np.prod(axes.shape)):\n",
    "    x, y = i // 3, i % 3\n",
    "    axes[x, y].text(\n",
    "        -0.05, 1.1,  # Position (normalized figure coordinates)\n",
    "        labels[i],   # Corresponding letter\n",
    "        transform=axes[x, y].transAxes,  # Relative to subplot\n",
    "        fontsize=10, fontweight='bold', va='top', ha='left'\n",
    "    )\n",
    "    \n",
    "pal[\"Control\"] = pal[0.0]\n",
    "del pal[0.0]\n",
    "handles = [patches.Patch(color=color, label=label) for label, color in pal.items()]\n",
    "fig.legend(handles=handles, loc=\"upper center\", bbox_to_anchor=(0.5, 1.07), ncol=len(pal), title=\"Dose value\")\n",
    "plt.tight_layout()\n",
    "plt.savefig(\"../plots/fig2/fig2-1_A549.pdf\", bbox_inches=\"tight\")"
   ]
  },
  {
   "cell_type": "code",
   "execution_count": null,
   "id": "fa363d38-d692-41a4-bcac-d1e1cbd9fb69",
   "metadata": {},
   "outputs": [],
   "source": []
  }
 ],
 "metadata": {
  "kernelspec": {
   "display_name": "Python 3 (ipykernel)",
   "language": "python",
   "name": "python3"
  },
  "language_info": {
   "codemirror_mode": {
    "name": "ipython",
    "version": 3
   },
   "file_extension": ".py",
   "mimetype": "text/x-python",
   "name": "python",
   "nbconvert_exporter": "python",
   "pygments_lexer": "ipython3",
   "version": "3.10.16"
  }
 },
 "nbformat": 4,
 "nbformat_minor": 5
}
