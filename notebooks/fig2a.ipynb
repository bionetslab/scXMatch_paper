{
 "cells": [
  {
   "cell_type": "code",
   "execution_count": 1,
   "id": "39f6e880-6f8f-4daa-a31a-7f3833b85806",
   "metadata": {},
   "outputs": [],
   "source": [
    "%load_ext autoreload\n",
    "%autoreload 2"
   ]
  },
  {
   "cell_type": "code",
   "execution_count": 2,
   "id": "e0c0c04c-6c9e-463f-9c81-e7597b5be44c",
   "metadata": {},
   "outputs": [],
   "source": [
    "# unscaled, log-normalized counts, with conditions subsampled to the same number of cells \n",
    "# and 2000 highly variable genes calculated jointly across all perturbation conditions, including control, using scanpy28 with default parameters (Supplementary Methods)"
   ]
  },
  {
   "cell_type": "code",
   "execution_count": 3,
   "id": "ec3d5ee8-9908-4635-bfd7-b759312952b4",
   "metadata": {},
   "outputs": [],
   "source": [
    "from anndata import read_h5ad\n",
    "import matplotlib.patches as patches\n",
    "import matplotlib.pyplot as plt\n",
    "import numpy as np\n",
    "import os\n",
    "import pandas as pd \n",
    "import scanpy as sc\n",
    "import seaborn as sns\n",
    "import string\n",
    "import sys\n",
    "\n",
    "np.random.seed(42)"
   ]
  },
  {
   "cell_type": "code",
   "execution_count": 4,
   "id": "a8416321-a0c7-4cc3-8cfd-26ebb998ebfe",
   "metadata": {},
   "outputs": [],
   "source": [
    "def subsample_adata(adata, group_by):\n",
    "    min_count = adata.obs[group_by].value_counts().min()\n",
    "    adata_subsampled = adata.copy()\n",
    "    sampled_indices = []\n",
    "    \n",
    "    for dose in adata.obs[group_by].unique():\n",
    "        group_indices = adata.obs[adata.obs[group_by] == dose].index\n",
    "        sampled_group_indices = np.random.choice(group_indices, min_count, replace=False)\n",
    "        sampled_indices.extend(sampled_group_indices)\n",
    "    \n",
    "    adata_subsampled = adata_subsampled[sampled_indices, :]\n",
    "    return adata_subsampled"
   ]
  },
  {
   "cell_type": "code",
   "execution_count": 5,
   "id": "7e8f1538-4e03-4015-aaf0-602530ac0382",
   "metadata": {},
   "outputs": [],
   "source": [
    "def categorize_perturbation(value):\n",
    "    if value == \"control\":\n",
    "        return \"control\"\n",
    "    elif \"_6\" in value:\n",
    "        return \"t_6\"\n",
    "    elif \"_24\" in value:\n",
    "        return \"t_24\"\n",
    "    else:\n",
    "        return \"unknown\""
   ]
  },
  {
   "cell_type": "code",
   "execution_count": 6,
   "id": "28d3d59b-b1a7-4ccf-8388-85387c72a8d6",
   "metadata": {},
   "outputs": [],
   "source": [
    "def prepare(adata):\n",
    "    sc.pp.log1p(adata)\n",
    "    sc.pp.highly_variable_genes(adata, n_top_genes=2000)\n",
    "    adata = adata[:, adata.var.highly_variable]\n",
    "    adata.obs[group_by] = adata.obs[group_by].astype('category')\n",
    "    sc.pp.neighbors(adata, n_pcs=0)\n",
    "    sc.tl.umap(adata)\n",
    "    return adata"
   ]
  },
  {
   "cell_type": "code",
   "execution_count": 7,
   "id": "424ee95e-71f7-49a0-aadd-cb56f0b56502",
   "metadata": {},
   "outputs": [],
   "source": [
    "adata = read_h5ad(\"/data/bionets/datasets/scrnaseq_ji/sciplex_A549.hdf5\")\n",
    "#a2 = subsample_adata(read_h5ad(\"/mnt/data/sciplex_MCF7.hdf5\"), \"dose_value\")\n",
    "#a3 = subsample_adata(read_h5ad(\"/mnt/data/sciplex_K562.hdf5\"), \"dose_value\")"
   ]
  },
  {
   "cell_type": "code",
   "execution_count": 8,
   "id": "c0a08952-a7ec-443c-942c-85aa6e0fb3e8",
   "metadata": {},
   "outputs": [],
   "source": [
    "#adata.obs[\"time_point\"] = adata.obs[\"perturbation\"].apply(categorize_perturbation)\n",
    "#group_by = \"time_point\"\n",
    "#reference = \"control\""
   ]
  },
  {
   "cell_type": "code",
   "execution_count": 9,
   "id": "f7d37d3f-3561-4bbb-a137-44542e9160c2",
   "metadata": {},
   "outputs": [],
   "source": [
    "group_by = \"dose_value\"\n",
    "reference = 0.0"
   ]
  },
  {
   "cell_type": "code",
   "execution_count": null,
   "id": "2c160de3-daa4-4873-bd48-7ee0e75c02bd",
   "metadata": {},
   "outputs": [
    {
     "name": "stderr",
     "output_type": "stream",
     "text": [
      "/tmp/ipykernel_115575/2966470283.py:5: ImplicitModificationWarning: Trying to modify attribute `.obs` of view, initializing view as actual.\n",
      "  adata.obs[group_by] = adata.obs[group_by].astype('category')\n"
     ]
    }
   ],
   "source": [
    "adata = prepare(adata)\n",
    "#mcf7 = prepare(a2)\n",
    "#k562 = prepare(a3)"
   ]
  },
  {
   "cell_type": "code",
   "execution_count": null,
   "id": "3b42663c-2266-4499-835c-bc2b4ac1b8be",
   "metadata": {},
   "outputs": [],
   "source": [
    "dfs_1 = pd.read_csv(\"../plots/fig2/sciplex_A549_combined_results_k_influence.csv\")\n",
    "dfs_2 = pd.read_csv(\"../plots/fig2/sciplex_A549_combined_results_k_influence_k_small.csv\").drop(columns=[\"7543\"])\n",
    "\n",
    "for dfs in [dfs_1, dfs_2]:\n",
    "    dfs.rename({\"Unnamed: 0\": \"control_group\", \"Unnamed: 1\": \"metric\"}, axis=1, inplace=True)\n",
    "    groups = sorted(dfs[\"control_group\"].unique())\n",
    "    dfs.set_index([\"control_group\", \"metric\"], inplace=True)\n",
    "dfs = pd.concat([dfs_1, dfs_2], axis=1)"
   ]
  },
  {
   "cell_type": "code",
   "execution_count": null,
   "id": "a8b29a6d-07b5-49c3-975f-0b55991e4f5c",
   "metadata": {},
   "outputs": [],
   "source": [
    "dfs.columns"
   ]
  },
  {
   "cell_type": "code",
   "execution_count": null,
   "id": "6b145adf-3c25-4a28-9cf7-bbff0d989114",
   "metadata": {},
   "outputs": [],
   "source": [
    "colors = sns.color_palette(\"hls\", len(groups) + 1)\n",
    "pal = {group: colors[i] for i, group in enumerate(groups + [reference])}"
   ]
  },
  {
   "cell_type": "code",
   "execution_count": null,
   "id": "9bb8cad5-3d24-4519-be17-2a682a3c9d89",
   "metadata": {},
   "outputs": [],
   "source": [
    "adata.obs[group_by] = adata.obs[group_by].astype('category')\n",
    "colors = [pal[v] for v in adata.obs[group_by].values]"
   ]
  },
  {
   "cell_type": "code",
   "execution_count": null,
   "id": "a7677666-4ce1-478e-9e95-d7083b9da38d",
   "metadata": {},
   "outputs": [],
   "source": [
    "dfs.sort_index(axis=1).sort_index(axis=0, inplace=True)"
   ]
  },
  {
   "cell_type": "code",
   "execution_count": null,
   "id": "9721b024-6b14-4986-9937-200bd2a4ef50",
   "metadata": {},
   "outputs": [],
   "source": [
    "fig, axes = plt.subplots(2, 3, figsize=(12, 8), sharex=False)\n",
    "\n",
    "k_values = np.unique(dfs.columns.astype(int))\n",
    "\n",
    "# Define subplot labels: 'a', 'b', 'c', etc.\n",
    "labels = string.ascii_lowercase  \n",
    "\n",
    "# Create a single figure with 5 subplots in one row\n",
    "metrics = ['p-val', 'z-score', 'relative support', 'Percentage of reference matching edges in matching', 'Number of edges']\n",
    "axes[0,0].scatter(x=adata.obsm[\"X_umap\"][:,0], y=adata.obsm[\"X_umap\"][:,1], alpha=0.5, s=2, c=colors)\n",
    "axes[0,0].set_title(\"UMAP\")\n",
    "axes[0,0].set_xticks([], [])\n",
    "axes[0,0].set_yticks([], [])\n",
    "\n",
    "for i, metric in enumerate(metrics):\n",
    "    x, y = (i + 1) // 3, (i + 1) % 3\n",
    "    for group in groups:\n",
    "        df = dfs.loc[group]\n",
    "        df = df[np.array(sorted(df.columns.astype(int))).astype(str)]\n",
    "        if metric == \"Percentage of reference matching edges in matching\":\n",
    "            df.loc[metric] *= 100\n",
    "        x_positions = np.searchsorted(k_values, df.columns.astype(int))\n",
    "        axes[x, y].plot(x_positions, df.loc[metric], 'o--', label=group, color=pal[group], alpha=0.7)\n",
    "    if metric in ['p-val']:\n",
    "        axes[x, y].set_yscale('log')\n",
    "    axes[x, y].set_title(metric.replace(\"Percentage of reference matching edges in matching\", \"contained % of perfect edges\").replace(\"p-val\", \"$P$-val\").replace(\"z-score\", \"$z$-score\"))\n",
    "    axes[x, y].set_xlabel('k')\n",
    "    axes[x, y].set_xticks(ticks=(np.unique(x_positions)))\n",
    "\n",
    "    axes[x, y].set_xticklabels(labels=k_values.astype(str)) \n",
    "    axes[x, y].tick_params(axis='x', labelrotation=90)\n",
    "    \n",
    "\n",
    "for i in range(np.prod(axes.shape)):\n",
    "    x, y = i // 3, i % 3\n",
    "    axes[x, y].text(\n",
    "        -0.05, 1.1,  # Position (normalized figure coordinates)\n",
    "        labels[i],   # Corresponding letter\n",
    "        transform=axes[x, y].transAxes,  # Relative to subplot\n",
    "        fontsize=10, fontweight='bold', va='top', ha='left'\n",
    "    )\n",
    "    \n",
    "pal[\"Control\"] = pal[0.0]\n",
    "del pal[0.0]\n",
    "handles = [patches.Patch(color=color, label=label) for label, color in pal.items()]\n",
    "fig.legend(handles=handles, loc=\"upper center\", bbox_to_anchor=(0.5, 1.07), ncol=len(pal), title=\"Dose value\")\n",
    "plt.tight_layout()\n",
    "plt.savefig(\"../plots/fig2/fig2-1_A549.pdf\", bbox_inches=\"tight\")"
   ]
  },
  {
   "cell_type": "code",
   "execution_count": null,
   "id": "fa363d38-d692-41a4-bcac-d1e1cbd9fb69",
   "metadata": {},
   "outputs": [],
   "source": []
  }
 ],
 "metadata": {
  "kernelspec": {
   "display_name": "Python 3 (ipykernel)",
   "language": "python",
   "name": "python3"
  },
  "language_info": {
   "codemirror_mode": {
    "name": "ipython",
    "version": 3
   },
   "file_extension": ".py",
   "mimetype": "text/x-python",
   "name": "python",
   "nbconvert_exporter": "python",
   "pygments_lexer": "ipython3",
   "version": "3.10.16"
  }
 },
 "nbformat": 4,
 "nbformat_minor": 5
}
