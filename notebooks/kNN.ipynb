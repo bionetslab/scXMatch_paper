{
 "cells": [
  {
   "cell_type": "code",
   "execution_count": 1,
   "id": "131e0648-3226-413e-ae1e-67b716b84f44",
   "metadata": {},
   "outputs": [
    {
     "name": "stdout",
     "output_type": "stream",
     "text": [
      "found cupy installation, will try use the GPU to calculate the distance matrix.\n"
     ]
    }
   ],
   "source": [
    "import scanpy as sc\n",
    "import matplotlib.pyplot as plt\n",
    "import pandas as pd\n",
    "import anndata as ad\n",
    "import numpy as np\n",
    "import sys\n",
    "sys.path.append(\"..\")\n",
    "from rosenbaum import rosenbaum"
   ]
  },
  {
   "cell_type": "code",
   "execution_count": 10,
   "id": "f41acaed-e566-423b-b884-492bfdf9486e",
   "metadata": {},
   "outputs": [],
   "source": [
    "samples_A = [np.random.normal(0, 1, 2) for _ in range(100)]\n",
    "samples_B = [np.random.normal(0, 1, 2) for _ in range(100)]\n",
    "\n",
    "groups = [\"A\"] * 100 + [\"B\"] * 100 \n",
    "samples = np.array(samples_A + samples_B)\n",
    "data = pd.DataFrame(samples, columns=[\"X\", \"Y\"])\n",
    "adata = ad.AnnData(samples)\n",
    "adata.obs[\"Group\"] = groups"
   ]
  },
  {
   "cell_type": "code",
   "execution_count": 7,
   "id": "6d486d9c-01e5-4323-a19f-f0f988b3e378",
   "metadata": {},
   "outputs": [
    {
     "name": "stderr",
     "output_type": "stream",
     "text": [
      "/data/bionets/je30bery/anaconda3/envs/scanpy/lib/python3.9/site-packages/scanpy/preprocessing/_simple.py:385: RuntimeWarning: invalid value encountered in log1p\n",
      "  np.log1p(X, out=X)\n"
     ]
    }
   ],
   "source": [
    "#sc.pp.log1p(adata)  # Logarithmize the data\n",
    "#sc.pp.highly_variable_genes(adata, n_top_genes=100)  # Select top 2000 variable genes\n",
    "#adata = adata[:, adata.var.highly_variable]  # Subset to variable genes\n",
    "#sc.pp.scale(adata, max_value=10)  # Scale each gene to unit variance and clip to max_value=10"
   ]
  },
  {
   "cell_type": "code",
   "execution_count": 12,
   "id": "690a3d1e-108a-4a20-97b0-cde1045072be",
   "metadata": {},
   "outputs": [],
   "source": [
    "k = 15"
   ]
  },
  {
   "cell_type": "code",
   "execution_count": 16,
   "id": "d852e6ec-0751-4b47-8dfa-d647b6bd78dd",
   "metadata": {},
   "outputs": [],
   "source": [
    "sc.pp.neighbors(adata, n_neighbors=k, metric=\"sqeuclidean\")"
   ]
  },
  {
   "cell_type": "code",
   "execution_count": 18,
   "id": "80b3a3ac-8783-4b75-a8f6-1d3cd43a6c24",
   "metadata": {},
   "outputs": [
    {
     "data": {
      "text/plain": [
       "AnnData object with n_obs × n_vars = 200 × 2\n",
       "    obs: 'Group'\n",
       "    uns: 'neighbors'\n",
       "    obsp: 'distances', 'connectivities'"
      ]
     },
     "execution_count": 18,
     "metadata": {},
     "output_type": "execute_result"
    }
   ],
   "source": [
    "adata"
   ]
  },
  {
   "cell_type": "code",
   "execution_count": 28,
   "id": "787c1102-f959-4248-ad11-c1153a9be4b5",
   "metadata": {},
   "outputs": [
    {
     "data": {
      "text/plain": [
       "0.0"
      ]
     },
     "execution_count": 28,
     "metadata": {},
     "output_type": "execute_result"
    }
   ],
   "source": [
    "adata.obsp['connectivities'][0,3]"
   ]
  },
  {
   "cell_type": "code",
   "execution_count": null,
   "id": "8add31ed-0873-433d-859e-2534d3bc4f30",
   "metadata": {},
   "outputs": [],
   "source": []
  }
 ],
 "metadata": {
  "kernelspec": {
   "display_name": "Python 3 (ipykernel)",
   "language": "python",
   "name": "python3"
  },
  "language_info": {
   "codemirror_mode": {
    "name": "ipython",
    "version": 3
   },
   "file_extension": ".py",
   "mimetype": "text/x-python",
   "name": "python",
   "nbconvert_exporter": "python",
   "pygments_lexer": "ipython3",
   "version": "3.9.18"
  }
 },
 "nbformat": 4,
 "nbformat_minor": 5
}
