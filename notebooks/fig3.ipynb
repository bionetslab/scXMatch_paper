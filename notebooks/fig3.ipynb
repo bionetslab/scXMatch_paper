{
 "cells": [
  {
   "cell_type": "code",
   "execution_count": 2,
   "id": "f23fc0f5-7928-40c4-a26e-07b64f40f19a",
   "metadata": {},
   "outputs": [],
   "source": [
    "%load_ext autoreload\n",
    "%autoreload 2"
   ]
  },
  {
   "cell_type": "code",
   "execution_count": 3,
   "id": "3340491b-a887-41fe-b243-86918d5603b7",
   "metadata": {},
   "outputs": [
    {
     "name": "stderr",
     "output_type": "stream",
     "text": [
      "/data_nfs/je30bery/rosenbaum_test/notebooks/../src/utils_evaluation.py:90: SyntaxWarning: invalid escape sequence '\\m'\n",
      "  \"scXMatch\": \"$\\mathbf{scXMatch}$\",\n",
      "/data_nfs/je30bery/rosenbaum_test/notebooks/../src/utils_evaluation.py:154: SyntaxWarning: invalid escape sequence '\\m'\n",
      "  \"scXMatch\": \"$\\mathbf{scXMatch}$\",\n",
      "/data_nfs/je30bery/rosenbaum_test/notebooks/../src/utils_evaluation.py:206: SyntaxWarning: invalid escape sequence '\\m'\n",
      "  \"scXMatch\": \"$\\mathbf{scXMatch}$\",\n"
     ]
    }
   ],
   "source": [
    "import pandas as pd \n",
    "import numpy as np\n",
    "import seaborn as sns\n",
    "import matplotlib.pyplot as plt\n",
    "import anndata as ad\n",
    "import os\n",
    "import scanpy as sc\n",
    "from statsmodels.stats.multitest import multipletests\n",
    "import sys\n",
    "sys.path.append(\"../src\")\n",
    "from evaluation_metrics import *\n",
    "from utils_evaluation import *"
   ]
  },
  {
   "cell_type": "code",
   "execution_count": 27,
   "id": "1f6cd0c0-fe67-43a0-b61f-47deaa328d79",
   "metadata": {},
   "outputs": [],
   "source": [
    "from statsmodels.stats.multitest import multipletests"
   ]
  },
  {
   "cell_type": "code",
   "execution_count": 4,
   "id": "f5e95e10-1c50-4a30-8b6a-6b27e0fb7531",
   "metadata": {
    "scrolled": true
   },
   "outputs": [
    {
     "name": "stderr",
     "output_type": "stream",
     "text": [
      "/data_nfs/je30bery/rosenbaum_test/notebooks/../src/utils_evaluation.py:170: FutureWarning: Downcasting behavior in `replace` is deprecated and will be removed in a future version. To retain the old behavior, explicitly call `result.infer_objects(copy=False)`. To opt-in to the future behavior, set `pd.set_option('future.no_silent_downcasting', True)`\n",
      "  xm_results_dfs_var[dataset].replace({\"split_10\": 10, \"split_30\": 30, \"split_50\": 50}, inplace=True)\n",
      "/data_nfs/je30bery/rosenbaum_test/notebooks/../src/utils_evaluation.py:170: FutureWarning: Downcasting behavior in `replace` is deprecated and will be removed in a future version. To retain the old behavior, explicitly call `result.infer_objects(copy=False)`. To opt-in to the future behavior, set `pd.set_option('future.no_silent_downcasting', True)`\n",
      "  xm_results_dfs_var[dataset].replace({\"split_10\": 10, \"split_30\": 30, \"split_50\": 50}, inplace=True)\n",
      "/data_nfs/je30bery/rosenbaum_test/notebooks/../src/utils_evaluation.py:170: FutureWarning: Downcasting behavior in `replace` is deprecated and will be removed in a future version. To retain the old behavior, explicitly call `result.infer_objects(copy=False)`. To opt-in to the future behavior, set `pd.set_option('future.no_silent_downcasting', True)`\n",
      "  xm_results_dfs_var[dataset].replace({\"split_10\": 10, \"split_30\": 30, \"split_50\": 50}, inplace=True)\n",
      "/data_nfs/je30bery/rosenbaum_test/notebooks/../src/utils_evaluation.py:170: FutureWarning: Downcasting behavior in `replace` is deprecated and will be removed in a future version. To retain the old behavior, explicitly call `result.infer_objects(copy=False)`. To opt-in to the future behavior, set `pd.set_option('future.no_silent_downcasting', True)`\n",
      "  xm_results_dfs_var[dataset].replace({\"split_10\": 10, \"split_30\": 30, \"split_50\": 50}, inplace=True)\n",
      "/data_nfs/je30bery/rosenbaum_test/notebooks/../src/utils_evaluation.py:170: FutureWarning: Downcasting behavior in `replace` is deprecated and will be removed in a future version. To retain the old behavior, explicitly call `result.infer_objects(copy=False)`. To opt-in to the future behavior, set `pd.set_option('future.no_silent_downcasting', True)`\n",
      "  xm_results_dfs_var[dataset].replace({\"split_10\": 10, \"split_30\": 30, \"split_50\": 50}, inplace=True)\n",
      "/data_nfs/je30bery/rosenbaum_test/notebooks/../src/utils_evaluation.py:170: FutureWarning: Downcasting behavior in `replace` is deprecated and will be removed in a future version. To retain the old behavior, explicitly call `result.infer_objects(copy=False)`. To opt-in to the future behavior, set `pd.set_option('future.no_silent_downcasting', True)`\n",
      "  xm_results_dfs_var[dataset].replace({\"split_10\": 10, \"split_30\": 30, \"split_50\": 50}, inplace=True)\n",
      "/data_nfs/je30bery/rosenbaum_test/notebooks/../src/utils_evaluation.py:170: FutureWarning: Downcasting behavior in `replace` is deprecated and will be removed in a future version. To retain the old behavior, explicitly call `result.infer_objects(copy=False)`. To opt-in to the future behavior, set `pd.set_option('future.no_silent_downcasting', True)`\n",
      "  xm_results_dfs_var[dataset].replace({\"split_10\": 10, \"split_30\": 30, \"split_50\": 50}, inplace=True)\n"
     ]
    }
   ],
   "source": [
    "bm_results_dfs, mon_df, melted_mon = get_mon_df()\n",
    "ssnr_results_dfs, ssnr_df, melted_ssnr = get_ssnr_df(bm_results_dfs)\n",
    "var_results_dfs, var_df, melted_var = get_sv_df()"
   ]
  },
  {
   "cell_type": "code",
   "execution_count": 31,
   "id": "3cfc1b50-c8e7-4013-938e-62fc92a8969f",
   "metadata": {},
   "outputs": [
    {
     "data": {
      "text/plain": [
       "array(['mcfarland', 'norman', 'schiebinger', 'sciplex_A549',\n",
       "       'sciplex_K562', 'sciplex_MCF7', 'bhattacherjee_excitatory'],\n",
       "      dtype=object)"
      ]
     },
     "execution_count": 31,
     "metadata": {},
     "output_type": "execute_result"
    }
   ],
   "source": []
  },
  {
   "cell_type": "code",
   "execution_count": 21,
   "id": "09e3055b-ae0f-452a-99df-6b11f62689ae",
   "metadata": {},
   "outputs": [],
   "source": [
    "FPR = np.sum(ssnr_results_dfs.drop([\"bhattacherjee_excitatory\"])[\"scXMatch\"] >= 0.95) / len(ssnr_results_dfs.drop([\"bhattacherjee_excitatory\"]))\n",
    "FPR"
   ]
  },
  {
   "cell_type": "code",
   "execution_count": 53,
   "id": "243ca31b-d431-4749-8249-dd7976b3ba70",
   "metadata": {},
   "outputs": [
    {
     "name": "stdout",
     "output_type": "stream",
     "text": [
      "0.013333333333333334\n"
     ]
    },
    {
     "name": "stderr",
     "output_type": "stream",
     "text": [
      "/tmp/ipykernel_326102/3848712239.py:7: PerformanceWarning: indexing past lexsort depth may impact performance.\n",
      "  p_vals = 1 - ssnr_results_dfs.drop([\"bhattacherjee_excitatory\"]).loc[(dataset, group)][\"scXMatch\"].values\n",
      "/tmp/ipykernel_326102/3848712239.py:7: PerformanceWarning: indexing past lexsort depth may impact performance.\n",
      "  p_vals = 1 - ssnr_results_dfs.drop([\"bhattacherjee_excitatory\"]).loc[(dataset, group)][\"scXMatch\"].values\n",
      "/tmp/ipykernel_326102/3848712239.py:7: PerformanceWarning: indexing past lexsort depth may impact performance.\n",
      "  p_vals = 1 - ssnr_results_dfs.drop([\"bhattacherjee_excitatory\"]).loc[(dataset, group)][\"scXMatch\"].values\n",
      "/tmp/ipykernel_326102/3848712239.py:7: PerformanceWarning: indexing past lexsort depth may impact performance.\n",
      "  p_vals = 1 - ssnr_results_dfs.drop([\"bhattacherjee_excitatory\"]).loc[(dataset, group)][\"scXMatch\"].values\n",
      "/tmp/ipykernel_326102/3848712239.py:7: PerformanceWarning: indexing past lexsort depth may impact performance.\n",
      "  p_vals = 1 - ssnr_results_dfs.drop([\"bhattacherjee_excitatory\"]).loc[(dataset, group)][\"scXMatch\"].values\n",
      "/tmp/ipykernel_326102/3848712239.py:7: PerformanceWarning: indexing past lexsort depth may impact performance.\n",
      "  p_vals = 1 - ssnr_results_dfs.drop([\"bhattacherjee_excitatory\"]).loc[(dataset, group)][\"scXMatch\"].values\n"
     ]
    }
   ],
   "source": [
    "FPR_adj = 0\n",
    "total_len = 0\n",
    "for dataset in melted_ssnr[\"dataset\"].unique():\n",
    "    if \"bhattacherjee\" in dataset:\n",
    "        continue\n",
    "    for group in ssnr_results_dfs.drop([\"bhattacherjee_excitatory\"]).loc[dataset].reset_index()[\"test_group\"].unique():\n",
    "        p_vals = 1 - ssnr_results_dfs.drop([\"bhattacherjee_excitatory\"]).loc[(dataset, group)][\"scXMatch\"].values\n",
    "        adj_pvals = multipletests(p_vals, method=\"fdr_bh\")[1]\n",
    "        FPR_adj += np.sum(adj_pvals < 0.05)\n",
    "        total_len += len(adj_pvals)\n",
    "print(FPR_adj / total_len)"
   ]
  },
  {
   "cell_type": "code",
   "execution_count": 18,
   "id": "ab81309d-e398-4139-9896-9f6089ae35b5",
   "metadata": {},
   "outputs": [],
   "source": [
    "for f in os.listdir(\"../evaluation_results/1_1_monotonicity_scxmatch/\"):\n",
    "    if \"sciplex\" in f:\n",
    "        csv = pd.read_csv(os.path.join(\"../evaluation_results/1_1_monotonicity_scxmatch/\", f))\n",
    "        csv.set_index(\"test_group\").to_excel(os.path.join(\"../evaluation_results/1_1_monotonicity_scxmatch/\", f.replace(\".txt\", \".xlsx\")))"
   ]
  },
  {
   "cell_type": "code",
   "execution_count": 4,
   "id": "23d4e11a-0c9c-4df9-9c1f-bb8981da796f",
   "metadata": {},
   "outputs": [],
   "source": [
    "pd.concat(bm_results_dfs).sort_index().to_excel(\"monotonicity.xlsx\")\n",
    "ssnr_results_dfs.sort_index().to_excel(\"ssnr.xlsx\")\n",
    "var_results_dfs.sort_index().to_excel(\"sv.xlsx\")"
   ]
  },
  {
   "cell_type": "code",
   "execution_count": 5,
   "id": "77bbc24d-98ca-4ad1-9537-c72a5902a239",
   "metadata": {},
   "outputs": [],
   "source": [
    "pareto_counts, pareto_sets = compute_pareto_optimal_datasets(mon_df, ssnr_df, var_df)\n",
    "samples = set()\n",
    "for sample_list in pareto_sets.values():\n",
    "    samples.update(sample_list)\n",
    "heatmap_data = {method: [sample in sample_list for sample in samples] \n",
    "                for method, sample_list in pareto_sets.items()}\n",
    "df = pd.DataFrame(heatmap_data, index=list(samples)).T"
   ]
  },
  {
   "cell_type": "code",
   "execution_count": 6,
   "id": "651a19e8-f334-4cf9-94e8-bbc4dc98cad9",
   "metadata": {},
   "outputs": [],
   "source": [
    "df = df.sort_index(axis=1)\n",
    "df.rename({\"deseq2_100\": \"#DEGs $DESeq2_{100}$\", \n",
    "               \"edgeR_100\": \"#DEGs $edgeR_{100}$\",\n",
    "              \"augur\": \"$Augur$\",\n",
    "                \"wilcoxon\": \"#DEGs $Wilcoxon$\",\n",
    "               \"scXMatch\": \"$\\mathbf{scXMatch}$\",\n",
    "               }, inplace=True, axis=0)\n",
    "dummy_heatmap = np.ones([7, 5])\n",
    "dummy_heatmap[:, 1] = 2\n",
    "dummy_heatmap[:, 2] = 3\n",
    "dummy_heatmap[:, 3] = 4\n",
    "dummy_heatmap[:, 4] = 5\n",
    "dummy_heatmap = pd.DataFrame(dummy_heatmap, columns=df.index, index=df.columns)\n",
    "mask = df.T <= 0"
   ]
  },
  {
   "cell_type": "code",
   "execution_count": 8,
   "id": "169d34ed-0efc-4d46-978c-31eaf19aafab",
   "metadata": {},
   "outputs": [],
   "source": [
    "melted_mon = melted_mon.sort_values(\"dataset\")\n",
    "melted_ssnr = melted_ssnr.sort_values(\"dataset\")\n",
    "melted_var = melted_var.sort_values(\"dataset\")"
   ]
  },
  {
   "cell_type": "code",
   "execution_count": 10,
   "id": "3b62d4be-145d-426b-b0e4-e569cbde092d",
   "metadata": {},
   "outputs": [],
   "source": [
    "palette = sns.color_palette(\"viridis\", 4) + sns.color_palette(\"magma\", 1)\n",
    "palette_dict = {           \n",
    "    '$Augur$': palette[0],\n",
    "    '#DEGs $DESeq2_{100}$': palette[1],\n",
    "    '#DEGs $Wilcoxon$': palette[2],\n",
    "    '#DEGs $edgeR_{100}$': palette[3],\n",
    "    '$\\\\mathbf{scXMatch}$': palette[4]}"
   ]
  },
  {
   "cell_type": "code",
   "execution_count": 11,
   "id": "66694860-e7e7-4b37-9f01-f986172e4909",
   "metadata": {
    "scrolled": true
   },
   "outputs": [
    {
     "data": {
      "image/png": "[encoded data removed]",
      "text/plain": [
       "<Figure size 900x250 with 4 Axes>"
      ]
     },
     "metadata": {},
     "output_type": "display_data"
    }
   ],
   "source": [
    "f, axs = plt.subplots(1, 4, figsize=(9, 2.5))\n",
    "\n",
    "sns.barplot(melted_mon, y=\"dataset\", hue=\"metric\", x=\"value\", orient=\"h\", palette=palette_dict, ax=axs[0], legend=True, width=0.5, hue_order=palette_dict.keys())\n",
    "axs[0].set_title(\"MI\")\n",
    "axs[0].set_ylabel(\"\")\n",
    "axs[0].set_xlabel(\"\")\n",
    "#axs[0].set_yticklabels([\"McFarland\", \"Norman\", \"Schiebinger\", \"Sciplex A549\", \"Sciplex K562\", \"Sciplex MCF7\"])\n",
    "\n",
    "sns.barplot(melted_ssnr, y=\"dataset\", hue=\"metric\", x=\"value\", orient=\"h\", palette=palette_dict, ax=axs[1], legend=False, width=0.5, hue_order=palette_dict.keys())\n",
    "axs[1].set_title(\"SSNR\")\n",
    "axs[1].set_ylabel(\"\")\n",
    "axs[1].set_yticklabels([])\n",
    "\n",
    "sns.barplot(melted_var, y=\"dataset\", hue=\"metric\", x=\"value\", orient=\"h\", palette=palette_dict, ax=axs[2], legend=False, width=0.5, hue_order=palette_dict.keys())\n",
    "axs[2].set_title(\"SV\")\n",
    "axs[2].set_ylabel(\"\")\n",
    "axs[2].set_xlabel(\"\")\n",
    "axs[2].set_yticklabels([])\n",
    "\n",
    "handles, labels = axs[0].get_legend_handles_labels()\n",
    "f.legend(handles, labels, loc='upper center', ncol=len(palette), bbox_to_anchor=(0.5, 1.15), columnspacing=0.9)\n",
    "axs[0].legend_.remove()\n",
    "\n",
    "axs[0].text(\n",
    "    -0.4, 1.5,  # Position (normalized figure coordinates)\n",
    "    \"e\",   # Corresponding letter\n",
    "    transform=axs[0].transAxes,  # Relative to subplot\n",
    "    fontsize=12, va='top', ha='left'\n",
    ")\n",
    "\n",
    "sns.heatmap(dummy_heatmap, mask=mask, linewidths=2.5, linecolor='white', ax=axs[3], cbar=False, cmap=palette)\n",
    "axs[3].set_title(\"Pareto optimality\")\n",
    "axs[3].set_yticklabels([])\n",
    "axs[3].set_xticklabels([])\n",
    "axs[3].set_xticks([])\n",
    "\n",
    "plt.savefig(\"../plots/fig3/fig3e.pdf\", bbox_inches=\"tight\")"
   ]
  },
  {
   "cell_type": "code",
   "execution_count": null,
   "id": "bf5b5a8e-2fd4-44d0-ac0f-b09faff07278",
   "metadata": {},
   "outputs": [],
   "source": []
  }
 ],
 "metadata": {
  "kernelspec": {
   "display_name": "Python 3 (ipykernel)",
   "language": "python",
   "name": "python3"
  },
  "language_info": {
   "codemirror_mode": {
    "name": "ipython",
    "version": 3
   },
   "file_extension": ".py",
   "mimetype": "text/x-python",
   "name": "python",
   "nbconvert_exporter": "python",
   "pygments_lexer": "ipython3",
   "version": "3.13.3"
  }
 },
 "nbformat": 4,
 "nbformat_minor": 5
}
