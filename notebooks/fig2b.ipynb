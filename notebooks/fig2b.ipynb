{
 "cells": [
  {
   "cell_type": "code",
   "execution_count": 80,
   "id": "8eb43689-2300-4e10-8f81-b95a494d2524",
   "metadata": {},
   "outputs": [],
   "source": [
    "import pandas as pd\n",
    "import seaborn as sns\n",
    "import numpy as np\n",
    "import matplotlib.pyplot as plt\n",
    "import os\n",
    "import string"
   ]
  },
  {
   "cell_type": "code",
   "execution_count": 24,
   "id": "05858363-a83e-4e87-8f29-e01fb965979f",
   "metadata": {},
   "outputs": [
    {
     "name": "stderr",
     "output_type": "stream",
     "text": [
      "/tmp/ipykernel_2155907/1935416727.py:2: ParserWarning: Falling back to the 'python' engine because the 'c' engine does not support regex separators (separators > 1 char and different from '\\s+' are interpreted as regex); you can avoid this warning by specifying engine='python'.\n",
      "  logs = pd.concat([pd.read_csv(os.path.join(log_dir, f), delimiter=\"; \") for f in os.listdir(log_dir)], axis=0)\n",
      "/tmp/ipykernel_2155907/1935416727.py:2: ParserWarning: Falling back to the 'python' engine because the 'c' engine does not support regex separators (separators > 1 char and different from '\\s+' are interpreted as regex); you can avoid this warning by specifying engine='python'.\n",
      "  logs = pd.concat([pd.read_csv(os.path.join(log_dir, f), delimiter=\"; \") for f in os.listdir(log_dir)], axis=0)\n",
      "/tmp/ipykernel_2155907/1935416727.py:2: ParserWarning: Falling back to the 'python' engine because the 'c' engine does not support regex separators (separators > 1 char and different from '\\s+' are interpreted as regex); you can avoid this warning by specifying engine='python'.\n",
      "  logs = pd.concat([pd.read_csv(os.path.join(log_dir, f), delimiter=\"; \") for f in os.listdir(log_dir)], axis=0)\n"
     ]
    }
   ],
   "source": [
    "log_dir = \"../evaluation_results/runtime\"\n",
    "logs = pd.concat([pd.read_csv(os.path.join(log_dir, f), delimiter=\"; \") for f in os.listdir(log_dir)], axis=0)"
   ]
  },
  {
   "cell_type": "code",
   "execution_count": 26,
   "id": "de3ad9d8-31ff-4220-980a-eafea0d4c893",
   "metadata": {},
   "outputs": [
    {
     "name": "stderr",
     "output_type": "stream",
     "text": [
      "/tmp/ipykernel_2155907/2051053377.py:1: FutureWarning: A value is trying to be set on a copy of a DataFrame or Series through chained assignment using an inplace method.\n",
      "The behavior will change in pandas 3.0. This inplace method will never work because the intermediate object on which we are setting values always behaves as a copy.\n",
      "\n",
      "For example, when doing 'df[col].method(value, inplace=True)', try using 'df.method({col: value}, inplace=True)' or df[col] = df[col].method(value) instead, to perform the operation inplace on the original object.\n",
      "\n",
      "\n",
      "  logs[\"t_matching [s]\"].replace({-1: np.nan}, inplace=True)\n"
     ]
    }
   ],
   "source": [
    "logs[\"t_matching [s]\"].replace({-1: np.nan}, inplace=True)"
   ]
  },
  {
   "cell_type": "code",
   "execution_count": 55,
   "id": "5ebbc8c6-56cb-4d47-aaa5-395f86dde9d5",
   "metadata": {},
   "outputs": [],
   "source": [
    "nn_runtime_logs = logs.drop([\"t_matching [s]\"], axis=1)"
   ]
  },
  {
   "cell_type": "code",
   "execution_count": 56,
   "id": "73cdcff0-a0bb-40c4-925a-c3e301da43c0",
   "metadata": {},
   "outputs": [],
   "source": [
    "n_var_values = nn_runtime_logs[\"n_var\"].unique()"
   ]
  },
  {
   "cell_type": "code",
   "execution_count": 58,
   "id": "177f190a-3b8f-4c4d-bdee-8e4436685a71",
   "metadata": {},
   "outputs": [
    {
     "data": {
      "text/html": [
       "<div>\n",
       "<style scoped>\n",
       "    .dataframe tbody tr th:only-of-type {\n",
       "        vertical-align: middle;\n",
       "    }\n",
       "\n",
       "    .dataframe tbody tr th {\n",
       "        vertical-align: top;\n",
       "    }\n",
       "\n",
       "    .dataframe thead th {\n",
       "        text-align: right;\n",
       "    }\n",
       "</style>\n",
       "<table border=\"1\" class=\"dataframe\">\n",
       "  <thead>\n",
       "    <tr style=\"text-align: right;\">\n",
       "      <th></th>\n",
       "      <th>k</th>\n",
       "      <th>n_obs</th>\n",
       "      <th>n_var</th>\n",
       "      <th>t_NN [s]</th>\n",
       "    </tr>\n",
       "  </thead>\n",
       "  <tbody>\n",
       "    <tr>\n",
       "      <th>0</th>\n",
       "      <td>1000</td>\n",
       "      <td>5000</td>\n",
       "      <td>2</td>\n",
       "      <td>51.754880</td>\n",
       "    </tr>\n",
       "    <tr>\n",
       "      <th>1</th>\n",
       "      <td>1000</td>\n",
       "      <td>5000</td>\n",
       "      <td>100</td>\n",
       "      <td>27.145984</td>\n",
       "    </tr>\n",
       "    <tr>\n",
       "      <th>2</th>\n",
       "      <td>1000</td>\n",
       "      <td>5000</td>\n",
       "      <td>1000</td>\n",
       "      <td>30.645719</td>\n",
       "    </tr>\n",
       "    <tr>\n",
       "      <th>3</th>\n",
       "      <td>1000</td>\n",
       "      <td>5000</td>\n",
       "      <td>2000</td>\n",
       "      <td>35.224199</td>\n",
       "    </tr>\n",
       "    <tr>\n",
       "      <th>4</th>\n",
       "      <td>1000</td>\n",
       "      <td>5000</td>\n",
       "      <td>5000</td>\n",
       "      <td>44.223041</td>\n",
       "    </tr>\n",
       "    <tr>\n",
       "      <th>...</th>\n",
       "      <td>...</td>\n",
       "      <td>...</td>\n",
       "      <td>...</td>\n",
       "      <td>...</td>\n",
       "    </tr>\n",
       "    <tr>\n",
       "      <th>25</th>\n",
       "      <td>500</td>\n",
       "      <td>100000</td>\n",
       "      <td>2</td>\n",
       "      <td>265.662791</td>\n",
       "    </tr>\n",
       "    <tr>\n",
       "      <th>26</th>\n",
       "      <td>500</td>\n",
       "      <td>100000</td>\n",
       "      <td>100</td>\n",
       "      <td>328.417714</td>\n",
       "    </tr>\n",
       "    <tr>\n",
       "      <th>27</th>\n",
       "      <td>500</td>\n",
       "      <td>100000</td>\n",
       "      <td>1000</td>\n",
       "      <td>429.556195</td>\n",
       "    </tr>\n",
       "    <tr>\n",
       "      <th>28</th>\n",
       "      <td>500</td>\n",
       "      <td>100000</td>\n",
       "      <td>2000</td>\n",
       "      <td>495.201863</td>\n",
       "    </tr>\n",
       "    <tr>\n",
       "      <th>29</th>\n",
       "      <td>500</td>\n",
       "      <td>100000</td>\n",
       "      <td>5000</td>\n",
       "      <td>993.505905</td>\n",
       "    </tr>\n",
       "  </tbody>\n",
       "</table>\n",
       "<p>90 rows × 4 columns</p>\n",
       "</div>"
      ],
      "text/plain": [
       "       k   n_obs  n_var    t_NN [s]\n",
       "0   1000    5000      2   51.754880\n",
       "1   1000    5000    100   27.145984\n",
       "2   1000    5000   1000   30.645719\n",
       "3   1000    5000   2000   35.224199\n",
       "4   1000    5000   5000   44.223041\n",
       "..   ...     ...    ...         ...\n",
       "25   500  100000      2  265.662791\n",
       "26   500  100000    100  328.417714\n",
       "27   500  100000   1000  429.556195\n",
       "28   500  100000   2000  495.201863\n",
       "29   500  100000   5000  993.505905\n",
       "\n",
       "[90 rows x 4 columns]"
      ]
     },
     "execution_count": 58,
     "metadata": {},
     "output_type": "execute_result"
    }
   ],
   "source": [
    "nn_runtime_logs"
   ]
  },
  {
   "cell_type": "code",
   "execution_count": 38,
   "id": "c31880ef-cc5e-4cfe-939c-f4e4444950ff",
   "metadata": {},
   "outputs": [],
   "source": [
    "gt_runtime_logs = logs.dropna().drop([\"n_var\", \"t_NN [s]\"], axis=1)\n",
    "gt_runtime_logs.sort_values([\"k\", \"n_obs\"])"
   ]
  },
  {
   "cell_type": "code",
   "execution_count": 124,
   "id": "bd377d8f-d70f-4435-a7cd-57de811bbe3a",
   "metadata": {},
   "outputs": [
    {
     "data": {
      "text/plain": [
       "1442.171132"
      ]
     },
     "execution_count": 124,
     "metadata": {},
     "output_type": "execute_result"
    }
   ],
   "source": []
  },
  {
   "cell_type": "code",
   "execution_count": 103,
   "id": "6ae5c185-2b43-4550-aeb3-098117c2d445",
   "metadata": {},
   "outputs": [],
   "source": [
    "palette = sns.color_palette(\"viridis\", len(logs[\"k\"].unique()))"
   ]
  },
  {
   "cell_type": "code",
   "execution_count": 173,
   "id": "353642e5-7990-499d-9855-a9b2968fb303",
   "metadata": {},
   "outputs": [
    {
     "data": {
      "image/png": "[encoded data removed]",
      "text/plain": [
       "<Figure size 1200x400 with 6 Axes>"
      ]
     },
     "metadata": {},
     "output_type": "display_data"
    }
   ],
   "source": [
    "f, axs = plt.subplots(1, len(n_var_values) + 1, figsize=(12, 4), sharex=True, width_ratios=[1, 1, 1, 1, 1, 1.5])\n",
    "y_lim_max = nn_runtime_logs[\"t_NN [s]\"].max() + 100\n",
    "\n",
    "for i, n_var in enumerate(n_var_values):\n",
    "    sns.barplot(nn_runtime_logs[nn_runtime_logs[\"n_var\"] == n_var], x=\"n_obs\", y=\"t_NN [s]\", hue=\"k\", ax=axs[i], palette=palette)\n",
    "    axs[i].legend(loc='upper left', title=\"k\")\n",
    "    if i == 0:\n",
    "        axs[i].set_ylabel(\"Runtime NN matching [s]\")\n",
    "    else:\n",
    "        axs[i].set_ylabel(None)\n",
    "        axs[i].set_yticklabels([])\n",
    "    axs[i].set_ylim(0, y_lim_max) \n",
    "    axs[i].set_xlabel(\"$n_{{obs}}$\")\n",
    "    axs[i].set_title(f\"$n_{{vars}}={n_var}$\")\n",
    "\n",
    "sns.barplot(gt_runtime_logs, x=\"n_obs\", y=\"t_matching [s]\", hue=\"k\", ax=axs[-1], palette=palette)\n",
    "axs[-1].legend(loc='upper left', title=\"k\")\n",
    "axs[-1].set_ylabel(\"Runtime MWMCM [s]\")\n",
    "plt.subplots_adjust(wspace=0.05)\n",
    "\n",
    "pos = axs[-1].get_position()  # Get current position\n",
    "axs[-1].set_position([pos.x0 + 0.1, pos.y0, pos.width, pos.height])  # Shift right by 0.05\n",
    "\n",
    "labels = string.ascii_lowercase\n",
    "for i in range(len(n_var_values) + 1):\n",
    "    axs[i].text(\n",
    "        -0.05, 1.1,  # Position (normalized figure coordinates)\n",
    "        labels[i+6],   # Corresponding letter\n",
    "        transform=axs[i].transAxes,  # Relative to subplot\n",
    "        fontsize=10, fontweight='bold', va='top', ha='left'\n",
    "    )\n",
    "    axs[i].tick_params(axis='x', labelrotation=90)\n",
    "\n",
    "plt.savefig(\"../plots/fig2/fig2-2.pdf\", bbox_inches=\"tight\")"
   ]
  },
  {
   "cell_type": "code",
   "execution_count": null,
   "id": "ec5824ef-e586-489b-b833-4c2fc533db30",
   "metadata": {},
   "outputs": [],
   "source": []
  }
 ],
 "metadata": {
  "kernelspec": {
   "display_name": "Python 3 (ipykernel)",
   "language": "python",
   "name": "python3"
  },
  "language_info": {
   "codemirror_mode": {
    "name": "ipython",
    "version": 3
   },
   "file_extension": ".py",
   "mimetype": "text/x-python",
   "name": "python",
   "nbconvert_exporter": "python",
   "pygments_lexer": "ipython3",
   "version": "3.10.16"
  }
 },
 "nbformat": 4,
 "nbformat_minor": 5
}
