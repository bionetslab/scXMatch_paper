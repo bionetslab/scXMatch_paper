{
 "cells": [
  {
   "cell_type": "markdown",
   "id": "e4ede42e-cc5d-43f3-b7c4-7b39fbb93813",
   "metadata": {},
   "source": [
    "## Demo\n",
    "Rosenbaum's test implementation."
   ]
  },
  {
   "cell_type": "code",
   "execution_count": 1,
   "id": "40b06930-268b-4153-b5d6-f16f2c891e49",
   "metadata": {},
   "outputs": [],
   "source": [
    "%load_ext autoreload\n",
    "%autoreload 2"
   ]
  },
  {
   "cell_type": "code",
   "execution_count": 2,
   "id": "f08ab94c-f8e5-4b18-be3c-a89b46856ace",
   "metadata": {},
   "outputs": [
    {
     "name": "stdout",
     "output_type": "stream",
     "text": [
      "will use the CPU to calculate the distance matrix.\n"
     ]
    }
   ],
   "source": [
    "import numpy as np \n",
    "import networkx as nx\n",
    "import pandas as pd\n",
    "import sys\n",
    "sys.path.append(\"..\")\n",
    "from rosenbaum import *"
   ]
  },
  {
   "cell_type": "code",
   "execution_count": 3,
   "id": "33fb6a28-c1be-4947-9b43-808d700b47be",
   "metadata": {},
   "outputs": [],
   "source": [
    "data = pd.read_csv(\"../data/FeatureData_CtrlMCSFTGFbetaLPSIFN10YM201636OldOldMCSF.csv\")"
   ]
  },
  {
   "cell_type": "code",
   "execution_count": 4,
   "id": "aeb0995d-9215-4b8e-93f3-53644309e3e4",
   "metadata": {},
   "outputs": [],
   "source": [
    "data = data.drop(columns=[\"Unnamed: 0\", \"Movie name\", \"Cell Nr\"])"
   ]
  },
  {
   "cell_type": "code",
   "execution_count": 5,
   "id": "d1b1de8d-c52f-4c73-b18e-15379fe86ab0",
   "metadata": {},
   "outputs": [
    {
     "name": "stdout",
     "output_type": "stream",
     "text": [
      "computing variable-wise ranks.\n",
      "using CPU to calculate distance matrix.\n",
      "0.00018578465808814963\n"
     ]
    }
   ],
   "source": [
    "p_val, a = rosenbaum(data, group_by=\"Label\", test_group='Old', reference='Ctrl')\n",
    "print(p_val)"
   ]
  },
  {
   "cell_type": "code",
   "execution_count": 6,
   "id": "daef1eae-f312-41e5-bc99-3a1150704b11",
   "metadata": {},
   "outputs": [
    {
     "name": "stdout",
     "output_type": "stream",
     "text": [
      "computing variable-wise ranks.\n",
      "using CPU to calculate distance matrix.\n",
      "0.005260338041703389\n"
     ]
    }
   ],
   "source": [
    "p_val, a = rosenbaum(data, group_by=\"Label\", test_group='IFN10', reference='Ctrl')\n",
    "print(p_val)"
   ]
  },
  {
   "cell_type": "code",
   "execution_count": 7,
   "id": "67229a1b-984b-4815-9b08-145650d39c28",
   "metadata": {},
   "outputs": [
    {
     "name": "stdout",
     "output_type": "stream",
     "text": [
      "computing variable-wise ranks.\n",
      "using CPU to calculate distance matrix.\n",
      "0.10586433748473446\n"
     ]
    }
   ],
   "source": [
    "p_val, a = rosenbaum(data, group_by=\"Label\", test_group='OldMCSF', reference='Ctrl')\n",
    "print(p_val)"
   ]
  },
  {
   "cell_type": "code",
   "execution_count": 8,
   "id": "6c4bb6c5-6364-455d-aeb8-b39c041df1f2",
   "metadata": {},
   "outputs": [
    {
     "name": "stdout",
     "output_type": "stream",
     "text": [
      "computing variable-wise ranks.\n",
      "using CPU to calculate distance matrix.\n",
      "7.354506903858862e-06\n"
     ]
    }
   ],
   "source": [
    "p_val, a = rosenbaum(data, group_by=\"Label\", test_group='TGFbeta', reference='Ctrl')\n",
    "print(p_val)"
   ]
  },
  {
   "cell_type": "code",
   "execution_count": null,
   "id": "93fe642f-50db-476e-8f99-d4c567b23d38",
   "metadata": {},
   "outputs": [],
   "source": []
  }
 ],
 "metadata": {
  "kernelspec": {
   "display_name": "Python 3 (ipykernel)",
   "language": "python",
   "name": "python3"
  },
  "language_info": {
   "codemirror_mode": {
    "name": "ipython",
    "version": 3
   },
   "file_extension": ".py",
   "mimetype": "text/x-python",
   "name": "python",
   "nbconvert_exporter": "python",
   "pygments_lexer": "ipython3",
   "version": "3.9.18"
  }
 },
 "nbformat": 4,
 "nbformat_minor": 5
}
