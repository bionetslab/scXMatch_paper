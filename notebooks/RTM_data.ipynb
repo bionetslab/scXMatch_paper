{
 "cells": [
  {
   "cell_type": "markdown",
   "id": "e4ede42e-cc5d-43f3-b7c4-7b39fbb93813",
   "metadata": {},
   "source": [
    "## Demo\n",
    "Rosenbaum's test implementation."
   ]
  },
  {
   "cell_type": "code",
   "execution_count": 1,
   "id": "40b06930-268b-4153-b5d6-f16f2c891e49",
   "metadata": {},
   "outputs": [],
   "source": [
    "%load_ext autoreload\n",
    "%autoreload 2"
   ]
  },
  {
   "cell_type": "code",
   "execution_count": 2,
   "id": "f08ab94c-f8e5-4b18-be3c-a89b46856ace",
   "metadata": {},
   "outputs": [
    {
     "name": "stdout",
     "output_type": "stream",
     "text": [
      "will use the CPU to calculate the distance matrix.\n",
      "will use the CPU to calculate the distance matrix.\n"
     ]
    }
   ],
   "source": [
    "import numpy as np \n",
    "import networkx as nx\n",
    "import pandas as pd\n",
    "import sys\n",
    "import anndata as ad\n",
    "sys.path.append(\"..\")\n",
    "from src import *"
   ]
  },
  {
   "cell_type": "code",
   "execution_count": 3,
   "id": "33fb6a28-c1be-4947-9b43-808d700b47be",
   "metadata": {},
   "outputs": [],
   "source": [
    "data = pd.read_csv(\"../data/FeatureData_CtrlMCSFTGFbetaLPSIFN10YM201636OldOldMCSF.csv\")"
   ]
  },
  {
   "cell_type": "code",
   "execution_count": 4,
   "id": "1c06a653-74a7-42fa-a718-e3c6887b4165",
   "metadata": {},
   "outputs": [
    {
     "data": {
      "text/plain": [
       "0         Ctrl\n",
       "1         Ctrl\n",
       "2         Ctrl\n",
       "3         Ctrl\n",
       "4         Ctrl\n",
       "        ...   \n",
       "449    OldMCSF\n",
       "450    OldMCSF\n",
       "451    OldMCSF\n",
       "452    OldMCSF\n",
       "453    OldMCSF\n",
       "Name: Label, Length: 454, dtype: object"
      ]
     },
     "execution_count": 4,
     "metadata": {},
     "output_type": "execute_result"
    }
   ],
   "source": [
    "data[\"Label\"]"
   ]
  },
  {
   "cell_type": "code",
   "execution_count": 5,
   "id": "aeb0995d-9215-4b8e-93f3-53644309e3e4",
   "metadata": {},
   "outputs": [
    {
     "name": "stderr",
     "output_type": "stream",
     "text": [
      "/data/bionets/je30bery/conda/envs/graphtool/lib/python3.9/site-packages/anndata/utils.py:304: UserWarning: X converted to numpy array with dtype float64\n",
      "  warnings.warn(f\"{name} converted to numpy array with dtype {arr.dtype}\")\n",
      "/data/bionets/je30bery/conda/envs/graphtool/lib/python3.9/site-packages/anndata/_core/aligned_df.py:68: ImplicitModificationWarning: Transforming to str index.\n",
      "  warnings.warn(\"Transforming to str index.\", ImplicitModificationWarning)\n"
     ]
    }
   ],
   "source": [
    "data = data.drop(columns=[\"Unnamed: 0\", \"Movie name\", \"Cell Nr\"])\n",
    "adata = ad.AnnData(data.drop(columns=[\"Label\"]))\n",
    "adata.obs[\"Label\"] = data[\"Label\"].values"
   ]
  },
  {
   "cell_type": "code",
   "execution_count": null,
   "id": "d1b1de8d-c52f-4c73-b18e-15379fe86ab0",
   "metadata": {},
   "outputs": [
    {
     "name": "stderr",
     "output_type": "stream",
     "text": [
      "/data/bionets/je30bery/rosenbaum_test/notebooks/../src/rosenbaum.py:151: ImplicitModificationWarning: Trying to modify attribute `.obs` of view, initializing view as actual.\n",
      "  adata.obs[\"XMatch_group\"] = np.where(adata.obs[group_by].isin(test_group), \"test\", \"reference\")\n"
     ]
    },
    {
     "name": "stdout",
     "output_type": "stream",
     "text": [
      "194\n",
      "XMatch_group\n",
      "reference    124\n",
      "test          70\n",
      "Name: count, dtype: int64\n",
      "calculating PCA and kNN graph.\n"
     ]
    },
    {
     "name": "stderr",
     "output_type": "stream",
     "text": [
      "/data/bionets/je30bery/conda/envs/graphtool/lib/python3.9/site-packages/tqdm/auto.py:21: TqdmWarning: IProgress not found. Please update jupyter and ipywidgets. See https://ipywidgets.readthedocs.io/en/stable/user_install.html\n",
      "  from .autonotebook import tqdm as notebook_tqdm\n"
     ]
    },
    {
     "name": "stdout",
     "output_type": "stream",
     "text": [
      "matching samples.\n",
      "matching.\n"
     ]
    }
   ],
   "source": [
    "p_val, z, support = rosenbaum(adata, group_by=\"Label\", test_group='Old', reference='Ctrl', metric=\"sqeuclidean\", k=5, rank=False, use_nx=False)\n",
    "print(p_val, z, support)"
   ]
  },
  {
   "cell_type": "code",
   "execution_count": null,
   "id": "daef1eae-f312-41e5-bc99-3a1150704b11",
   "metadata": {},
   "outputs": [],
   "source": [
    "p_val, z, support = rosenbaum(data, group_by=\"Label\", test_group='IFN10', reference='Ctrl', metric=\"sqeuclidean\", k=5, rank=False, use_nx=False)\n",
    "print(p_val, z, support)"
   ]
  },
  {
   "cell_type": "code",
   "execution_count": null,
   "id": "67229a1b-984b-4815-9b08-145650d39c28",
   "metadata": {},
   "outputs": [],
   "source": [
    "p_val, z, support = rosenbaum(data, group_by=\"Label\", test_group='OldMCSF', reference='Ctrl', metric=\"sqeuclidean\", k=5, rank=False, use_nx=False)\n",
    "print(p_val, z, support)"
   ]
  },
  {
   "cell_type": "code",
   "execution_count": null,
   "id": "6c4bb6c5-6364-455d-aeb8-b39c041df1f2",
   "metadata": {},
   "outputs": [],
   "source": [
    "p_val, z, support = rosenbaum(data, group_by=\"Label\", test_group='TGFbeta', reference='Ctrl', metric=\"sqeuclidean\", k=5, rank=False, use_nx=False)\n",
    "print(p_val, z, support)"
   ]
  },
  {
   "cell_type": "code",
   "execution_count": null,
   "id": "93fe642f-50db-476e-8f99-d4c567b23d38",
   "metadata": {},
   "outputs": [],
   "source": []
  }
 ],
 "metadata": {
  "kernelspec": {
   "display_name": "Python 3 (ipykernel)",
   "language": "python",
   "name": "python3"
  },
  "language_info": {
   "codemirror_mode": {
    "name": "ipython",
    "version": 3
   },
   "file_extension": ".py",
   "mimetype": "text/x-python",
   "name": "python",
   "nbconvert_exporter": "python",
   "pygments_lexer": "ipython3",
   "version": "3.9.18"
  }
 },
 "nbformat": 4,
 "nbformat_minor": 5
}
