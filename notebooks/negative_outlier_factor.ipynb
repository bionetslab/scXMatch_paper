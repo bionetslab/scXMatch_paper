{
 "cells": [
  {
   "cell_type": "code",
   "execution_count": 1,
   "id": "39f6e880-6f8f-4daa-a31a-7f3833b85806",
   "metadata": {},
   "outputs": [],
   "source": [
    "%load_ext autoreload\n",
    "%autoreload 2"
   ]
  },
  {
   "cell_type": "code",
   "execution_count": 2,
   "id": "e0c0c04c-6c9e-463f-9c81-e7597b5be44c",
   "metadata": {},
   "outputs": [],
   "source": [
    "# unscaled, log-normalized counts, with conditions subsampled to the same number of cells \n",
    "# and 2000 highly variable genes calculated jointly across all perturbation conditions, including control, using scanpy28 with default parameters (Supplementary Methods)"
   ]
  },
  {
   "cell_type": "code",
   "execution_count": 3,
<<<<<<< HEAD
   "id": "b3086c4c-1ceb-4655-b845-0726365076ff",
   "metadata": {},
   "outputs": [
    {
     "name": "stdout",
     "output_type": "stream",
     "text": [
      "Requirement already satisfied: statsmodels in /data/bionets/je30bery/anaconda3/envs/gt-292/lib/python3.10/site-packages (0.14.4)\n",
      "Requirement already satisfied: numpy<3,>=1.22.3 in /data/bionets/je30bery/anaconda3/envs/gt-292/lib/python3.10/site-packages (from statsmodels) (1.26.4)\n",
      "Requirement already satisfied: scipy!=1.9.2,>=1.8 in /data/bionets/je30bery/anaconda3/envs/gt-292/lib/python3.10/site-packages (from statsmodels) (1.15.1)\n",
      "Requirement already satisfied: pandas!=2.1.0,>=1.4 in /data/bionets/je30bery/anaconda3/envs/gt-292/lib/python3.10/site-packages (from statsmodels) (2.2.3)\n",
      "Requirement already satisfied: patsy>=0.5.6 in /data/bionets/je30bery/anaconda3/envs/gt-292/lib/python3.10/site-packages (from statsmodels) (1.0.1)\n",
      "Requirement already satisfied: packaging>=21.3 in /data/bionets/je30bery/anaconda3/envs/gt-292/lib/python3.10/site-packages (from statsmodels) (24.2)\n",
      "Requirement already satisfied: python-dateutil>=2.8.2 in /data/bionets/je30bery/anaconda3/envs/gt-292/lib/python3.10/site-packages (from pandas!=2.1.0,>=1.4->statsmodels) (2.9.0.post0)\n",
      "Requirement already satisfied: pytz>=2020.1 in /data/bionets/je30bery/anaconda3/envs/gt-292/lib/python3.10/site-packages (from pandas!=2.1.0,>=1.4->statsmodels) (2024.1)\n",
      "Requirement already satisfied: tzdata>=2022.7 in /data/bionets/je30bery/anaconda3/envs/gt-292/lib/python3.10/site-packages (from pandas!=2.1.0,>=1.4->statsmodels) (2023.3)\n",
      "Requirement already satisfied: six>=1.5 in /data/bionets/je30bery/anaconda3/envs/gt-292/lib/python3.10/site-packages (from python-dateutil>=2.8.2->pandas!=2.1.0,>=1.4->statsmodels) (1.17.0)\n",
      "Note: you may need to restart the kernel to use updated packages.\n"
     ]
    }
   ],
   "source": [
    "%pip install statsmodels"
   ]
  },
  {
   "cell_type": "code",
   "execution_count": 4,
=======
>>>>>>> 34cdb82274557d1be58e71b2be5ef3d19fb92d6c
   "id": "ec3d5ee8-9908-4635-bfd7-b759312952b4",
   "metadata": {},
   "outputs": [
    {
     "name": "stdout",
     "output_type": "stream",
     "text": [
<<<<<<< HEAD
      "found cupy installation, will try use the GPU to calculate the distance matrix.\n"
=======
      "will use the CPU to calculate the distance matrix.\n"
     ]
    },
    {
     "name": "stderr",
     "output_type": "stream",
     "text": [
      "/data/bionets/je30bery/singularity/gt/lib/python3.13/site-packages/graph_tool/draw/cairo_draw.py:33: RuntimeWarning: Error importing cairo. Graph drawing will not work.\n",
      "  warnings.warn(msg, RuntimeWarning)\n",
      "/data/bionets/je30bery/singularity/gt/lib/python3.13/site-packages/graph_tool/draw/cairo_draw.py:33: RuntimeWarning: Error importing cairo. Graph drawing will not work.\n",
      "  warnings.warn(msg, RuntimeWarning)\n",
      "/data/bionets/je30bery/singularity/gt/lib/python3.13/site-packages/graph_tool/draw/cairo_draw.py:33: RuntimeWarning: Error importing cairo. Graph drawing will not work.\n",
      "  warnings.warn(msg, RuntimeWarning)\n",
      "/data/bionets/je30bery/singularity/gt/lib/python3.13/site-packages/graph_tool/all.py:39: RuntimeWarning: Error importing draw module, proceeding nevertheless: No module named 'cairo'\n",
      "  warnings.warn(msg, RuntimeWarning)\n"
>>>>>>> 34cdb82274557d1be58e71b2be5ef3d19fb92d6c
     ]
    }
   ],
   "source": [
<<<<<<< HEAD
    "from anndata import read_h5ad\n",
    "import cupy as cp\n",
    "from cupyx.scipy.spatial.distance import cdist\n",
    "import matplotlib.pyplot as plt\n",
    "import numpy as np\n",
    "import pandas as pd \n",
    "import os\n",
    "import seaborn as sns\n",
    "from scipy.stats import mannwhitneyu\n",
    "from statsmodels.stats.multitest import multipletests\n",
    "from sklearn.neighbors import LocalOutlierFactor\n",
    "import string\n",
    "\n",
    "import sys\n",
    "sys.path.append(\"../../scxmatch/src\")\n",
    "from scxmatch import *\n",
    "from utils import *"
=======
    "import scanpy as sc\n",
    "import pandas as pd \n",
    "import matplotlib.pyplot as plt\n",
    "import numpy as np\n",
    "import os\n",
    "from anndata import read_h5ad\n",
    "import seaborn as sns\n",
    "import sys\n",
    "from scipy.spatial.distance import cdist\n",
    "import networkx as nx\n",
    "from sklearn.neighbors import LocalOutlierFactor\n",
    "from scipy.stats import pearsonr\n",
    "sys.path.append(\"..\")\n",
    "from src import *"
   ]
  },
  {
   "cell_type": "code",
   "execution_count": 4,
   "id": "f4d0d5ed-8ad5-4333-9d6a-bb1097a0ce3e",
   "metadata": {},
   "outputs": [],
   "source": [
    "# Define a function to categorize the values\n",
    "def categorize_perturbation(value):\n",
    "    if value == \"control\":\n",
    "        return \"control\"\n",
    "    elif \"_6\" in value:\n",
    "        return \"t_6\"\n",
    "    elif \"_24\" in value:\n",
    "        return \"t_24\"\n",
    "    else:\n",
    "        return \"unknown\""
>>>>>>> 34cdb82274557d1be58e71b2be5ef3d19fb92d6c
   ]
  },
  {
   "cell_type": "code",
   "execution_count": 5,
<<<<<<< HEAD
   "id": "2afd17c3-51d1-403a-a24a-32aebb2883df",
   "metadata": {},
   "outputs": [],
   "source": [
    "k = 20\n",
    "n = 1000"
=======
   "id": "c1a6e0c8-bb44-4329-a43b-494bd25305c6",
   "metadata": {},
   "outputs": [],
   "source": [
    "def jaccard_similarity(matching1, matching2):\n",
    "    \"\"\"\n",
    "    Computes the Jaccard similarity between two graphs given their edge lists.\n",
    "    \"\"\"\n",
    "    edges1 = set(matching1)\n",
    "    edges2 = set(matching2)\n",
    "    intersection = len(edges1 & edges2)\n",
    "    union = len(edges1 | edges2)\n",
    "    return intersection / union if union != 0 else 0"
>>>>>>> 34cdb82274557d1be58e71b2be5ef3d19fb92d6c
   ]
  },
  {
   "cell_type": "code",
   "execution_count": 6,
<<<<<<< HEAD
   "id": "c23499e1-ebcd-40a2-af7b-4baf7d1e9ebd",
   "metadata": {},
   "outputs": [],
   "source": [
    "reference = 0.0\n",
    "group_by = \"dose_value\""
=======
   "id": "2c9b9c16-8566-41e8-9607-7e96b235841e",
   "metadata": {},
   "outputs": [],
   "source": [
    "data_path = \"/mnt/data\""
>>>>>>> 34cdb82274557d1be58e71b2be5ef3d19fb92d6c
   ]
  },
  {
   "cell_type": "code",
   "execution_count": 7,
<<<<<<< HEAD
   "id": "db114ff4-c9a9-45cf-bb7b-7066d75371a3",
   "metadata": {},
   "outputs": [
    {
     "name": "stdout",
     "output_type": "stream",
     "text": [
      "AnnData object with n_obs × n_vars = 162062 × 2000\n",
      "    obs: 'ncounts', 'well', 'plate', 'cell_line', 'replicate', 'time', 'dose_value', 'pathway_level_1', 'pathway_level_2', 'perturbation', 'target', 'pathway', 'dose_unit', 'celltype', 'disease', 'cancer', 'tissue_type', 'organism', 'perturbation_type', 'ngenes', 'percent_mito', 'percent_ribo', 'nperts', 'chembl-ID', 'n_genes', 'perturbation_name', 'log10(dose_value)'\n",
      "    var: 'ensembl_id', 'ncounts', 'ncells', 'n_cells', 'highly_variable', 'means', 'dispersions', 'dispersions_norm'\n",
      "    uns: 'log1p', 'hvg'\n",
      "    layers: 'counts'\n",
      "XMatch_group\n",
      "reference    1000\n",
      "test         1000\n",
      "Name: count, dtype: int64\n",
      "calculating kNN graph.\n"
     ]
    },
    {
     "name": "stderr",
     "output_type": "stream",
     "text": [
      "/data_nfs/je30bery/rosenbaum_test/notebooks/../../scxmatch/src/scxmatch/rosenbaum.py:154: ImplicitModificationWarning: Trying to modify attribute `.obs` of view, initializing view as actual.\n",
      "  adata.obs[\"XMatch_group\"] = np.where(adata.obs[group_by].isin(test_group), \"test\", \"reference\")\n",
      "/data/bionets/je30bery/anaconda3/envs/gt-292/lib/python3.10/site-packages/tqdm/auto.py:21: TqdmWarning: IProgress not found. Please update jupyter and ipywidgets. See https://ipywidgets.readthedocs.io/en/stable/user_install.html\n",
      "  from .autonotebook import tqdm as notebook_tqdm\n"
     ]
    },
    {
     "name": "stdout",
     "output_type": "stream",
     "text": [
      "counting cross matches.\n",
      "0.768\n"
     ]
    },
    {
     "name": "stderr",
     "output_type": "stream",
     "text": [
      "/data_nfs/je30bery/rosenbaum_test/notebooks/../../scxmatch/src/scxmatch/rosenbaum.py:154: ImplicitModificationWarning: Trying to modify attribute `.obs` of view, initializing view as actual.\n",
      "  adata.obs[\"XMatch_group\"] = np.where(adata.obs[group_by].isin(test_group), \"test\", \"reference\")\n"
     ]
    },
    {
     "name": "stdout",
     "output_type": "stream",
     "text": [
      "XMatch_group\n",
      "reference    1000\n",
      "test         1000\n",
      "Name: count, dtype: int64\n",
      "calculating kNN graph.\n",
      "counting cross matches.\n",
      "0.762\n",
      "XMatch_group\n",
      "reference    1000\n",
      "test         1000\n",
      "Name: count, dtype: int64\n",
      "calculating kNN graph.\n"
     ]
    },
    {
     "name": "stderr",
     "output_type": "stream",
     "text": [
      "/data_nfs/je30bery/rosenbaum_test/notebooks/../../scxmatch/src/scxmatch/rosenbaum.py:154: ImplicitModificationWarning: Trying to modify attribute `.obs` of view, initializing view as actual.\n",
      "  adata.obs[\"XMatch_group\"] = np.where(adata.obs[group_by].isin(test_group), \"test\", \"reference\")\n"
     ]
    },
    {
     "name": "stdout",
     "output_type": "stream",
     "text": [
      "counting cross matches.\n",
      "0.758\n",
      "XMatch_group\n",
      "reference    1000\n",
      "test         1000\n",
      "Name: count, dtype: int64\n",
      "calculating kNN graph.\n"
     ]
    },
    {
     "name": "stderr",
     "output_type": "stream",
     "text": [
      "/data_nfs/je30bery/rosenbaum_test/notebooks/../../scxmatch/src/scxmatch/rosenbaum.py:154: ImplicitModificationWarning: Trying to modify attribute `.obs` of view, initializing view as actual.\n",
      "  adata.obs[\"XMatch_group\"] = np.where(adata.obs[group_by].isin(test_group), \"test\", \"reference\")\n"
     ]
    },
    {
     "name": "stdout",
     "output_type": "stream",
     "text": [
      "counting cross matches.\n",
      "0.81\n",
      "AnnData object with n_obs × n_vars = 344770 × 2000\n",
      "    obs: 'ncounts', 'well', 'plate', 'cell_line', 'replicate', 'time', 'dose_value', 'pathway_level_1', 'pathway_level_2', 'perturbation', 'target', 'pathway', 'dose_unit', 'celltype', 'disease', 'cancer', 'tissue_type', 'organism', 'perturbation_type', 'ngenes', 'percent_mito', 'percent_ribo', 'nperts', 'chembl-ID', 'n_genes', 'perturbation_name', 'log10(dose_value)'\n",
      "    var: 'ensembl_id', 'ncounts', 'ncells', 'n_cells', 'highly_variable', 'means', 'dispersions', 'dispersions_norm'\n",
      "    uns: 'log1p', 'hvg'\n",
      "    layers: 'counts'\n",
      "XMatch_group\n",
      "reference    1000\n",
      "test         1000\n",
      "Name: count, dtype: int64\n",
      "calculating kNN graph.\n"
     ]
    },
    {
     "name": "stderr",
     "output_type": "stream",
     "text": [
      "/data_nfs/je30bery/rosenbaum_test/notebooks/../../scxmatch/src/scxmatch/rosenbaum.py:154: ImplicitModificationWarning: Trying to modify attribute `.obs` of view, initializing view as actual.\n",
      "  adata.obs[\"XMatch_group\"] = np.where(adata.obs[group_by].isin(test_group), \"test\", \"reference\")\n"
     ]
    },
    {
     "name": "stdout",
     "output_type": "stream",
     "text": [
      "counting cross matches.\n",
      "0.938\n"
     ]
    },
    {
     "name": "stderr",
     "output_type": "stream",
     "text": [
      "/data_nfs/je30bery/rosenbaum_test/notebooks/../../scxmatch/src/scxmatch/rosenbaum.py:154: ImplicitModificationWarning: Trying to modify attribute `.obs` of view, initializing view as actual.\n",
      "  adata.obs[\"XMatch_group\"] = np.where(adata.obs[group_by].isin(test_group), \"test\", \"reference\")\n"
     ]
    },
    {
     "name": "stdout",
     "output_type": "stream",
     "text": [
      "XMatch_group\n",
      "reference    1000\n",
      "test         1000\n",
      "Name: count, dtype: int64\n",
      "calculating kNN graph.\n",
      "counting cross matches.\n",
      "0.949\n"
     ]
    },
    {
     "name": "stderr",
     "output_type": "stream",
     "text": [
      "/data_nfs/je30bery/rosenbaum_test/notebooks/../../scxmatch/src/scxmatch/rosenbaum.py:154: ImplicitModificationWarning: Trying to modify attribute `.obs` of view, initializing view as actual.\n",
      "  adata.obs[\"XMatch_group\"] = np.where(adata.obs[group_by].isin(test_group), \"test\", \"reference\")\n"
     ]
    },
    {
     "name": "stdout",
     "output_type": "stream",
     "text": [
      "XMatch_group\n",
      "reference    1000\n",
      "test         1000\n",
      "Name: count, dtype: int64\n",
      "calculating kNN graph.\n",
      "counting cross matches.\n",
      "0.963\n"
     ]
    },
    {
     "name": "stderr",
     "output_type": "stream",
     "text": [
      "/data_nfs/je30bery/rosenbaum_test/notebooks/../../scxmatch/src/scxmatch/rosenbaum.py:154: ImplicitModificationWarning: Trying to modify attribute `.obs` of view, initializing view as actual.\n",
      "  adata.obs[\"XMatch_group\"] = np.where(adata.obs[group_by].isin(test_group), \"test\", \"reference\")\n"
     ]
    },
    {
     "name": "stdout",
     "output_type": "stream",
     "text": [
      "XMatch_group\n",
      "reference    1000\n",
      "test         1000\n",
      "Name: count, dtype: int64\n",
      "calculating kNN graph.\n",
      "counting cross matches.\n",
      "0.953\n",
      "AnnData object with n_obs × n_vars = 173149 × 2000\n",
      "    obs: 'ncounts', 'well', 'plate', 'cell_line', 'replicate', 'time', 'dose_value', 'pathway_level_1', 'pathway_level_2', 'perturbation', 'target', 'pathway', 'dose_unit', 'celltype', 'disease', 'cancer', 'tissue_type', 'organism', 'perturbation_type', 'ngenes', 'percent_mito', 'percent_ribo', 'nperts', 'chembl-ID', 'n_genes', 'perturbation_name', 'log10(dose_value)'\n",
      "    var: 'ensembl_id', 'ncounts', 'ncells', 'n_cells', 'highly_variable', 'means', 'dispersions', 'dispersions_norm'\n",
      "    uns: 'log1p', 'hvg'\n",
      "    layers: 'counts'\n",
      "XMatch_group\n",
      "reference    1000\n",
      "test         1000\n",
      "Name: count, dtype: int64\n",
      "calculating kNN graph.\n"
     ]
    },
    {
     "name": "stderr",
     "output_type": "stream",
     "text": [
      "/data_nfs/je30bery/rosenbaum_test/notebooks/../../scxmatch/src/scxmatch/rosenbaum.py:154: ImplicitModificationWarning: Trying to modify attribute `.obs` of view, initializing view as actual.\n",
      "  adata.obs[\"XMatch_group\"] = np.where(adata.obs[group_by].isin(test_group), \"test\", \"reference\")\n"
     ]
    },
    {
     "name": "stdout",
     "output_type": "stream",
     "text": [
      "counting cross matches.\n",
      "0.875\n"
     ]
    },
    {
     "name": "stderr",
     "output_type": "stream",
     "text": [
      "/data_nfs/je30bery/rosenbaum_test/notebooks/../../scxmatch/src/scxmatch/rosenbaum.py:154: ImplicitModificationWarning: Trying to modify attribute `.obs` of view, initializing view as actual.\n",
      "  adata.obs[\"XMatch_group\"] = np.where(adata.obs[group_by].isin(test_group), \"test\", \"reference\")\n"
     ]
    },
    {
     "name": "stdout",
     "output_type": "stream",
     "text": [
      "XMatch_group\n",
      "reference    1000\n",
      "test         1000\n",
      "Name: count, dtype: int64\n",
      "calculating kNN graph.\n",
      "counting cross matches.\n",
      "0.878\n"
     ]
    },
    {
     "name": "stderr",
     "output_type": "stream",
     "text": [
      "/data_nfs/je30bery/rosenbaum_test/notebooks/../../scxmatch/src/scxmatch/rosenbaum.py:154: ImplicitModificationWarning: Trying to modify attribute `.obs` of view, initializing view as actual.\n",
      "  adata.obs[\"XMatch_group\"] = np.where(adata.obs[group_by].isin(test_group), \"test\", \"reference\")\n"
     ]
    },
    {
     "name": "stdout",
     "output_type": "stream",
     "text": [
      "XMatch_group\n",
      "reference    1000\n",
      "test         1000\n",
      "Name: count, dtype: int64\n",
      "calculating kNN graph.\n",
      "counting cross matches.\n",
      "0.872\n",
      "XMatch_group\n",
      "reference    1000\n",
      "test         1000\n",
      "Name: count, dtype: int64\n",
      "calculating kNN graph.\n"
     ]
    },
    {
     "name": "stderr",
     "output_type": "stream",
     "text": [
      "/data_nfs/je30bery/rosenbaum_test/notebooks/../../scxmatch/src/scxmatch/rosenbaum.py:154: ImplicitModificationWarning: Trying to modify attribute `.obs` of view, initializing view as actual.\n",
      "  adata.obs[\"XMatch_group\"] = np.where(adata.obs[group_by].isin(test_group), \"test\", \"reference\")\n"
     ]
    },
    {
     "name": "stdout",
     "output_type": "stream",
     "text": [
      "counting cross matches.\n",
      "0.9\n"
     ]
    }
   ],
   "source": [
    "outlier_dfs = list()\n",
    "data_path = \"/data_nfs/datasets/scrnaseq_ji/\"\n",
    "datasets = [\"sciplex_A549.hdf5\", \"sciplex_MCF7.hdf5\", \"sciplex_K562.hdf5\"]\n",
    "for i, dataset in enumerate(datasets): \n",
    "    adata = read_h5ad(os.path.join(data_path, dataset))    \n",
    "    adata = scanpy_setup(adata)\n",
    "    print(adata)\n",
    "    groups = adata.obs[group_by].unique()\n",
    "    reference_indices = list(np.random.choice(np.where(adata.obs[group_by] == reference)[0], size=n, replace=False))\n",
    "    dfs = dict()\n",
    "    for test_group in groups:\n",
    "        if test_group == reference:\n",
    "            continue\n",
    "        \n",
    "        test_group_indices = np.where(adata.obs[group_by] == test_group)[0]\n",
    "        sampled_indices = list(np.random.choice(test_group_indices, size=n, replace=False))\n",
    "        \n",
    "        subset = adata[reference_indices + sampled_indices]\n",
    "        (p, z, s), G, matching = rosenbaum(subset, group_by=group_by, reference=reference, test_group=test_group, k=k, return_matching=True)\n",
    "        print(s)\n",
    "        used_elements = sorted(list(chain.from_iterable(matching)))\n",
    "        \n",
    "        distances = cp.asnumpy(cdist(cp.array(subset.X.todense()), cp.array(subset.X.todense()), metric=\"sqeuclidean\"))\n",
    "        if np.min(distances) < 0:\n",
    "            print(\"problem\")\n",
    "        lof = LocalOutlierFactor(n_neighbors=20, algorithm='auto', leaf_size=30, metric='precomputed')\n",
    "        pred = lof.fit_predict(np.abs(distances))\n",
    "        nof = lof.negative_outlier_factor_\n",
    "        outliers = pd.DataFrame(nof, columns=[\"Negative outlier factor\"])\n",
    "        outliers[\"in matching\"] = False\n",
    "        outliers.iloc[used_elements, 1] = True\n",
    "        dfs[test_group] = outliers\n",
    "    df = pd.concat(dfs).reset_index().rename({\"level_0\": \"Test group\"}, axis=1)\n",
    "    outlier_dfs.append(df)"
   ]
  },
  {
   "cell_type": "code",
   "execution_count": 8,
   "id": "3f83fb47-49b7-4442-8948-6fae90e29591",
   "metadata": {},
   "outputs": [],
   "source": [
    "p_vals = list()\n",
    "for i, df in enumerate(outlier_dfs):\n",
    "    for j, test_group in enumerate(df[\"Test group\"].unique()):\n",
    "        subset_true = df[(df[\"Test group\"] == test_group) & (df[\"in matching\"] == True)][\"Negative outlier factor\"]\n",
    "        subset_false = df[(df[\"Test group\"] == test_group) & (df[\"in matching\"] == False)][\"Negative outlier factor\"]\n",
    "        p_val = mannwhitneyu(subset_false, subset_true, alternative=\"less\").pvalue\n",
    "        p_vals.append(p_val)"
   ]
  },
  {
   "cell_type": "code",
   "execution_count": 42,
   "id": "32b73439-d810-4148-a37d-7abc39784cd9",
   "metadata": {},
   "outputs": [],
   "source": [
    "p_adjs = multipletests(p_vals, method=\"fdr_bh\")[1]"
   ]
  },
  {
   "cell_type": "code",
   "execution_count": 43,
   "id": "3496f5f9-35ee-4d97-a1f2-b29c9f939975",
=======
   "id": "5c789240-6a61-4509-84b7-812632aec476",
>>>>>>> 34cdb82274557d1be58e71b2be5ef3d19fb92d6c
   "metadata": {},
   "outputs": [
    {
     "data": {
      "text/plain": [
<<<<<<< HEAD
       "array([4.79690752e-12, 7.11287171e-11, 1.27136840e-12, 2.79879825e-06,\n",
       "       1.51933348e-08, 7.99421818e-07, 7.84255427e-09, 4.94047071e-08,\n",
       "       2.05298037e-18, 2.05298037e-18, 1.85016193e-22, 3.12358632e-25])"
      ]
     },
     "execution_count": 43,
=======
       "['sciplex_K562.hdf5',\n",
       " 'sciplex_A549.hdf5',\n",
       " 'sciplex_MCF7.hdf5',\n",
       " 'schiebinger.hdf5',\n",
       " 'mcfarland.hdf5',\n",
       " 'norman.hdf5',\n",
       " 'kang.hdf5',\n",
       " 'bhattacherjee.hdf5']"
      ]
     },
     "execution_count": 7,
>>>>>>> 34cdb82274557d1be58e71b2be5ef3d19fb92d6c
     "metadata": {},
     "output_type": "execute_result"
    }
   ],
   "source": [
<<<<<<< HEAD
    "p_adjs"
=======
    "os.listdir(data_path)"
>>>>>>> 34cdb82274557d1be58e71b2be5ef3d19fb92d6c
   ]
  },
  {
   "cell_type": "code",
<<<<<<< HEAD
   "execution_count": 41,
   "id": "563a7765-014b-4368-b424-ca7ef3cb69ae",
   "metadata": {},
   "outputs": [
    {
     "data": {
      "image/png": "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",
      "text/plain": [
       "<Figure size 1200x500 with 3 Axes>"
      ]
     },
     "metadata": {},
     "output_type": "display_data"
    }
   ],
   "source": [
    "f, axs = plt.subplots(1, 3, figsize=(12, 5), sharey=True)\n",
    "labels = string.ascii_lowercase  \n",
    "j_steps = int(len(p_adjs) / len(outlier_dfs))\n",
    "\n",
    "for i, df in enumerate(outlier_dfs):\n",
    "    legend = False if i != 1 else \"full\"\n",
    "    sns.violinplot(df, y=\"Negative outlier factor\", hue=\"in matching\", x=\"Test group\", cut=0, split=True, palette=\"magma\", ax=axs[i], legend=legend) \n",
    "    axs[i].set_title(os.path.splitext(datasets[i])[0])\n",
    "    \n",
    "    for j in range(0, j_steps):\n",
    "        axs[i].text(j, -1, f\"${p_adjs[i * j_steps + j]:.3f}$\", ha=\"center\", va=\"bottom\", fontsize=10, color=\"black\")\n",
    "\n",
    "    axs[i].text(\n",
    "        -0.05, 1.05,  # Position (normalized figure coordinates)\n",
    "        labels[i],   # Corresponding letter\n",
    "        transform=axs[i].transAxes,  # Relative to subplot\n",
    "        fontsize=10, fontweight='bold', va='top', ha='left'\n",
    "    )\n",
    "\n",
    "axs[1].legend(loc='upper center', bbox_to_anchor=(0.5, 1.25), ncol=2, title=\"Sample contained in matching with k=20\")\n",
    "plt.savefig(\"../plots/nof.pdf\", bbox_inches=\"tight\")"
=======
   "execution_count": 8,
   "id": "536e425c-0729-4833-83f1-5962fbedcfb6",
   "metadata": {},
   "outputs": [],
   "source": [
    "adata = read_h5ad(os.path.join(data_path, 'sciplex_A549.hdf5'))"
   ]
  },
  {
   "cell_type": "code",
   "execution_count": 9,
   "id": "89b10d67-a911-4b79-87ac-2c6ed789f9c7",
   "metadata": {},
   "outputs": [],
   "source": [
    "sc.pp.log1p(adata)\n",
    "sc.pp.highly_variable_genes(adata, n_top_genes=2000)\n",
    "adata = adata[:, adata.var.highly_variable]"
>>>>>>> 34cdb82274557d1be58e71b2be5ef3d19fb92d6c
   ]
  },
  {
   "cell_type": "code",
   "execution_count": null,
<<<<<<< HEAD
   "id": "46bfc598-a69c-4e11-9300-d5d9a488bae2",
=======
   "id": "99f7d621-9efd-4e29-bdca-5c99792317cb",
   "metadata": {},
   "outputs": [],
   "source": [
    "sc.pp.neighbors(adata, n_pcs=0)\n",
    "sc.tl.umap(adata)\n",
    "sc.pl.umap(adata, color=\"dose_value\")"
   ]
  },
  {
   "cell_type": "code",
   "execution_count": null,
   "id": "10cd8e11-7e6b-4abf-b8ce-a243f4fdb8db",
   "metadata": {},
   "outputs": [],
   "source": [
    "asdsaf"
   ]
  },
  {
   "cell_type": "code",
   "execution_count": null,
   "id": "2431d77c-ece9-4487-83a6-f1b4d73b37f7",
   "metadata": {},
   "outputs": [],
   "source": [
    "(ref_p, ref_z, ref_s), ref_matching = rosenbaum(adata, group_by=\"timepoint\", reference=\"control\", test_group=\"t_6\", k=None, return_matching=True)"
   ]
  },
  {
   "cell_type": "code",
   "execution_count": null,
   "id": "8659403a-fa1b-4553-8ead-81f152fce3bf",
   "metadata": {},
   "outputs": [],
   "source": []
  },
  {
   "cell_type": "code",
   "execution_count": null,
   "id": "6056126b-fde2-42d5-800e-afe0cbbeb03b",
   "metadata": {},
   "outputs": [],
   "source": [
    "pd.DataFrame(results, index=[\"p-val\", \"z-score\", \"support\", \"jaccard similarity\"])"
   ]
  },
  {
   "cell_type": "code",
   "execution_count": null,
   "id": "558c3aa7-c037-42d0-8f7b-e6620e3f9901",
   "metadata": {},
   "outputs": [],
   "source": [
    "(p, z, s), matching = rosenbaum(adata, group_by=\"timepoint\", reference=\"control\", test_group=\"t_6\", k=2, return_matching=True)"
   ]
  },
  {
   "cell_type": "code",
   "execution_count": null,
   "id": "0575e579-e3de-41f5-b0ce-5bcaf0176c74",
   "metadata": {},
   "outputs": [],
   "source": [
    "used_elements = list(chain.from_iterable(matching))"
   ]
  },
  {
   "cell_type": "code",
   "execution_count": null,
   "id": "2012192d-64f0-48a6-ae0d-59936a456a2a",
   "metadata": {},
   "outputs": [],
   "source": [
    "subset = adata[adata.obs[\"timepoint\"].isin([\"control\", \"t_6\"])]"
   ]
  },
  {
   "cell_type": "code",
   "execution_count": null,
   "id": "f6c9c10f-3665-49d5-a8ba-15c701ece493",
   "metadata": {},
   "outputs": [],
   "source": [
    "distances = cdist(subset.X.todense(), subset.X.todense(), metric=\"sqeuclidean\")\n",
    "lof = LocalOutlierFactor(n_neighbors=20, algorithm='auto', leaf_size=30, metric='precomputed')\n",
    "pred = lof.fit_predict(distances)\n",
    "nof = lof.negative_outlier_factor_\n",
    "outliers = pd.DataFrame(nof, columns=[\"Negative outlier factor\"])\n",
    "outliers[\"in matching\"] = False\n",
    "outliers.iloc[used_elements, 1] = True\n",
    "print(outliers[\"in matching\"].value_counts())"
   ]
  },
  {
   "cell_type": "code",
   "execution_count": null,
   "id": "c8142963-2f93-4bc7-b38e-4b9a4b1fac5b",
   "metadata": {},
   "outputs": [],
   "source": [
    "sns.kdeplot(outliers, x=\"Negative outlier factor\", hue=\"in matching\")\n",
    "sns.rugplot(outliers, x=\"Negative outlier factor\", hue=\"in matching\")"
   ]
  },
  {
   "cell_type": "code",
   "execution_count": null,
   "id": "c047d31b-d3f2-46f5-aa5f-4818b5797d12",
>>>>>>> 34cdb82274557d1be58e71b2be5ef3d19fb92d6c
   "metadata": {},
   "outputs": [],
   "source": []
  }
 ],
 "metadata": {
  "kernelspec": {
   "display_name": "Python 3 (ipykernel)",
   "language": "python",
   "name": "python3"
  },
  "language_info": {
   "codemirror_mode": {
    "name": "ipython",
    "version": 3
   },
   "file_extension": ".py",
   "mimetype": "text/x-python",
   "name": "python",
   "nbconvert_exporter": "python",
   "pygments_lexer": "ipython3",
<<<<<<< HEAD
   "version": "3.10.16"
=======
   "version": "3.13.1"
>>>>>>> 34cdb82274557d1be58e71b2be5ef3d19fb92d6c
  }
 },
 "nbformat": 4,
 "nbformat_minor": 5
}
