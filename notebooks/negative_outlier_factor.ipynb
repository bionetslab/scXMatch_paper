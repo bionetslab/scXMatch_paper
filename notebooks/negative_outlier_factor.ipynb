{
 "cells": [
  {
   "cell_type": "code",
   "execution_count": 1,
   "id": "39f6e880-6f8f-4daa-a31a-7f3833b85806",
   "metadata": {},
   "outputs": [],
   "source": [
    "%load_ext autoreload\n",
    "%autoreload 2"
   ]
  },
  {
   "cell_type": "code",
   "execution_count": 2,
   "id": "e0c0c04c-6c9e-463f-9c81-e7597b5be44c",
   "metadata": {},
   "outputs": [],
   "source": [
    "# unscaled, log-normalized counts, with conditions subsampled to the same number of cells \n",
    "# and 2000 highly variable genes calculated jointly across all perturbation conditions, including control, using scanpy28 with default parameters (Supplementary Methods)"
   ]
  },
  {
   "cell_type": "code",
   "execution_count": 3,
   "id": "ec3d5ee8-9908-4635-bfd7-b759312952b4",
   "metadata": {},
   "outputs": [
    {
     "name": "stdout",
     "output_type": "stream",
     "text": [
      "found cupy installation, will try use the GPU to calculate the distance matrix.\n"
     ]
    }
   ],
   "source": [
    "from anndata import read_h5ad\n",
    "import cupy as cp\n",
    "from cupyx.scipy.spatial.distance import cdist\n",
    "import matplotlib.pyplot as plt\n",
    "import numpy as np\n",
    "import pandas as pd \n",
    "import os\n",
    "import seaborn as sns\n",
    "from scipy.stats import mannwhitneyu\n",
    "from statsmodels.stats.multitest import multipletests\n",
    "from sklearn.neighbors import LocalOutlierFactor\n",
    "import string\n",
    "\n",
    "import sys\n",
    "sys.path.append(\"../../scxmatch/src\")\n",
    "from scxmatch import *"
   ]
  },
  {
   "cell_type": "code",
   "execution_count": 4,
   "id": "2afd17c3-51d1-403a-a24a-32aebb2883df",
   "metadata": {},
   "outputs": [],
   "source": [
    "k = 100\n",
    "#n = 1000"
   ]
  },
  {
   "cell_type": "code",
   "execution_count": 5,
   "id": "c23499e1-ebcd-40a2-af7b-4baf7d1e9ebd",
   "metadata": {},
   "outputs": [],
   "source": [
    "reference = 0.0\n",
    "group_by = \"dose_value\""
   ]
  },
  {
   "cell_type": "code",
   "execution_count": null,
   "id": "db114ff4-c9a9-45cf-bb7b-7066d75371a3",
   "metadata": {},
   "outputs": [
    {
     "name": "stdout",
     "output_type": "stream",
     "text": [
      "XMatch_group\n",
      "test         38945\n",
      "reference     3772\n",
      "Name: count, dtype: int64\n",
      "calculating kNN graph.\n"
     ]
    },
    {
     "name": "stderr",
     "output_type": "stream",
     "text": [
      "/data/bionets/je30bery/anaconda3/envs/gt-292/lib/python3.10/site-packages/tqdm/auto.py:21: TqdmWarning: IProgress not found. Please update jupyter and ipywidgets. See https://ipywidgets.readthedocs.io/en/stable/user_install.html\n",
      "  from .autonotebook import tqdm as notebook_tqdm\n"
     ]
    }
   ],
   "source": [
    "outlier_dfs = list()\n",
    "data_path = \"/data_nfs/datasets/scrnaseq_ji/\"\n",
    "datasets = [\"sciplex_A549.hdf5\", \"sciplex_MCF7.hdf5\", \"sciplex_K562.hdf5\"]\n",
    "for i, dataset in enumerate(datasets): \n",
    "    adata = read_h5ad(os.path.join(data_path, dataset))    \n",
    "    adata = scanpy_setup(adata)\n",
    "\n",
    "    groups = adata.obs[group_by].unique()\n",
    "    #reference_indices = list(np.random.choice(np.where(adata.obs[group_by] == reference)[0], size=n, replace=False))\n",
    "    \n",
    "    dfs = dict()\n",
    "    for test_group in groups:\n",
    "        if test_group == reference:\n",
    "            continue\n",
    "        \n",
    "        #test_group_indices = np.where(adata.obs[group_by] == test_group)[0]\n",
    "        #sampled_indices = list(np.random.choice(test_group_indices, size=n, replace=False))\n",
    "        \n",
    "        subset = adata[adata.obs[group_by].isin([reference, test_group])]\n",
    "        (p, z, s), G, matching = rosenbaum(subset, group_by=group_by, reference=reference, test_group=test_group, k=k, return_matching=True)\n",
    "        print(s)\n",
    "        used_elements = sorted(list(chain.from_iterable(matching)))\n",
    "        \n",
    "        distances = cp.asnumpy(cdist(cp.array(subset.X.todense()), cp.array(subset.X.todense()), metric=\"sqeuclidean\"))\n",
    "        if np.min(distances) < 0:\n",
    "            print(\"problem\")\n",
    "        \n",
    "        lof = LocalOutlierFactor(n_neighbors=20, algorithm='auto', leaf_size=30, metric='precomputed')\n",
    "        pred = lof.fit_predict(np.abs(distances))\n",
    "        nof = lof.negative_outlier_factor_\n",
    "        outliers = pd.DataFrame(nof, columns=[\"Negative outlier factor\"])\n",
    "        outliers[\"in matching\"] = False\n",
    "        outliers.iloc[used_elements, 1] = True\n",
    "        dfs[test_group] = outliers\n",
    "    df = pd.concat(dfs).reset_index().rename({\"level_0\": \"Test group\"}, axis=1)\n",
    "    outlier_dfs.append(df)"
   ]
  },
  {
   "cell_type": "code",
   "execution_count": null,
   "id": "3f83fb47-49b7-4442-8948-6fae90e29591",
   "metadata": {},
   "outputs": [],
   "source": [
    "p_vals = list()\n",
    "for i, df in enumerate(outlier_dfs):\n",
    "    for j, test_group in enumerate(df[\"Test group\"].unique()):\n",
    "        subset_true = df[(df[\"Test group\"] == test_group) & (df[\"in matching\"] == True)][\"Negative outlier factor\"]\n",
    "        subset_false = df[(df[\"Test group\"] == test_group) & (df[\"in matching\"] == False)][\"Negative outlier factor\"]\n",
    "        p_val = mannwhitneyu(subset_false, subset_true, alternative=\"less\").pvalue\n",
    "        p_vals.append(p_val)"
   ]
  },
  {
   "cell_type": "code",
   "execution_count": null,
   "id": "32b73439-d810-4148-a37d-7abc39784cd9",
   "metadata": {},
   "outputs": [],
   "source": [
    "p_adjs = multipletests(p_vals, method=\"fdr_bh\")[1]"
   ]
  },
  {
   "cell_type": "code",
   "execution_count": null,
   "id": "563a7765-014b-4368-b424-ca7ef3cb69ae",
   "metadata": {},
   "outputs": [],
   "source": [
    "f, axs = plt.subplots(1, 3, figsize=(12, 5), sharey=True)\n",
    "labels = string.ascii_lowercase  \n",
    "j_steps = int(len(p_adjs) / len(outlier_dfs))\n",
    "\n",
    "for i, df in enumerate(outlier_dfs):\n",
    "    legend = False if i != 1 else \"full\"\n",
    "    sns.violinplot(df, y=\"Negative outlier factor\", hue=\"in matching\", x=\"Test group\", cut=0, split=True, palette=\"magma\", ax=axs[i], legend=legend) \n",
    "    axs[i].set_title(os.path.splitext(datasets[i])[0])\n",
    "    \n",
    "    for j in range(0, j_steps):\n",
    "        axs[i].text(j, -1, f\"${p_adjs[i * j_steps + j]:.3f}$\", ha=\"center\", va=\"bottom\", fontsize=10, color=\"black\")\n",
    "\n",
    "    axs[i].text(\n",
    "        -0.05, 1.05,  # Position (normalized figure coordinates)\n",
    "        labels[i],   # Corresponding letter\n",
    "        transform=axs[i].transAxes,  # Relative to subplot\n",
    "        fontsize=10, fontweight='bold', va='top', ha='left'\n",
    "    )\n",
    "\n",
    "axs[1].legend(loc='upper center', bbox_to_anchor=(0.5, 1.25), ncol=2, title=\"Sample contained in matching with k=20\")\n",
    "plt.savefig(\"../plots/nof.pdf\", bbox_inches=\"tight\")"
   ]
  },
  {
   "cell_type": "code",
   "execution_count": null,
   "id": "46bfc598-a69c-4e11-9300-d5d9a488bae2",
   "metadata": {},
   "outputs": [],
   "source": []
  }
 ],
 "metadata": {
  "kernelspec": {
   "display_name": "Python 3 (ipykernel)",
   "language": "python",
   "name": "python3"
  },
  "language_info": {
   "codemirror_mode": {
    "name": "ipython",
    "version": 3
   },
   "file_extension": ".py",
   "mimetype": "text/x-python",
   "name": "python",
   "nbconvert_exporter": "python",
   "pygments_lexer": "ipython3",
   "version": "3.10.16"
  }
 },
 "nbformat": 4,
 "nbformat_minor": 5
}
