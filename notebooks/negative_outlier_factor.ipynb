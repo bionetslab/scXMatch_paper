{
 "cells": [
  {
   "cell_type": "code",
   "execution_count": 1,
   "id": "39f6e880-6f8f-4daa-a31a-7f3833b85806",
   "metadata": {},
   "outputs": [],
   "source": [
    "%load_ext autoreload\n",
    "%autoreload 2"
   ]
  },
  {
   "cell_type": "code",
   "execution_count": 2,
   "id": "e0c0c04c-6c9e-463f-9c81-e7597b5be44c",
   "metadata": {},
   "outputs": [],
   "source": [
    "# unscaled, log-normalized counts, with conditions subsampled to the same number of cells \n",
    "# and 2000 highly variable genes calculated jointly across all perturbation conditions, including control, using scanpy28 with default parameters (Supplementary Methods)"
   ]
  },
  {
   "cell_type": "code",
   "execution_count": 3,
   "id": "ec3d5ee8-9908-4635-bfd7-b759312952b4",
   "metadata": {},
   "outputs": [
    {
     "name": "stdout",
     "output_type": "stream",
     "text": [
      "will use the CPU to calculate the distance matrix.\n"
     ]
    },
    {
     "name": "stderr",
     "output_type": "stream",
     "text": [
      "/data/bionets/je30bery/singularity/gt/lib/python3.13/site-packages/graph_tool/draw/cairo_draw.py:33: RuntimeWarning: Error importing cairo. Graph drawing will not work.\n",
      "  warnings.warn(msg, RuntimeWarning)\n",
      "/data/bionets/je30bery/singularity/gt/lib/python3.13/site-packages/graph_tool/draw/cairo_draw.py:33: RuntimeWarning: Error importing cairo. Graph drawing will not work.\n",
      "  warnings.warn(msg, RuntimeWarning)\n",
      "/data/bionets/je30bery/singularity/gt/lib/python3.13/site-packages/graph_tool/draw/cairo_draw.py:33: RuntimeWarning: Error importing cairo. Graph drawing will not work.\n",
      "  warnings.warn(msg, RuntimeWarning)\n",
      "/data/bionets/je30bery/singularity/gt/lib/python3.13/site-packages/graph_tool/all.py:39: RuntimeWarning: Error importing draw module, proceeding nevertheless: No module named 'cairo'\n",
      "  warnings.warn(msg, RuntimeWarning)\n"
     ]
    }
   ],
   "source": [
    "import scanpy as sc\n",
    "import pandas as pd \n",
    "import matplotlib.pyplot as plt\n",
    "import numpy as np\n",
    "import os\n",
    "from anndata import read_h5ad\n",
    "import seaborn as sns\n",
    "import sys\n",
    "from scipy.spatial.distance import cdist\n",
    "import networkx as nx\n",
    "from sklearn.neighbors import LocalOutlierFactor\n",
    "from scipy.stats import pearsonr\n",
    "sys.path.append(\"..\")\n",
    "from src import *"
   ]
  },
  {
   "cell_type": "code",
   "execution_count": 4,
   "id": "f4d0d5ed-8ad5-4333-9d6a-bb1097a0ce3e",
   "metadata": {},
   "outputs": [],
   "source": [
    "# Define a function to categorize the values\n",
    "def categorize_perturbation(value):\n",
    "    if value == \"control\":\n",
    "        return \"control\"\n",
    "    elif \"_6\" in value:\n",
    "        return \"t_6\"\n",
    "    elif \"_24\" in value:\n",
    "        return \"t_24\"\n",
    "    else:\n",
    "        return \"unknown\""
   ]
  },
  {
   "cell_type": "code",
   "execution_count": 5,
   "id": "c1a6e0c8-bb44-4329-a43b-494bd25305c6",
   "metadata": {},
   "outputs": [],
   "source": [
    "def jaccard_similarity(matching1, matching2):\n",
    "    \"\"\"\n",
    "    Computes the Jaccard similarity between two graphs given their edge lists.\n",
    "    \"\"\"\n",
    "    edges1 = set(matching1)\n",
    "    edges2 = set(matching2)\n",
    "    intersection = len(edges1 & edges2)\n",
    "    union = len(edges1 | edges2)\n",
    "    return intersection / union if union != 0 else 0"
   ]
  },
  {
   "cell_type": "code",
   "execution_count": 6,
   "id": "2c9b9c16-8566-41e8-9607-7e96b235841e",
   "metadata": {},
   "outputs": [],
   "source": [
    "data_path = \"/mnt/data\""
   ]
  },
  {
   "cell_type": "code",
   "execution_count": 7,
   "id": "5c789240-6a61-4509-84b7-812632aec476",
   "metadata": {},
   "outputs": [
    {
     "data": {
      "text/plain": [
       "['sciplex_K562.hdf5',\n",
       " 'sciplex_A549.hdf5',\n",
       " 'sciplex_MCF7.hdf5',\n",
       " 'schiebinger.hdf5',\n",
       " 'mcfarland.hdf5',\n",
       " 'norman.hdf5',\n",
       " 'kang.hdf5',\n",
       " 'bhattacherjee.hdf5']"
      ]
     },
     "execution_count": 7,
     "metadata": {},
     "output_type": "execute_result"
    }
   ],
   "source": [
    "os.listdir(data_path)"
   ]
  },
  {
   "cell_type": "code",
   "execution_count": 8,
   "id": "536e425c-0729-4833-83f1-5962fbedcfb6",
   "metadata": {},
   "outputs": [],
   "source": [
    "adata = read_h5ad(os.path.join(data_path, 'sciplex_A549.hdf5'))"
   ]
  },
  {
   "cell_type": "code",
   "execution_count": 9,
   "id": "89b10d67-a911-4b79-87ac-2c6ed789f9c7",
   "metadata": {},
   "outputs": [],
   "source": [
    "sc.pp.log1p(adata)\n",
    "sc.pp.highly_variable_genes(adata, n_top_genes=2000)\n",
    "adata = adata[:, adata.var.highly_variable]"
   ]
  },
  {
   "cell_type": "code",
   "execution_count": null,
   "id": "99f7d621-9efd-4e29-bdca-5c99792317cb",
   "metadata": {},
   "outputs": [],
   "source": [
    "sc.pp.neighbors(adata, n_pcs=0)\n",
    "sc.tl.umap(adata)\n",
    "sc.pl.umap(adata, color=\"dose_value\")"
   ]
  },
  {
   "cell_type": "code",
   "execution_count": null,
   "id": "10cd8e11-7e6b-4abf-b8ce-a243f4fdb8db",
   "metadata": {},
   "outputs": [],
   "source": [
    "asdsaf"
   ]
  },
  {
   "cell_type": "code",
   "execution_count": null,
   "id": "2431d77c-ece9-4487-83a6-f1b4d73b37f7",
   "metadata": {},
   "outputs": [],
   "source": [
    "(ref_p, ref_z, ref_s), ref_matching = rosenbaum(adata, group_by=\"timepoint\", reference=\"control\", test_group=\"t_6\", k=None, return_matching=True)"
   ]
  },
  {
   "cell_type": "code",
   "execution_count": null,
   "id": "8659403a-fa1b-4553-8ead-81f152fce3bf",
   "metadata": {},
   "outputs": [],
   "source": []
  },
  {
   "cell_type": "code",
   "execution_count": null,
   "id": "6056126b-fde2-42d5-800e-afe0cbbeb03b",
   "metadata": {},
   "outputs": [],
   "source": [
    "pd.DataFrame(results, index=[\"p-val\", \"z-score\", \"support\", \"jaccard similarity\"])"
   ]
  },
  {
   "cell_type": "code",
   "execution_count": null,
   "id": "558c3aa7-c037-42d0-8f7b-e6620e3f9901",
   "metadata": {},
   "outputs": [],
   "source": [
    "(p, z, s), matching = rosenbaum(adata, group_by=\"timepoint\", reference=\"control\", test_group=\"t_6\", k=2, return_matching=True)"
   ]
  },
  {
   "cell_type": "code",
   "execution_count": null,
   "id": "0575e579-e3de-41f5-b0ce-5bcaf0176c74",
   "metadata": {},
   "outputs": [],
   "source": [
    "used_elements = list(chain.from_iterable(matching))"
   ]
  },
  {
   "cell_type": "code",
   "execution_count": null,
   "id": "2012192d-64f0-48a6-ae0d-59936a456a2a",
   "metadata": {},
   "outputs": [],
   "source": [
    "subset = adata[adata.obs[\"timepoint\"].isin([\"control\", \"t_6\"])]"
   ]
  },
  {
   "cell_type": "code",
   "execution_count": null,
   "id": "f6c9c10f-3665-49d5-a8ba-15c701ece493",
   "metadata": {},
   "outputs": [],
   "source": [
    "distances = cdist(subset.X.todense(), subset.X.todense(), metric=\"sqeuclidean\")\n",
    "lof = LocalOutlierFactor(n_neighbors=20, algorithm='auto', leaf_size=30, metric='precomputed')\n",
    "pred = lof.fit_predict(distances)\n",
    "nof = lof.negative_outlier_factor_\n",
    "outliers = pd.DataFrame(nof, columns=[\"Negative outlier factor\"])\n",
    "outliers[\"in matching\"] = False\n",
    "outliers.iloc[used_elements, 1] = True\n",
    "print(outliers[\"in matching\"].value_counts())"
   ]
  },
  {
   "cell_type": "code",
   "execution_count": null,
   "id": "c8142963-2f93-4bc7-b38e-4b9a4b1fac5b",
   "metadata": {},
   "outputs": [],
   "source": [
    "sns.kdeplot(outliers, x=\"Negative outlier factor\", hue=\"in matching\")\n",
    "sns.rugplot(outliers, x=\"Negative outlier factor\", hue=\"in matching\")"
   ]
  },
  {
   "cell_type": "code",
   "execution_count": null,
   "id": "c047d31b-d3f2-46f5-aa5f-4818b5797d12",
   "metadata": {},
   "outputs": [],
   "source": []
  }
 ],
 "metadata": {
  "kernelspec": {
   "display_name": "Python 3 (ipykernel)",
   "language": "python",
   "name": "python3"
  },
  "language_info": {
   "codemirror_mode": {
    "name": "ipython",
    "version": 3
   },
   "file_extension": ".py",
   "mimetype": "text/x-python",
   "name": "python",
   "nbconvert_exporter": "python",
   "pygments_lexer": "ipython3",
   "version": "3.9.18"
  }
 },
 "nbformat": 4,
 "nbformat_minor": 5
}
