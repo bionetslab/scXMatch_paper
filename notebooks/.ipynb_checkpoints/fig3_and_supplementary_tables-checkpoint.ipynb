{
 "cells": [
  {
   "cell_type": "code",
   "execution_count": 1,
   "id": "f23fc0f5-7928-40c4-a26e-07b64f40f19a",
   "metadata": {},
   "outputs": [],
   "source": [
    "%load_ext autoreload\n",
    "%autoreload 2"
   ]
  },
  {
   "cell_type": "code",
   "execution_count": 2,
   "id": "3340491b-a887-41fe-b243-86918d5603b7",
   "metadata": {},
   "outputs": [],
   "source": [
    "import pandas as pd \n",
    "import numpy as np\n",
    "import seaborn as sns\n",
    "import matplotlib.pyplot as plt\n",
    "import anndata as ad\n",
    "import os\n",
    "import scanpy as sc\n",
    "from statsmodels.stats.multitest import multipletests\n",
    "import sys\n",
    "sys.path.append(\"../src\")\n",
    "from evaluation_metrics import *\n",
    "from utils_evaluation import *"
   ]
  },
  {
   "cell_type": "code",
   "execution_count": 3,
   "id": "1f6cd0c0-fe67-43a0-b61f-47deaa328d79",
   "metadata": {},
   "outputs": [],
   "source": [
    "from statsmodels.stats.multitest import multipletests"
   ]
  },
  {
   "cell_type": "code",
   "execution_count": 4,
   "id": "15974207-1f63-49f7-8816-e3a39fade1f0",
   "metadata": {},
   "outputs": [],
   "source": [
    "f = np.vectorize(round_sig)"
   ]
  },
  {
   "cell_type": "code",
   "execution_count": 5,
   "id": "f5e95e10-1c50-4a30-8b6a-6b27e0fb7531",
   "metadata": {
    "scrolled": true
   },
   "outputs": [
    {
     "name": "stdout",
     "output_type": "stream",
     "text": [
      "mcfarland_2 deseq2_200\n",
      "mcfarland_2 edgeR_200\n",
      "mcfarland_4 deseq2_200\n",
      "mcfarland_4 edgeR_200\n",
      "mcfarland_5 deseq2_200\n",
      "mcfarland_5 edgeR_200\n",
      "bhattacherjee_Astro deseq2_200\n",
      "bhattacherjee_Astro edgeR_200\n"
     ]
    },
    {
     "name": "stderr",
     "output_type": "stream",
     "text": [
      "/data/bionets/je30bery/rosenbaum_test/notebooks/../src/utils_evaluation.py:172: FutureWarning: Downcasting behavior in `replace` is deprecated and will be removed in a future version. To retain the old behavior, explicitly call `result.infer_objects(copy=False)`. To opt-in to the future behavior, set `pd.set_option('future.no_silent_downcasting', True)`\n",
      "  xm_results_dfs_var[dataset].replace({\"split_10\": 10, \"split_30\": 30, \"split_50\": 50}, inplace=True)\n",
      "/data/bionets/je30bery/rosenbaum_test/notebooks/../src/utils_evaluation.py:172: FutureWarning: Downcasting behavior in `replace` is deprecated and will be removed in a future version. To retain the old behavior, explicitly call `result.infer_objects(copy=False)`. To opt-in to the future behavior, set `pd.set_option('future.no_silent_downcasting', True)`\n",
      "  xm_results_dfs_var[dataset].replace({\"split_10\": 10, \"split_30\": 30, \"split_50\": 50}, inplace=True)\n",
      "/data/bionets/je30bery/rosenbaum_test/notebooks/../src/utils_evaluation.py:172: FutureWarning: Downcasting behavior in `replace` is deprecated and will be removed in a future version. To retain the old behavior, explicitly call `result.infer_objects(copy=False)`. To opt-in to the future behavior, set `pd.set_option('future.no_silent_downcasting', True)`\n",
      "  xm_results_dfs_var[dataset].replace({\"split_10\": 10, \"split_30\": 30, \"split_50\": 50}, inplace=True)\n",
      "/data/bionets/je30bery/rosenbaum_test/notebooks/../src/utils_evaluation.py:172: FutureWarning: Downcasting behavior in `replace` is deprecated and will be removed in a future version. To retain the old behavior, explicitly call `result.infer_objects(copy=False)`. To opt-in to the future behavior, set `pd.set_option('future.no_silent_downcasting', True)`\n",
      "  xm_results_dfs_var[dataset].replace({\"split_10\": 10, \"split_30\": 30, \"split_50\": 50}, inplace=True)\n",
      "/data/bionets/je30bery/rosenbaum_test/notebooks/../src/utils_evaluation.py:172: FutureWarning: Downcasting behavior in `replace` is deprecated and will be removed in a future version. To retain the old behavior, explicitly call `result.infer_objects(copy=False)`. To opt-in to the future behavior, set `pd.set_option('future.no_silent_downcasting', True)`\n",
      "  xm_results_dfs_var[dataset].replace({\"split_10\": 10, \"split_30\": 30, \"split_50\": 50}, inplace=True)\n",
      "/data/bionets/je30bery/rosenbaum_test/notebooks/../src/utils_evaluation.py:172: FutureWarning: Downcasting behavior in `replace` is deprecated and will be removed in a future version. To retain the old behavior, explicitly call `result.infer_objects(copy=False)`. To opt-in to the future behavior, set `pd.set_option('future.no_silent_downcasting', True)`\n",
      "  xm_results_dfs_var[dataset].replace({\"split_10\": 10, \"split_30\": 30, \"split_50\": 50}, inplace=True)\n",
      "/data/bionets/je30bery/rosenbaum_test/notebooks/../src/utils_evaluation.py:172: FutureWarning: Downcasting behavior in `replace` is deprecated and will be removed in a future version. To retain the old behavior, explicitly call `result.infer_objects(copy=False)`. To opt-in to the future behavior, set `pd.set_option('future.no_silent_downcasting', True)`\n",
      "  xm_results_dfs_var[dataset].replace({\"split_10\": 10, \"split_30\": 30, \"split_50\": 50}, inplace=True)\n",
      "/data/bionets/je30bery/rosenbaum_test/notebooks/../src/utils_evaluation.py:172: FutureWarning: Downcasting behavior in `replace` is deprecated and will be removed in a future version. To retain the old behavior, explicitly call `result.infer_objects(copy=False)`. To opt-in to the future behavior, set `pd.set_option('future.no_silent_downcasting', True)`\n",
      "  xm_results_dfs_var[dataset].replace({\"split_10\": 10, \"split_30\": 30, \"split_50\": 50}, inplace=True)\n",
      "/data/bionets/je30bery/rosenbaum_test/notebooks/../src/utils_evaluation.py:172: FutureWarning: Downcasting behavior in `replace` is deprecated and will be removed in a future version. To retain the old behavior, explicitly call `result.infer_objects(copy=False)`. To opt-in to the future behavior, set `pd.set_option('future.no_silent_downcasting', True)`\n",
      "  xm_results_dfs_var[dataset].replace({\"split_10\": 10, \"split_30\": 30, \"split_50\": 50}, inplace=True)\n",
      "/data/bionets/je30bery/rosenbaum_test/notebooks/../src/utils_evaluation.py:172: FutureWarning: Downcasting behavior in `replace` is deprecated and will be removed in a future version. To retain the old behavior, explicitly call `result.infer_objects(copy=False)`. To opt-in to the future behavior, set `pd.set_option('future.no_silent_downcasting', True)`\n",
      "  xm_results_dfs_var[dataset].replace({\"split_10\": 10, \"split_30\": 30, \"split_50\": 50}, inplace=True)\n"
     ]
    }
   ],
   "source": [
    "bm_results_dfs, mon_df, melted_mon = get_mon_df()\n",
    "ssnr_results_dfs, ssnr_df, melted_ssnr = get_ssnr_df(bm_results_dfs)\n",
    "var_results_dfs, var_df, melted_var = get_sv_df()"
   ]
  },
  {
   "cell_type": "code",
   "execution_count": 6,
   "id": "f0142b4d-8dcf-48a5-9bf0-52f0913e0052",
   "metadata": {},
   "outputs": [],
   "source": [
    "ssnr_results_df = ssnr_results_dfs[['augur', 'wilcoxon', 'deseq2_100', 'edgeR_100', 'scXMatch']].dropna()"
   ]
  },
  {
   "cell_type": "code",
   "execution_count": 7,
   "id": "09e3055b-ae0f-452a-99df-6b11f62689ae",
   "metadata": {},
   "outputs": [
    {
     "data": {
      "text/plain": [
       "0.01282051282051282"
      ]
     },
     "execution_count": 7,
     "metadata": {},
     "output_type": "execute_result"
    }
   ],
   "source": [
    "FPR = np.sum(-ssnr_results_dfs[\"scXMatch\"] <= 0.05) / len(ssnr_results_dfs)\n",
    "FPR"
   ]
  },
  {
   "cell_type": "code",
   "execution_count": 8,
   "id": "243ca31b-d431-4749-8249-dd7976b3ba70",
   "metadata": {
    "scrolled": true
   },
   "outputs": [
    {
     "name": "stderr",
     "output_type": "stream",
     "text": [
      "/tmp/ipykernel_3695098/2938770376.py:5: PerformanceWarning: indexing past lexsort depth may impact performance.\n",
      "  p_vals = - ssnr_results_dfs.loc[(dataset, group)][\"scXMatch\"].values\n",
      "/tmp/ipykernel_3695098/2938770376.py:7: PerformanceWarning: indexing past lexsort depth may impact performance.\n",
      "  ssnr_results_dfs.loc[(dataset, group), \"scXMatch adj.\"] = adj_pvals\n",
      "/tmp/ipykernel_3695098/2938770376.py:5: PerformanceWarning: indexing past lexsort depth may impact performance.\n",
      "  p_vals = - ssnr_results_dfs.loc[(dataset, group)][\"scXMatch\"].values\n",
      "/tmp/ipykernel_3695098/2938770376.py:7: PerformanceWarning: indexing past lexsort depth may impact performance.\n",
      "  ssnr_results_dfs.loc[(dataset, group), \"scXMatch adj.\"] = adj_pvals\n",
      "/tmp/ipykernel_3695098/2938770376.py:5: PerformanceWarning: indexing past lexsort depth may impact performance.\n",
      "  p_vals = - ssnr_results_dfs.loc[(dataset, group)][\"scXMatch\"].values\n",
      "/tmp/ipykernel_3695098/2938770376.py:7: PerformanceWarning: indexing past lexsort depth may impact performance.\n",
      "  ssnr_results_dfs.loc[(dataset, group), \"scXMatch adj.\"] = adj_pvals\n",
      "/tmp/ipykernel_3695098/2938770376.py:5: PerformanceWarning: indexing past lexsort depth may impact performance.\n",
      "  p_vals = - ssnr_results_dfs.loc[(dataset, group)][\"scXMatch\"].values\n",
      "/tmp/ipykernel_3695098/2938770376.py:7: PerformanceWarning: indexing past lexsort depth may impact performance.\n",
      "  ssnr_results_dfs.loc[(dataset, group), \"scXMatch adj.\"] = adj_pvals\n",
      "/tmp/ipykernel_3695098/2938770376.py:5: PerformanceWarning: indexing past lexsort depth may impact performance.\n",
      "  p_vals = - ssnr_results_dfs.loc[(dataset, group)][\"scXMatch\"].values\n",
      "/tmp/ipykernel_3695098/2938770376.py:7: PerformanceWarning: indexing past lexsort depth may impact performance.\n",
      "  ssnr_results_dfs.loc[(dataset, group), \"scXMatch adj.\"] = adj_pvals\n",
      "/tmp/ipykernel_3695098/2938770376.py:5: PerformanceWarning: indexing past lexsort depth may impact performance.\n",
      "  p_vals = - ssnr_results_dfs.loc[(dataset, group)][\"scXMatch\"].values\n",
      "/tmp/ipykernel_3695098/2938770376.py:7: PerformanceWarning: indexing past lexsort depth may impact performance.\n",
      "  ssnr_results_dfs.loc[(dataset, group), \"scXMatch adj.\"] = adj_pvals\n",
      "/tmp/ipykernel_3695098/2938770376.py:5: PerformanceWarning: indexing past lexsort depth may impact performance.\n",
      "  p_vals = - ssnr_results_dfs.loc[(dataset, group)][\"scXMatch\"].values\n",
      "/tmp/ipykernel_3695098/2938770376.py:7: PerformanceWarning: indexing past lexsort depth may impact performance.\n",
      "  ssnr_results_dfs.loc[(dataset, group), \"scXMatch adj.\"] = adj_pvals\n",
      "/tmp/ipykernel_3695098/2938770376.py:5: PerformanceWarning: indexing past lexsort depth may impact performance.\n",
      "  p_vals = - ssnr_results_dfs.loc[(dataset, group)][\"scXMatch\"].values\n",
      "/tmp/ipykernel_3695098/2938770376.py:7: PerformanceWarning: indexing past lexsort depth may impact performance.\n",
      "  ssnr_results_dfs.loc[(dataset, group), \"scXMatch adj.\"] = adj_pvals\n",
      "/tmp/ipykernel_3695098/2938770376.py:5: PerformanceWarning: indexing past lexsort depth may impact performance.\n",
      "  p_vals = - ssnr_results_dfs.loc[(dataset, group)][\"scXMatch\"].values\n",
      "/tmp/ipykernel_3695098/2938770376.py:7: PerformanceWarning: indexing past lexsort depth may impact performance.\n",
      "  ssnr_results_dfs.loc[(dataset, group), \"scXMatch adj.\"] = adj_pvals\n",
      "/tmp/ipykernel_3695098/2938770376.py:5: PerformanceWarning: indexing past lexsort depth may impact performance.\n",
      "  p_vals = - ssnr_results_dfs.loc[(dataset, group)][\"scXMatch\"].values\n",
      "/tmp/ipykernel_3695098/2938770376.py:7: PerformanceWarning: indexing past lexsort depth may impact performance.\n",
      "  ssnr_results_dfs.loc[(dataset, group), \"scXMatch adj.\"] = adj_pvals\n",
      "/tmp/ipykernel_3695098/2938770376.py:5: PerformanceWarning: indexing past lexsort depth may impact performance.\n",
      "  p_vals = - ssnr_results_dfs.loc[(dataset, group)][\"scXMatch\"].values\n",
      "/tmp/ipykernel_3695098/2938770376.py:7: PerformanceWarning: indexing past lexsort depth may impact performance.\n",
      "  ssnr_results_dfs.loc[(dataset, group), \"scXMatch adj.\"] = adj_pvals\n",
      "/tmp/ipykernel_3695098/2938770376.py:5: PerformanceWarning: indexing past lexsort depth may impact performance.\n",
      "  p_vals = - ssnr_results_dfs.loc[(dataset, group)][\"scXMatch\"].values\n",
      "/tmp/ipykernel_3695098/2938770376.py:7: PerformanceWarning: indexing past lexsort depth may impact performance.\n",
      "  ssnr_results_dfs.loc[(dataset, group), \"scXMatch adj.\"] = adj_pvals\n",
      "/tmp/ipykernel_3695098/2938770376.py:5: PerformanceWarning: indexing past lexsort depth may impact performance.\n",
      "  p_vals = - ssnr_results_dfs.loc[(dataset, group)][\"scXMatch\"].values\n",
      "/tmp/ipykernel_3695098/2938770376.py:7: PerformanceWarning: indexing past lexsort depth may impact performance.\n",
      "  ssnr_results_dfs.loc[(dataset, group), \"scXMatch adj.\"] = adj_pvals\n",
      "/tmp/ipykernel_3695098/2938770376.py:5: PerformanceWarning: indexing past lexsort depth may impact performance.\n",
      "  p_vals = - ssnr_results_dfs.loc[(dataset, group)][\"scXMatch\"].values\n",
      "/tmp/ipykernel_3695098/2938770376.py:7: PerformanceWarning: indexing past lexsort depth may impact performance.\n",
      "  ssnr_results_dfs.loc[(dataset, group), \"scXMatch adj.\"] = adj_pvals\n",
      "/tmp/ipykernel_3695098/2938770376.py:5: PerformanceWarning: indexing past lexsort depth may impact performance.\n",
      "  p_vals = - ssnr_results_dfs.loc[(dataset, group)][\"scXMatch\"].values\n",
      "/tmp/ipykernel_3695098/2938770376.py:7: PerformanceWarning: indexing past lexsort depth may impact performance.\n",
      "  ssnr_results_dfs.loc[(dataset, group), \"scXMatch adj.\"] = adj_pvals\n",
      "/tmp/ipykernel_3695098/2938770376.py:5: PerformanceWarning: indexing past lexsort depth may impact performance.\n",
      "  p_vals = - ssnr_results_dfs.loc[(dataset, group)][\"scXMatch\"].values\n",
      "/tmp/ipykernel_3695098/2938770376.py:7: PerformanceWarning: indexing past lexsort depth may impact performance.\n",
      "  ssnr_results_dfs.loc[(dataset, group), \"scXMatch adj.\"] = adj_pvals\n",
      "/tmp/ipykernel_3695098/2938770376.py:5: PerformanceWarning: indexing past lexsort depth may impact performance.\n",
      "  p_vals = - ssnr_results_dfs.loc[(dataset, group)][\"scXMatch\"].values\n",
      "/tmp/ipykernel_3695098/2938770376.py:7: PerformanceWarning: indexing past lexsort depth may impact performance.\n",
      "  ssnr_results_dfs.loc[(dataset, group), \"scXMatch adj.\"] = adj_pvals\n",
      "/tmp/ipykernel_3695098/2938770376.py:5: PerformanceWarning: indexing past lexsort depth may impact performance.\n",
      "  p_vals = - ssnr_results_dfs.loc[(dataset, group)][\"scXMatch\"].values\n",
      "/tmp/ipykernel_3695098/2938770376.py:7: PerformanceWarning: indexing past lexsort depth may impact performance.\n",
      "  ssnr_results_dfs.loc[(dataset, group), \"scXMatch adj.\"] = adj_pvals\n",
      "/tmp/ipykernel_3695098/2938770376.py:5: PerformanceWarning: indexing past lexsort depth may impact performance.\n",
      "  p_vals = - ssnr_results_dfs.loc[(dataset, group)][\"scXMatch\"].values\n",
      "/tmp/ipykernel_3695098/2938770376.py:7: PerformanceWarning: indexing past lexsort depth may impact performance.\n",
      "  ssnr_results_dfs.loc[(dataset, group), \"scXMatch adj.\"] = adj_pvals\n",
      "/tmp/ipykernel_3695098/2938770376.py:5: PerformanceWarning: indexing past lexsort depth may impact performance.\n",
      "  p_vals = - ssnr_results_dfs.loc[(dataset, group)][\"scXMatch\"].values\n",
      "/tmp/ipykernel_3695098/2938770376.py:7: PerformanceWarning: indexing past lexsort depth may impact performance.\n",
      "  ssnr_results_dfs.loc[(dataset, group), \"scXMatch adj.\"] = adj_pvals\n",
      "/tmp/ipykernel_3695098/2938770376.py:5: PerformanceWarning: indexing past lexsort depth may impact performance.\n",
      "  p_vals = - ssnr_results_dfs.loc[(dataset, group)][\"scXMatch\"].values\n",
      "/tmp/ipykernel_3695098/2938770376.py:7: PerformanceWarning: indexing past lexsort depth may impact performance.\n",
      "  ssnr_results_dfs.loc[(dataset, group), \"scXMatch adj.\"] = adj_pvals\n",
      "/tmp/ipykernel_3695098/2938770376.py:5: PerformanceWarning: indexing past lexsort depth may impact performance.\n",
      "  p_vals = - ssnr_results_dfs.loc[(dataset, group)][\"scXMatch\"].values\n",
      "/tmp/ipykernel_3695098/2938770376.py:7: PerformanceWarning: indexing past lexsort depth may impact performance.\n",
      "  ssnr_results_dfs.loc[(dataset, group), \"scXMatch adj.\"] = adj_pvals\n",
      "/tmp/ipykernel_3695098/2938770376.py:5: PerformanceWarning: indexing past lexsort depth may impact performance.\n",
      "  p_vals = - ssnr_results_dfs.loc[(dataset, group)][\"scXMatch\"].values\n",
      "/tmp/ipykernel_3695098/2938770376.py:7: PerformanceWarning: indexing past lexsort depth may impact performance.\n",
      "  ssnr_results_dfs.loc[(dataset, group), \"scXMatch adj.\"] = adj_pvals\n",
      "/tmp/ipykernel_3695098/2938770376.py:5: PerformanceWarning: indexing past lexsort depth may impact performance.\n",
      "  p_vals = - ssnr_results_dfs.loc[(dataset, group)][\"scXMatch\"].values\n",
      "/tmp/ipykernel_3695098/2938770376.py:7: PerformanceWarning: indexing past lexsort depth may impact performance.\n",
      "  ssnr_results_dfs.loc[(dataset, group), \"scXMatch adj.\"] = adj_pvals\n",
      "/tmp/ipykernel_3695098/2938770376.py:5: PerformanceWarning: indexing past lexsort depth may impact performance.\n",
      "  p_vals = - ssnr_results_dfs.loc[(dataset, group)][\"scXMatch\"].values\n",
      "/tmp/ipykernel_3695098/2938770376.py:7: PerformanceWarning: indexing past lexsort depth may impact performance.\n",
      "  ssnr_results_dfs.loc[(dataset, group), \"scXMatch adj.\"] = adj_pvals\n",
      "/tmp/ipykernel_3695098/2938770376.py:5: PerformanceWarning: indexing past lexsort depth may impact performance.\n",
      "  p_vals = - ssnr_results_dfs.loc[(dataset, group)][\"scXMatch\"].values\n"
     ]
    },
    {
     "name": "stdout",
     "output_type": "stream",
     "text": [
      "0.0\n"
     ]
    },
    {
     "name": "stderr",
     "output_type": "stream",
     "text": [
      "/tmp/ipykernel_3695098/2938770376.py:7: PerformanceWarning: indexing past lexsort depth may impact performance.\n",
      "  ssnr_results_dfs.loc[(dataset, group), \"scXMatch adj.\"] = adj_pvals\n",
      "/tmp/ipykernel_3695098/2938770376.py:5: PerformanceWarning: indexing past lexsort depth may impact performance.\n",
      "  p_vals = - ssnr_results_dfs.loc[(dataset, group)][\"scXMatch\"].values\n",
      "/tmp/ipykernel_3695098/2938770376.py:7: PerformanceWarning: indexing past lexsort depth may impact performance.\n",
      "  ssnr_results_dfs.loc[(dataset, group), \"scXMatch adj.\"] = adj_pvals\n",
      "/tmp/ipykernel_3695098/2938770376.py:5: PerformanceWarning: indexing past lexsort depth may impact performance.\n",
      "  p_vals = - ssnr_results_dfs.loc[(dataset, group)][\"scXMatch\"].values\n",
      "/tmp/ipykernel_3695098/2938770376.py:7: PerformanceWarning: indexing past lexsort depth may impact performance.\n",
      "  ssnr_results_dfs.loc[(dataset, group), \"scXMatch adj.\"] = adj_pvals\n",
      "/tmp/ipykernel_3695098/2938770376.py:5: PerformanceWarning: indexing past lexsort depth may impact performance.\n",
      "  p_vals = - ssnr_results_dfs.loc[(dataset, group)][\"scXMatch\"].values\n",
      "/tmp/ipykernel_3695098/2938770376.py:7: PerformanceWarning: indexing past lexsort depth may impact performance.\n",
      "  ssnr_results_dfs.loc[(dataset, group), \"scXMatch adj.\"] = adj_pvals\n",
      "/tmp/ipykernel_3695098/2938770376.py:5: PerformanceWarning: indexing past lexsort depth may impact performance.\n",
      "  p_vals = - ssnr_results_dfs.loc[(dataset, group)][\"scXMatch\"].values\n",
      "/tmp/ipykernel_3695098/2938770376.py:7: PerformanceWarning: indexing past lexsort depth may impact performance.\n",
      "  ssnr_results_dfs.loc[(dataset, group), \"scXMatch adj.\"] = adj_pvals\n",
      "/tmp/ipykernel_3695098/2938770376.py:5: PerformanceWarning: indexing past lexsort depth may impact performance.\n",
      "  p_vals = - ssnr_results_dfs.loc[(dataset, group)][\"scXMatch\"].values\n",
      "/tmp/ipykernel_3695098/2938770376.py:7: PerformanceWarning: indexing past lexsort depth may impact performance.\n",
      "  ssnr_results_dfs.loc[(dataset, group), \"scXMatch adj.\"] = adj_pvals\n",
      "/tmp/ipykernel_3695098/2938770376.py:5: PerformanceWarning: indexing past lexsort depth may impact performance.\n",
      "  p_vals = - ssnr_results_dfs.loc[(dataset, group)][\"scXMatch\"].values\n",
      "/tmp/ipykernel_3695098/2938770376.py:7: PerformanceWarning: indexing past lexsort depth may impact performance.\n",
      "  ssnr_results_dfs.loc[(dataset, group), \"scXMatch adj.\"] = adj_pvals\n",
      "/tmp/ipykernel_3695098/2938770376.py:5: PerformanceWarning: indexing past lexsort depth may impact performance.\n",
      "  p_vals = - ssnr_results_dfs.loc[(dataset, group)][\"scXMatch\"].values\n",
      "/tmp/ipykernel_3695098/2938770376.py:7: PerformanceWarning: indexing past lexsort depth may impact performance.\n",
      "  ssnr_results_dfs.loc[(dataset, group), \"scXMatch adj.\"] = adj_pvals\n",
      "/tmp/ipykernel_3695098/2938770376.py:5: PerformanceWarning: indexing past lexsort depth may impact performance.\n",
      "  p_vals = - ssnr_results_dfs.loc[(dataset, group)][\"scXMatch\"].values\n",
      "/tmp/ipykernel_3695098/2938770376.py:7: PerformanceWarning: indexing past lexsort depth may impact performance.\n",
      "  ssnr_results_dfs.loc[(dataset, group), \"scXMatch adj.\"] = adj_pvals\n",
      "/tmp/ipykernel_3695098/2938770376.py:5: PerformanceWarning: indexing past lexsort depth may impact performance.\n",
      "  p_vals = - ssnr_results_dfs.loc[(dataset, group)][\"scXMatch\"].values\n",
      "/tmp/ipykernel_3695098/2938770376.py:7: PerformanceWarning: indexing past lexsort depth may impact performance.\n",
      "  ssnr_results_dfs.loc[(dataset, group), \"scXMatch adj.\"] = adj_pvals\n",
      "/tmp/ipykernel_3695098/2938770376.py:5: PerformanceWarning: indexing past lexsort depth may impact performance.\n",
      "  p_vals = - ssnr_results_dfs.loc[(dataset, group)][\"scXMatch\"].values\n",
      "/tmp/ipykernel_3695098/2938770376.py:7: PerformanceWarning: indexing past lexsort depth may impact performance.\n",
      "  ssnr_results_dfs.loc[(dataset, group), \"scXMatch adj.\"] = adj_pvals\n",
      "/tmp/ipykernel_3695098/2938770376.py:5: PerformanceWarning: indexing past lexsort depth may impact performance.\n",
      "  p_vals = - ssnr_results_dfs.loc[(dataset, group)][\"scXMatch\"].values\n",
      "/tmp/ipykernel_3695098/2938770376.py:7: PerformanceWarning: indexing past lexsort depth may impact performance.\n",
      "  ssnr_results_dfs.loc[(dataset, group), \"scXMatch adj.\"] = adj_pvals\n",
      "/tmp/ipykernel_3695098/2938770376.py:5: PerformanceWarning: indexing past lexsort depth may impact performance.\n",
      "  p_vals = - ssnr_results_dfs.loc[(dataset, group)][\"scXMatch\"].values\n",
      "/tmp/ipykernel_3695098/2938770376.py:7: PerformanceWarning: indexing past lexsort depth may impact performance.\n",
      "  ssnr_results_dfs.loc[(dataset, group), \"scXMatch adj.\"] = adj_pvals\n",
      "/tmp/ipykernel_3695098/2938770376.py:5: PerformanceWarning: indexing past lexsort depth may impact performance.\n",
      "  p_vals = - ssnr_results_dfs.loc[(dataset, group)][\"scXMatch\"].values\n",
      "/tmp/ipykernel_3695098/2938770376.py:7: PerformanceWarning: indexing past lexsort depth may impact performance.\n",
      "  ssnr_results_dfs.loc[(dataset, group), \"scXMatch adj.\"] = adj_pvals\n",
      "/tmp/ipykernel_3695098/2938770376.py:5: PerformanceWarning: indexing past lexsort depth may impact performance.\n",
      "  p_vals = - ssnr_results_dfs.loc[(dataset, group)][\"scXMatch\"].values\n",
      "/tmp/ipykernel_3695098/2938770376.py:7: PerformanceWarning: indexing past lexsort depth may impact performance.\n",
      "  ssnr_results_dfs.loc[(dataset, group), \"scXMatch adj.\"] = adj_pvals\n",
      "/tmp/ipykernel_3695098/2938770376.py:5: PerformanceWarning: indexing past lexsort depth may impact performance.\n",
      "  p_vals = - ssnr_results_dfs.loc[(dataset, group)][\"scXMatch\"].values\n",
      "/tmp/ipykernel_3695098/2938770376.py:7: PerformanceWarning: indexing past lexsort depth may impact performance.\n",
      "  ssnr_results_dfs.loc[(dataset, group), \"scXMatch adj.\"] = adj_pvals\n",
      "/tmp/ipykernel_3695098/2938770376.py:5: PerformanceWarning: indexing past lexsort depth may impact performance.\n",
      "  p_vals = - ssnr_results_dfs.loc[(dataset, group)][\"scXMatch\"].values\n",
      "/tmp/ipykernel_3695098/2938770376.py:7: PerformanceWarning: indexing past lexsort depth may impact performance.\n",
      "  ssnr_results_dfs.loc[(dataset, group), \"scXMatch adj.\"] = adj_pvals\n",
      "/tmp/ipykernel_3695098/2938770376.py:5: PerformanceWarning: indexing past lexsort depth may impact performance.\n",
      "  p_vals = - ssnr_results_dfs.loc[(dataset, group)][\"scXMatch\"].values\n",
      "/tmp/ipykernel_3695098/2938770376.py:7: PerformanceWarning: indexing past lexsort depth may impact performance.\n",
      "  ssnr_results_dfs.loc[(dataset, group), \"scXMatch adj.\"] = adj_pvals\n",
      "/tmp/ipykernel_3695098/2938770376.py:5: PerformanceWarning: indexing past lexsort depth may impact performance.\n",
      "  p_vals = - ssnr_results_dfs.loc[(dataset, group)][\"scXMatch\"].values\n",
      "/tmp/ipykernel_3695098/2938770376.py:7: PerformanceWarning: indexing past lexsort depth may impact performance.\n",
      "  ssnr_results_dfs.loc[(dataset, group), \"scXMatch adj.\"] = adj_pvals\n",
      "/tmp/ipykernel_3695098/2938770376.py:5: PerformanceWarning: indexing past lexsort depth may impact performance.\n",
      "  p_vals = - ssnr_results_dfs.loc[(dataset, group)][\"scXMatch\"].values\n",
      "/tmp/ipykernel_3695098/2938770376.py:7: PerformanceWarning: indexing past lexsort depth may impact performance.\n",
      "  ssnr_results_dfs.loc[(dataset, group), \"scXMatch adj.\"] = adj_pvals\n",
      "/tmp/ipykernel_3695098/2938770376.py:5: PerformanceWarning: indexing past lexsort depth may impact performance.\n",
      "  p_vals = - ssnr_results_dfs.loc[(dataset, group)][\"scXMatch\"].values\n",
      "/tmp/ipykernel_3695098/2938770376.py:7: PerformanceWarning: indexing past lexsort depth may impact performance.\n",
      "  ssnr_results_dfs.loc[(dataset, group), \"scXMatch adj.\"] = adj_pvals\n",
      "/tmp/ipykernel_3695098/2938770376.py:5: PerformanceWarning: indexing past lexsort depth may impact performance.\n",
      "  p_vals = - ssnr_results_dfs.loc[(dataset, group)][\"scXMatch\"].values\n",
      "/tmp/ipykernel_3695098/2938770376.py:7: PerformanceWarning: indexing past lexsort depth may impact performance.\n",
      "  ssnr_results_dfs.loc[(dataset, group), \"scXMatch adj.\"] = adj_pvals\n",
      "/tmp/ipykernel_3695098/2938770376.py:5: PerformanceWarning: indexing past lexsort depth may impact performance.\n",
      "  p_vals = - ssnr_results_dfs.loc[(dataset, group)][\"scXMatch\"].values\n",
      "/tmp/ipykernel_3695098/2938770376.py:7: PerformanceWarning: indexing past lexsort depth may impact performance.\n",
      "  ssnr_results_dfs.loc[(dataset, group), \"scXMatch adj.\"] = adj_pvals\n",
      "/tmp/ipykernel_3695098/2938770376.py:5: PerformanceWarning: indexing past lexsort depth may impact performance.\n",
      "  p_vals = - ssnr_results_dfs.loc[(dataset, group)][\"scXMatch\"].values\n",
      "/tmp/ipykernel_3695098/2938770376.py:7: PerformanceWarning: indexing past lexsort depth may impact performance.\n",
      "  ssnr_results_dfs.loc[(dataset, group), \"scXMatch adj.\"] = adj_pvals\n",
      "/tmp/ipykernel_3695098/2938770376.py:5: PerformanceWarning: indexing past lexsort depth may impact performance.\n",
      "  p_vals = - ssnr_results_dfs.loc[(dataset, group)][\"scXMatch\"].values\n",
      "/tmp/ipykernel_3695098/2938770376.py:7: PerformanceWarning: indexing past lexsort depth may impact performance.\n",
      "  ssnr_results_dfs.loc[(dataset, group), \"scXMatch adj.\"] = adj_pvals\n",
      "/tmp/ipykernel_3695098/2938770376.py:5: PerformanceWarning: indexing past lexsort depth may impact performance.\n",
      "  p_vals = - ssnr_results_dfs.loc[(dataset, group)][\"scXMatch\"].values\n",
      "/tmp/ipykernel_3695098/2938770376.py:7: PerformanceWarning: indexing past lexsort depth may impact performance.\n",
      "  ssnr_results_dfs.loc[(dataset, group), \"scXMatch adj.\"] = adj_pvals\n",
      "/tmp/ipykernel_3695098/2938770376.py:5: PerformanceWarning: indexing past lexsort depth may impact performance.\n",
      "  p_vals = - ssnr_results_dfs.loc[(dataset, group)][\"scXMatch\"].values\n",
      "/tmp/ipykernel_3695098/2938770376.py:7: PerformanceWarning: indexing past lexsort depth may impact performance.\n",
      "  ssnr_results_dfs.loc[(dataset, group), \"scXMatch adj.\"] = adj_pvals\n"
     ]
    }
   ],
   "source": [
    "FPR_adj = 0\n",
    "total_len = 0\n",
    "for dataset in melted_ssnr[\"dataset\"].unique():\n",
    "    for group in ssnr_results_dfs.loc[dataset].reset_index()[\"test_group\"].unique():\n",
    "        p_vals = - ssnr_results_dfs.loc[(dataset, group)][\"scXMatch\"].values\n",
    "        adj_pvals = multipletests(p_vals, method=\"fdr_bh\")[1]\n",
    "        ssnr_results_dfs.loc[(dataset, group), \"scXMatch adj.\"] = adj_pvals\n",
    "        FPR_adj += np.sum(adj_pvals < 0.05)\n",
    "        total_len += len(adj_pvals)\n",
    "print(FPR_adj / total_len)"
   ]
  },
  {
   "cell_type": "code",
   "execution_count": 9,
   "id": "8b504b07-3912-4b10-bae0-49c013af2022",
   "metadata": {},
   "outputs": [],
   "source": [
    "pd.concat(bm_results_dfs).to_csv(\"MI_single_runs.csv\")\n",
    "ssnr_results_dfs.to_csv(\"SSNR_single_runs.csv\")\n",
    "var_results_dfs.to_csv(\"SV_single_runs.csv\")"
   ]
  },
  {
   "cell_type": "code",
   "execution_count": 10,
   "id": "10b1a708-3046-4436-bd31-46da197722d2",
   "metadata": {},
   "outputs": [],
   "source": [
    "f = np.vectorize(round_sig)"
   ]
  },
  {
   "cell_type": "code",
   "execution_count": 11,
   "id": "8893d564-0066-4698-8911-36a7e4ab5da0",
   "metadata": {},
   "outputs": [],
   "source": [
    "mon_df.apply(f).sort_index().sort_index(axis=1).to_csv(\"MI.csv\")\n",
    "ssnr_df.set_index(\"metric\").apply(f).sort_index().sort_index(axis=1).to_csv(\"SSNR.csv\")\n",
    "var_df.dropna(axis=0).apply(f).sort_index().sort_index(axis=1).to_csv(\"SV.csv\")"
   ]
  },
  {
   "cell_type": "code",
   "execution_count": 12,
   "id": "77bbc24d-98ca-4ad1-9537-c72a5902a239",
   "metadata": {},
   "outputs": [],
   "source": [
    "pareto_counts, pareto_sets = compute_pareto_optimal_datasets(\n",
    "    mon_df.apply(f).sort_index().sort_index(axis=1), \n",
    "    ssnr_df.set_index(\"metric\").apply(f).sort_index().sort_index(axis=1), \n",
    "    var_df.dropna(axis=0).apply(f).sort_index().sort_index(axis=1))\n",
    "\n",
    "samples = set()\n",
    "for sample_list in pareto_sets.values():\n",
    "    samples.update(sample_list)\n",
    "heatmap_data = {method: [sample in sample_list for sample in samples] \n",
    "                for method, sample_list in pareto_sets.items()}\n",
    "df = pd.DataFrame(heatmap_data, index=list(samples)).T"
   ]
  },
  {
   "cell_type": "code",
   "execution_count": 13,
   "id": "c73e4af5-e315-4307-9898-02391ce06707",
   "metadata": {},
   "outputs": [],
   "source": [
    "pareto_counts.rename({\"deseq2_100\": '#DEGs DESeq$2_{100}$', \n",
    "               \"edgeR_100\": '#DEGs edgeR$_{100}$',\n",
    "              \"augur\": \"Augur\",\n",
    "                \"wilcoxon\": '#DEGs Wilcoxon',\n",
    "               \"scXMatch\": '$\\\\mathbf{scXMatch}$',\n",
    "               }, inplace=True, axis=0)"
   ]
  },
  {
   "cell_type": "code",
   "execution_count": 14,
   "id": "169d34ed-0efc-4d46-978c-31eaf19aafab",
   "metadata": {},
   "outputs": [],
   "source": [
    "melted_mon = melted_mon.sort_values(\"dataset\")\n",
    "melted_ssnr = melted_ssnr.sort_values(\"dataset\")\n",
    "melted_var = melted_var.sort_values(\"dataset\")"
   ]
  },
  {
   "cell_type": "code",
   "execution_count": 15,
   "id": "3b62d4be-145d-426b-b0e4-e569cbde092d",
   "metadata": {},
   "outputs": [],
   "source": [
    "palette = sns.color_palette(\"viridis\", 4) + sns.color_palette(\"magma\", 1)\n",
    "palette_dict = {           \n",
    "    'Augur': palette[0],\n",
    "    '#DEGs Wilcoxon': palette[1],\n",
    "    '#DEGs DESeq$2_{100}$': palette[2],\n",
    "    '#DEGs edgeR$_{100}$': palette[3],\n",
    "    '$\\\\mathbf{scXMatch}$': palette[4]}"
   ]
  },
  {
   "cell_type": "code",
   "execution_count": 16,
   "id": "bf5b5a8e-2fd4-44d0-ac0f-b09faff07278",
   "metadata": {},
   "outputs": [
    {
     "name": "stderr",
     "output_type": "stream",
     "text": [
      "/tmp/ipykernel_3695098/3810704931.py:4: FutureWarning: \n",
      "\n",
      "Passing `palette` without assigning `hue` is deprecated and will be removed in v0.14.0. Assign the `y` variable to `hue` and set `legend=False` for the same effect.\n",
      "\n",
      "  sns.barplot(pareto_counts, palette=palette_dict, ax=axs[0], orient=\"h\", order=palette_dict.keys(), edgecolor=\"0.1\", width=0.3)\n"
     ]
    },
    {
     "data": {
      "image/png": "[encoded data removed]",
      "text/plain": [
       "<Figure size 900x300 with 4 Axes>"
      ]
     },
     "metadata": {},
     "output_type": "display_data"
    }
   ],
   "source": [
    "f, axs = plt.subplots(1, 4, figsize=(9, 3), sharey=True)\n",
    "\n",
    "\n",
    "sns.barplot(pareto_counts, palette=palette_dict, ax=axs[0], orient=\"h\", order=palette_dict.keys(), edgecolor=\"0.1\", width=0.3)\n",
    "axs[0].set_title(\"Pareto optimality\")\n",
    "\n",
    "sns.boxplot(melted_mon, x=\"value\", orient=\"h\", y=\"metric\", palette=palette_dict, ax=axs[1], legend=False,  hue=\"metric\", hue_order=palette_dict.keys(), order=palette_dict.keys())\n",
    "axs[1].set_title(\"MI\")\n",
    "axs[1].set_ylabel(\"\")\n",
    "axs[1].set_xlabel(\"\")\n",
    "\n",
    "sns.boxplot(melted_ssnr, x=\"value\", orient=\"h\", y=\"metric\", palette=palette_dict, ax=axs[2], legend=False,  hue=\"metric\", hue_order=palette_dict.keys(), order=palette_dict.keys())\n",
    "axs[2].set_title(\"SSNR\")\n",
    "axs[2].set_ylabel(\"\")\n",
    "axs[2].set_xlabel(\"\")\n",
    "\n",
    "sns.boxplot(melted_var, x=\"value\", orient=\"h\", y=\"metric\", palette=palette_dict, ax=axs[3], legend=False,  hue=\"metric\", hue_order=palette_dict.keys(), order=palette_dict.keys())\n",
    "axs[3].set_title(\"SV\")\n",
    "axs[3].set_ylabel(\"\")\n",
    "axs[3].set_xlabel(\"\")\n",
    "\n",
    "axs[0].text(\n",
    "    -0.9, 1.2,  # Position (normalized figure coordinates)\n",
    "    \"e\",   # Corresponding letter\n",
    "    transform=axs[0].transAxes,  # Relative to subplot\n",
    "    fontsize=12, va='top', ha='left', fontweight='bold'\n",
    ")\n",
    "\n",
    "#axs[0].set_yticklabels([\"McFarland\", \"Norman\", \"Schiebinger\", \"Srivatsan A549\", \"Srivatsan K562\", \"Srivatsan MCF7\"])\n",
    "plt.savefig(\"../plots/fig3/fig3e.svg\", bbox_inches=\"tight\")"
   ]
  },
  {
   "cell_type": "code",
   "execution_count": 17,
   "id": "66694860-e7e7-4b37-9f01-f986172e4909",
   "metadata": {
    "scrolled": true
   },
   "outputs": [
    {
     "name": "stderr",
     "output_type": "stream",
     "text": [
      "/tmp/ipykernel_3695098/622187181.py:26: UserWarning: set_ticklabels() should only be used with a fixed number of ticks, i.e. after set_ticks() or using a FixedLocator.\n",
      "  axs[0].set_yticklabels([\"Bhattacherjee 1\", \"Bhattacherjee 2\", \"Bhattacherjee 3\", \"McFarland 1\", \"McFarland 2\", \"McFarland 3\", \"McFarland 4\", \"McFarland 5\", \"Norman\", \"Schiebinger\"])\n"
     ]
    },
    {
     "data": {
      "image/png": "[encoded data removed]",
      "text/plain": [
       "<Figure size 900x400 with 3 Axes>"
      ]
     },
     "metadata": {},
     "output_type": "display_data"
    }
   ],
   "source": [
    "f, axs = plt.subplots(1, 3, figsize=(9, 4))\n",
    "\n",
    "\n",
    "sns.barplot(melted_mon, y=\"dataset\", hue=\"metric\", x=\"value\", orient=\"h\", palette=palette_dict, ax=axs[0], legend=True, width=0.5, hue_order=palette_dict.keys())\n",
    "axs[0].set_title(\"MI\")\n",
    "axs[0].set_ylabel(\"\")\n",
    "axs[0].set_xlabel(\"\")\n",
    "#axs[0].set_yticklabels([])\n",
    "\n",
    "sns.barplot(melted_ssnr, y=\"dataset\", hue=\"metric\", x=\"value\", orient=\"h\", palette=palette_dict, ax=axs[1], legend=False, width=0.5, hue_order=palette_dict.keys())\n",
    "axs[1].set_title(\"SSNR\")\n",
    "axs[1].set_ylabel(\"\")\n",
    "axs[1].set_yticklabels([])\n",
    "\n",
    "sns.barplot(melted_var, y=\"dataset\", hue=\"metric\", x=\"value\", orient=\"h\", palette=palette_dict, ax=axs[2], legend=False, width=0.5, hue_order=palette_dict.keys())\n",
    "axs[2].set_title(\"SV\")\n",
    "axs[2].set_ylabel(\"\")\n",
    "axs[2].set_xlabel(\"\")\n",
    "axs[2].set_yticklabels([])\n",
    "\n",
    "handles, labels = axs[0].get_legend_handles_labels()\n",
    "f.legend(handles, labels, loc='upper center', ncol=len(palette), bbox_to_anchor=(0.5, 1.05), columnspacing=0.9)\n",
    "axs[0].legend_.remove()\n",
    "\n",
    "\n",
    "axs[0].set_yticklabels([\"Bhattacherjee 1\", \"Bhattacherjee 2\", \"Bhattacherjee 3\", \"McFarland 1\", \"McFarland 2\", \"McFarland 3\", \"McFarland 4\", \"McFarland 5\", \"Norman\", \"Schiebinger\"])\n",
    "plt.savefig(\"../plots/fig3/fig3_additional.pdf\", bbox_inches=\"tight\")"
   ]
  },
  {
   "cell_type": "code",
   "execution_count": null,
   "id": "8d8793e1-cdd9-4f06-9498-58ea54b171ce",
   "metadata": {},
   "outputs": [],
   "source": []
  }
 ],
 "metadata": {
  "kernelspec": {
   "display_name": "Python 3 (ipykernel)",
   "language": "python",
   "name": "python3"
  },
  "language_info": {
   "codemirror_mode": {
    "name": "ipython",
    "version": 3
   },
   "file_extension": ".py",
   "mimetype": "text/x-python",
   "name": "python",
   "nbconvert_exporter": "python",
   "pygments_lexer": "ipython3",
   "version": "3.9.18"
  }
 },
 "nbformat": 4,
 "nbformat_minor": 5
}
