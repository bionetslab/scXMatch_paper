{
 "cells": [
  {
   "cell_type": "code",
   "execution_count": 1,
   "id": "cfaf9b22-6814-404e-ab1b-2fba3466d4e7",
   "metadata": {},
   "outputs": [],
   "source": [
    "import pandas as pd\n",
    "from statsmodels.stats.multitest import multipletests"
   ]
  },
  {
   "cell_type": "code",
   "execution_count": 3,
   "id": "e46021e6-06cc-4242-8569-0c3c4fb0e1bd",
   "metadata": {},
   "outputs": [],
   "source": [
    "results = pd.read_csv(\"../evaluation_results/2_1_ATACseq/processed_MimitouSmibert2021.hdf5_results.csv\")"
   ]
  },
  {
   "cell_type": "code",
   "execution_count": 6,
   "id": "bf0d2d92-7ef9-4f48-8fa4-92a060c46c68",
   "metadata": {},
   "outputs": [
    {
     "data": {
      "text/plain": [
       "array([2.37375869e-26, 4.22026521e-21, 1.15456908e-11, 3.48652795e-01,\n",
       "       9.95928862e-01, 2.10034783e-06])"
      ]
     },
     "execution_count": 6,
     "metadata": {},
     "output_type": "execute_result"
    }
   ],
   "source": [
    "results[\"p\"].values"
   ]
  },
  {
   "cell_type": "code",
   "execution_count": 7,
   "id": "a65989d5-b8ce-4e95-941a-cf4ebc3ad720",
   "metadata": {},
   "outputs": [
    {
     "data": {
      "text/plain": [
       "(array([ True,  True,  True, False, False,  True]),\n",
       " array([1.42425522e-25, 2.11013261e-20, 4.61827633e-11, 5.75746819e-01,\n",
       "        9.95928862e-01, 6.30103027e-06]),\n",
       " 0.008512444610847103,\n",
       " 0.008333333333333333)"
      ]
     },
     "execution_count": 7,
     "metadata": {},
     "output_type": "execute_result"
    }
   ],
   "source": [
    "multipletests(results[\"p\"].values)"
   ]
  }
 ],
 "metadata": {
  "kernelspec": {
   "display_name": "Python 3 (ipykernel)",
   "language": "python",
   "name": "python3"
  },
  "language_info": {
   "codemirror_mode": {
    "name": "ipython",
    "version": 3
   },
   "file_extension": ".py",
   "mimetype": "text/x-python",
   "name": "python",
   "nbconvert_exporter": "python",
   "pygments_lexer": "ipython3",
   "version": "3.9.23"
  }
 },
 "nbformat": 4,
 "nbformat_minor": 5
}
