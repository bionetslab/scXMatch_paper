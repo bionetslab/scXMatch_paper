{
 "cells": [
  {
   "cell_type": "code",
   "execution_count": 1,
   "id": "16df22dd-aeb6-48f9-ad7d-20221aab89ba",
   "metadata": {},
   "outputs": [
    {
     "name": "stdout",
     "output_type": "stream",
     "text": [
      "found cupy installation, will try use the GPU to calculate the distance matrix.\n"
     ]
    }
   ],
   "source": [
    "import scanpy as sc\n",
    "import matplotlib.pyplot as plt\n",
    "import pandas as pd\n",
    "import anndata as ad\n",
    "import numpy as np\n",
    "import sys\n",
    "sys.path.append(\"..\")\n",
    "from rosenbaum import rosenbaum"
   ]
  },
  {
   "cell_type": "code",
   "execution_count": 2,
   "id": "1a18099f-7a41-47bf-826f-16415d0761f8",
   "metadata": {},
   "outputs": [],
   "source": [
    "adata = sc.datasets.ebi_expression_atlas(accession=\"E-MTAB-9221\")"
   ]
  },
  {
   "cell_type": "code",
   "execution_count": 3,
   "id": "972af15d-0e37-4689-9b63-cd721af7f444",
   "metadata": {
    "scrolled": true
   },
   "outputs": [
    {
     "data": {
      "text/plain": [
       "SAMEA6979313-AAACCCAAGACTCAAA            control\n",
       "SAMEA6979313-AAAGAACCACCTGCTT            control\n",
       "SAMEA6979313-AAAGGATGTCCCTCAT            control\n",
       "SAMEA6979313-AAAGGGTGTCCCTCAT            control\n",
       "SAMEA6979313-AAAGGTTGTCCCTCAT            control\n",
       "                                      ...       \n",
       "SAMEA6979322-TTTCCTCTCAACCTCC    severe COVID-19\n",
       "SAMEA6979322-TTTCGATAGATTAGAC    severe COVID-19\n",
       "SAMEA6979322-TTTGATCCAATAGTGA    severe COVID-19\n",
       "SAMEA6979322-TTTGGTTAGAATTGTG    severe COVID-19\n",
       "SAMEA6979322-TTTGGTTCATTGTGCA    severe COVID-19\n",
       "Name: Factor Value[clinical history], Length: 6807, dtype: category\n",
       "Categories (3, object): ['control', 'mild COVID-19', 'severe COVID-19']"
      ]
     },
     "execution_count": 3,
     "metadata": {},
     "output_type": "execute_result"
    }
   ],
   "source": [
    "adata.obs[\"Factor Value[clinical history]\"]"
   ]
  },
  {
   "cell_type": "code",
   "execution_count": null,
   "id": "5af46102-cc30-4e6d-8662-879a8c8a8781",
   "metadata": {},
   "outputs": [
    {
     "name": "stderr",
     "output_type": "stream",
     "text": [
      "/data/bionets/je30bery/anaconda3/envs/scanpy/lib/python3.9/site-packages/scanpy/preprocessing/_scale.py:318: UserWarning: Received a view of an AnnData. Making a copy.\n",
      "  view_to_actual(adata)\n",
      "/data/bionets/je30bery/anaconda3/envs/scanpy/lib/python3.9/site-packages/scipy/sparse/_index.py:151: SparseEfficiencyWarning: Changing the sparsity structure of a csr_matrix is expensive. lil_matrix is more efficient.\n",
      "  self._set_arrayXarray(i, j, x)\n"
     ]
    }
   ],
   "source": [
    "sc.pp.normalize_total(adata, target_sum=1e4)  # Normalize each cell to have 10,000 total counts\n",
    "sc.pp.log1p(adata)  # Logarithmize the data\n",
    "sc.pp.highly_variable_genes(adata, n_top_genes=100)  # Select top 2000 variable genes\n",
    "adata = adata[:, adata.var.highly_variable]  # Subset to variable genes\n",
    "sc.pp.scale(adata, max_value=10)  # Scale each gene to unit variance and clip to max_value=10\n",
    "sc.tl.pca(adata, svd_solver='arpack')\n",
    "sc.pp.neighbors(adata, n_neighbors=30)  # Set n_neighbors and use significant PCs\n",
    "sc.tl.umap(adata, min_dist=0.3)  # Set min_dist\n",
    "sc.pl.umap(adata, color=\"Factor Value[clinical history]\")  # Replace 'louvain' with desired cluster or metadata field"
   ]
  },
  {
   "cell_type": "code",
   "execution_count": null,
   "id": "d45d4df5-bce1-4b63-a585-103d09937afd",
   "metadata": {},
   "outputs": [],
   "source": [
    "rosenbaum(adata, group_by=\"Factor Value[clinical history]\", test_group=\"mild COVID-19\", reference=\"Control\", metric=\"euclidean\", rank=False)"
   ]
  }
 ],
 "metadata": {
  "kernelspec": {
   "display_name": "Python 3 (ipykernel)",
   "language": "python",
   "name": "python3"
  },
  "language_info": {
   "codemirror_mode": {
    "name": "ipython",
    "version": 3
   },
   "file_extension": ".py",
   "mimetype": "text/x-python",
   "name": "python",
   "nbconvert_exporter": "python",
   "pygments_lexer": "ipython3",
   "version": "3.9.21"
  }
 },
 "nbformat": 4,
 "nbformat_minor": 5
}
