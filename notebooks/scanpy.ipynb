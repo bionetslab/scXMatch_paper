{
 "cells": [
  {
   "cell_type": "code",
   "execution_count": 1,
   "id": "16df22dd-aeb6-48f9-ad7d-20221aab89ba",
   "metadata": {},
   "outputs": [
    {
     "name": "stdout",
     "output_type": "stream",
     "text": [
      "will use the CPU to calculate the distance matrix.\n",
      "will use the CPU to calculate the distance matrix.\n"
     ]
    }
   ],
   "source": [
    "import scanpy as sc\n",
    "import matplotlib.pyplot as plt\n",
    "import pandas as pd\n",
    "import anndata as ad\n",
    "import numpy as np\n",
    "import sys\n",
    "sys.path.append(\"..\")\n",
    "from src import *"
   ]
  },
  {
   "cell_type": "code",
   "execution_count": 2,
   "id": "1a18099f-7a41-47bf-826f-16415d0761f8",
   "metadata": {},
   "outputs": [],
   "source": [
    "adata = sc.datasets.ebi_expression_atlas(accession=\"E-MTAB-9221\")"
   ]
  },
  {
   "cell_type": "code",
   "execution_count": 3,
   "id": "b31e135b-1f68-412a-9178-c48e70c416a2",
   "metadata": {},
   "outputs": [],
   "source": [
    "sc.pp.log1p(adata)  # Logarithmize the data\n",
    "sc.pp.highly_variable_genes(adata, n_top_genes=100)  # Select top 2000 variable genes\n",
    "adata = adata[:, adata.var.highly_variable]  # Subset to variable genes"
   ]
  },
  {
   "cell_type": "code",
   "execution_count": 4,
   "id": "6a7780cf-bf1f-48f9-839c-076e9d92c37e",
   "metadata": {},
   "outputs": [
    {
     "name": "stderr",
     "output_type": "stream",
     "text": [
      "/data/bionets/je30bery/rosenbaum_test/notebooks/../src/rosenbaum.py:150: ImplicitModificationWarning: Trying to modify attribute `.obs` of view, initializing view as actual.\n",
      "  adata.obs[\"XMatch_group\"] = np.where(adata.obs[group_by].isin(test_group), \"test\", \"reference\")\n"
     ]
    },
    {
     "name": "stdout",
     "output_type": "stream",
     "text": [
      "XMatch_group\n",
      "test         3991\n",
      "reference    1408\n",
      "Name: count, dtype: int64\n",
      "calculating PCA and kNN graph.\n"
     ]
    },
    {
     "name": "stderr",
     "output_type": "stream",
     "text": [
      "/data/bionets/je30bery/conda/envs/graphtool/lib/python3.9/site-packages/tqdm/auto.py:21: TqdmWarning: IProgress not found. Please update jupyter and ipywidgets. See https://ipywidgets.readthedocs.io/en/stable/user_install.html\n",
      "  from .autonotebook import tqdm as notebook_tqdm\n"
     ]
    },
    {
     "name": "stdout",
     "output_type": "stream",
     "text": [
      "counting cross matches.\n"
     ]
    },
    {
     "data": {
      "text/plain": [
       "(9.796477678465106e-48, -15.014719146939562, 0.9996294924045943)"
      ]
     },
     "execution_count": 4,
     "metadata": {},
     "output_type": "execute_result"
    }
   ],
   "source": [
    "rosenbaum(adata, group_by=\"Factor Value[clinical history]\", test_group='severe COVID-19', reference=\"control\", rank=False, k=5, use_nx=True)"
   ]
  },
  {
   "cell_type": "code",
   "execution_count": 5,
   "id": "83462802-1b7d-4760-8674-1a98a633f8fc",
   "metadata": {},
   "outputs": [
    {
     "data": {
      "text/plain": [
       "View of AnnData object with n_obs × n_vars = 6807 × 100\n",
       "    obs: 'Sample Characteristic[organism]', 'Sample Characteristic Ontology Term[organism]', 'Sample Characteristic[developmental stage]', 'Sample Characteristic Ontology Term[developmental stage]', 'Sample Characteristic[sex]', 'Sample Characteristic Ontology Term[sex]', 'Sample Characteristic[age]', 'Sample Characteristic Ontology Term[age]', 'Sample Characteristic[individual]', 'Sample Characteristic Ontology Term[individual]', 'Sample Characteristic[disease]', 'Sample Characteristic Ontology Term[disease]', 'Sample Characteristic[clinical history]', 'Sample Characteristic Ontology Term[clinical history]', 'Sample Characteristic[organism part]', 'Sample Characteristic Ontology Term[organism part]', 'Factor Value[disease]', 'Factor Value Ontology Term[disease]', 'Factor Value[clinical history]', 'Factor Value Ontology Term[clinical history]', 'Factor Value[sampling time point]', 'Factor Value Ontology Term[sampling time point]', 'Factor Value[inferred cell type - ontology labels]', 'Factor Value Ontology Term[inferred cell type - ontology labels]'\n",
       "    var: 'highly_variable', 'means', 'dispersions', 'dispersions_norm'\n",
       "    uns: 'log1p', 'hvg'"
      ]
     },
     "execution_count": 5,
     "metadata": {},
     "output_type": "execute_result"
    }
   ],
   "source": [
    "adata"
   ]
  },
  {
   "cell_type": "code",
   "execution_count": null,
   "id": "f6c096fc-412a-42be-a344-19084b62a760",
   "metadata": {},
   "outputs": [
    {
     "name": "stderr",
     "output_type": "stream",
     "text": [
      "/data/bionets/je30bery/conda/envs/graphtool/lib/python3.9/site-packages/scanpy/preprocessing/_pca.py:317: ImplicitModificationWarning: Setting element `.obsm['X_pca']` of view, initializing view as actual.\n",
      "  adata.obsm[key_obsm] = X_pca\n"
     ]
    }
   ],
   "source": [
    "sc.tl.pca(adata)\n",
    "sc.pp.neighbors(adata)\n",
    "sc.tl.umap(adata)  # Replace 'louvain' with desired cluster or metadata field\n",
    "sc.pl.umap(adata, color=\"Factor Value[clinical history]\")  # Replace 'louvain' with desired cluster or metadata field"
   ]
  },
  {
   "cell_type": "code",
   "execution_count": null,
   "id": "18105834-62ea-4e37-9dab-efe5f74ec7a3",
   "metadata": {},
   "outputs": [],
   "source": [
    "adata.obs[\"Factor Value[clinical history]\"]"
   ]
  },
  {
   "cell_type": "code",
   "execution_count": null,
   "id": "0a4dba5b-8d48-4419-affa-e84f848575f7",
   "metadata": {},
   "outputs": [],
   "source": []
  }
 ],
 "metadata": {
  "kernelspec": {
   "display_name": "Python 3 (ipykernel)",
   "language": "python",
   "name": "python3"
  },
  "language_info": {
   "codemirror_mode": {
    "name": "ipython",
    "version": 3
   },
   "file_extension": ".py",
   "mimetype": "text/x-python",
   "name": "python",
   "nbconvert_exporter": "python",
   "pygments_lexer": "ipython3",
   "version": "3.9.18"
  }
 },
 "nbformat": 4,
 "nbformat_minor": 5
}
