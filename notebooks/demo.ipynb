{
 "cells": [
  {
   "cell_type": "markdown",
   "id": "e4ede42e-cc5d-43f3-b7c4-7b39fbb93813",
   "metadata": {},
   "source": [
    "## Demo\n",
    "Rosenbaum's test implementation."
   ]
  },
  {
   "cell_type": "code",
   "execution_count": 1,
   "id": "40b06930-268b-4153-b5d6-f16f2c891e49",
   "metadata": {},
   "outputs": [],
   "source": [
    "%load_ext autoreload\n",
    "%autoreload 2"
   ]
  },
  {
   "cell_type": "code",
   "execution_count": 2,
   "id": "f08ab94c-f8e5-4b18-be3c-a89b46856ace",
   "metadata": {},
   "outputs": [
    {
     "name": "stdout",
     "output_type": "stream",
     "text": [
      "found cupy installation, will try use the GPU to calculate the distance matrix.\n"
     ]
    }
   ],
   "source": [
    "import numpy as np \n",
    "import networkx as nx\n",
    "import pandas as pd\n",
    "import sys\n",
    "sys.path.append(\"..\")\n",
    "from rosenbaum import *"
   ]
  },
  {
   "cell_type": "code",
   "execution_count": 3,
   "id": "3166b1ac-53b1-4d54-9a80-ec1938fd82af",
   "metadata": {},
   "outputs": [
    {
     "name": "stdout",
     "output_type": "stream",
     "text": [
      "Help on function rosenbaum in module rosenbaum.rosenbaum:\n",
      "\n",
      "rosenbaum(data, group_by, test_group, reference='rest', metric='mahalanobis', rank=True)\n",
      "    Perform Rosenbaum's matching-based test for checking the association between two groups \n",
      "    using a distance-based matching approach.\n",
      "    \n",
      "    Parameters:\n",
      "    -----------\n",
      "    data : anndata.AnnData or pd.DataFrame\n",
      "        The input data containing the samples and their respective features. If the input is an\n",
      "        `AnnData` object, the samples and their corresponding features should be stored in `data.X` and the\n",
      "        group labels in `data.obs[group_by]`. If using a `pandas.DataFrame`, the group labels should be in the\n",
      "        column specified by `group_by`, and the feature matrix should be the remaining columns.\n",
      "    \n",
      "    group_by : str\n",
      "        The column in `data.obs` or `data` (in case of a `pandas.DataFrame`) containing the group labels.\n",
      "        The values of this column should include the `test_group` and potentially the `reference` group.\n",
      "    \n",
      "    test_group : str\n",
      "        The group of interest that is being tested for association. This group will be compared against the `reference` group.\n",
      "    \n",
      "    reference : str, optional, default=\"rest\"\n",
      "        The group used as a comparison to the `test_group`. If set to \"rest\", all groups other than `test_group`\n",
      "        are treated as the reference group.\n",
      "    \n",
      "    metric : str, optional, default=\"mahalanobis\"\n",
      "        The distance metric used for calculating distances between the samples during the matching process. \n",
      "        It can be any valid metric recognized by `scipy.spatial.distance.cdist`.\n",
      "    \n",
      "    rank : bool, optional, default=True\n",
      "        If `True`, ranks the features in the data matrix before performing the matching. This can help reduce\n",
      "        the impact of varying scales of the features on the distance computation.\n",
      "    \n",
      "    Returns:\n",
      "    --------\n",
      "    p_value : float\n",
      "        The p-value from Rosenbaum's test, indicating the statistical significance of the observed matching.\n",
      "    \n",
      "    a1 : int\n",
      "        The count of cross-matched pairs that contain `test_group` exactly once. This is used to compute the p-value.\n",
      "    \n",
      "    Raises:\n",
      "    -------\n",
      "    TypeError : If the input `data` is neither an `AnnData` object nor a `pandas.DataFrame`.\n",
      "    ValueError : If the input `test_group` is not in the data.\n",
      "    \n",
      "    Notes:\n",
      "    ------\n",
      "    Rosenbaum's test compares how likely it is to observe a matching between the `test_group` and the `reference`\n",
      "    group, using a matching algorithm based on distance metrics (such as \"mahalanobis\"). The test computes a p-value\n",
      "    based on the number of cross-matched pairs between the two groups.\n",
      "    \n",
      "    The function internally uses the `match_samples` function to compute a matching of the samples based on the chosen\n",
      "    distance metric. The resulting matching is then used in the `rosenbaum_test` to calculate the p-value.\n",
      "\n"
     ]
    }
   ],
   "source": [
    "help(rosenbaum)"
   ]
  },
  {
   "cell_type": "code",
   "execution_count": 4,
   "id": "91ecd88f-9fe4-4af9-a8bc-5c900dbea23d",
   "metadata": {},
   "outputs": [],
   "source": [
    "samples_A = [np.random.normal(0, 2, 2) for _ in range(10)]\n",
    "samples_B = [np.random.normal(0, 1, 2) for _ in range(10)]\n",
    "samples_C = [np.random.normal(5, 1, 2) for _ in range(10)]\n",
    "\n",
    "groups = [\"A\"] * 10 + [\"B\"] * 10 + [\"C\"] * 10\n",
    "samples = np.array(samples_A + samples_B + samples_C)\n",
    "data = pd.DataFrame(samples, columns=[\"X\", \"Y\"])\n",
    "data[\"Group\"] = groups"
   ]
  },
  {
   "cell_type": "code",
   "execution_count": 5,
   "id": "8314dbfe-17bf-496d-bdd9-2de544a7d269",
   "metadata": {},
   "outputs": [
    {
     "name": "stdout",
     "output_type": "stream",
     "text": [
      "computing variable-wise ranks.\n",
      "filtered samples.\n",
      "using GPU to calculate distance matrix.\n",
      "using CPU to calculate distance matrix due to chosen metric.\n",
      "creating distance graph.\n",
      "matching samples.\n",
      "P-value 0.06819805581415489\n"
     ]
    }
   ],
   "source": [
    "p_val, a = rosenbaum(data, group_by=\"Group\", test_group=\"A\", reference=\"B\")\n",
    "print(\"P-value\", p_val)"
   ]
  },
  {
   "cell_type": "code",
   "execution_count": 6,
   "id": "d1b1de8d-c52f-4c73-b18e-15379fe86ab0",
   "metadata": {},
   "outputs": [
    {
     "name": "stdout",
     "output_type": "stream",
     "text": [
      "computing variable-wise ranks.\n",
      "filtered samples.\n",
      "using GPU to calculate distance matrix.\n",
      "using CPU to calculate distance matrix due to chosen metric.\n",
      "creating distance graph.\n",
      "matching samples.\n",
      "P-value 0.06819805581415489\n"
     ]
    }
   ],
   "source": [
    "p_val, a = rosenbaum(data, group_by=\"Group\", test_group=\"A\", reference=\"C\")\n",
    "print(\"P-value\", p_val)"
   ]
  },
  {
   "cell_type": "code",
   "execution_count": 7,
   "id": "c8d41421-0150-4741-bc39-98a460343ed1",
   "metadata": {},
   "outputs": [
    {
     "name": "stdout",
     "output_type": "stream",
     "text": [
      "computing variable-wise ranks.\n",
      "using GPU to calculate distance matrix.\n",
      "using CPU to calculate distance matrix due to chosen metric.\n",
      "creating distance graph.\n",
      "matching samples.\n",
      "P-value 0.120039980009995\n"
     ]
    }
   ],
   "source": [
    "p_val, a = rosenbaum(data, group_by=\"Group\", test_group=\"A\", reference=\"rest\")\n",
    "print(\"P-value\", p_val)"
   ]
  }
 ],
 "metadata": {
  "kernelspec": {
   "display_name": "Python 3 (ipykernel)",
   "language": "python",
   "name": "python3"
  },
  "language_info": {
   "codemirror_mode": {
    "name": "ipython",
    "version": 3
   },
   "file_extension": ".py",
   "mimetype": "text/x-python",
   "name": "python",
   "nbconvert_exporter": "python",
   "pygments_lexer": "ipython3",
   "version": "3.9.18"
  }
 },
 "nbformat": 4,
 "nbformat_minor": 5
}
