{
 "cells": [
  {
   "cell_type": "code",
   "execution_count": 1,
   "id": "39f6e880-6f8f-4daa-a31a-7f3833b85806",
   "metadata": {},
   "outputs": [],
   "source": [
    "%load_ext autoreload\n",
    "%autoreload 2"
   ]
  },
  {
   "cell_type": "code",
   "execution_count": 2,
   "id": "e0c0c04c-6c9e-463f-9c81-e7597b5be44c",
   "metadata": {},
   "outputs": [],
   "source": [
    "# unscaled, log-normalized counts, with conditions subsampled to the same number of cells \n",
    "# and 2000 highly variable genes calculated jointly across all perturbation conditions, including control, using scanpy28 with default parameters (Supplementary Methods)"
   ]
  },
  {
   "cell_type": "code",
   "execution_count": 3,
   "id": "ec3d5ee8-9908-4635-bfd7-b759312952b4",
   "metadata": {},
   "outputs": [],
   "source": [
    "from anndata import read_h5ad\n",
    "import matplotlib.patches as patches\n",
    "import matplotlib.pyplot as plt\n",
    "import numpy as np\n",
    "import os\n",
    "import pandas as pd \n",
    "import scanpy as sc\n",
    "import seaborn as sns\n",
    "import string\n",
    "import sys\n",
    "from sklearn.linear_model import LinearRegression\n",
    "np.random.seed(42)"
   ]
  },
  {
   "cell_type": "code",
   "execution_count": 4,
   "id": "5c5dbb25-b94e-4a4a-8f39-892b33426770",
   "metadata": {},
   "outputs": [],
   "source": [
    "reference = 0\n",
    "group_by = \"dose_value\""
   ]
  },
  {
   "cell_type": "code",
   "execution_count": 5,
   "id": "76d6f07c-89f6-4dfe-890f-84c442f29a1f",
   "metadata": {},
   "outputs": [],
   "source": [
    "ram = pd.read_csv(\"../evaluation_results/runtime/job_memory_usage.csv\")\n",
    "ram.loc[ram[\"k\"] == 0, \"k\"] = ram.loc[ram[\"k\"] == 0, \"n_obs\"] \n",
    "ram = ram.astype(float)"
   ]
  },
  {
   "cell_type": "code",
   "execution_count": 6,
   "id": "414c1b7c-eadd-4a89-882a-e8fc760d56b4",
   "metadata": {},
   "outputs": [],
   "source": [
    "assert not ram.set_index([\"k\", \"n_obs\", \"n_var\"]).index.has_duplicates"
   ]
  },
  {
   "cell_type": "code",
   "execution_count": 7,
   "id": "c2a48ef6-ecca-4e9d-aa4d-ff725882a6b6",
   "metadata": {},
   "outputs": [],
   "source": [
    "df = pd.concat([pd.read_csv(f\"../evaluation_results/runtime/runtime_memory_log_{n_obs}.txt\", delimiter=\",\") for n_obs in [500, 1000, 2000, 5000, 10000, 20000, 50000]])"
   ]
  },
  {
   "cell_type": "code",
   "execution_count": 8,
   "id": "e075bacb-cf53-465c-8c43-4288124bb1fb",
   "metadata": {},
   "outputs": [],
   "source": [
    "df_filtered = df[~(df.eq(df.columns).all(axis=1))]\n",
    "df_filtered.loc[df_filtered[\"k\"].isna(), \"k\"] = df_filtered.loc[df_filtered[\"k\"].isna(), \"n_obs\"] \n",
    "df_filtered = df_filtered.astype(float)"
   ]
  },
  {
   "cell_type": "code",
   "execution_count": 9,
   "id": "55d08971-0adc-43e0-8f7a-7d58cba26eaa",
   "metadata": {},
   "outputs": [],
   "source": [
    "assert not df_filtered.set_index([\"k\", \"n_obs\", \"n_var\"]).index.has_duplicates"
   ]
  },
  {
   "cell_type": "code",
   "execution_count": 10,
   "id": "eccbddd9-b5e1-4707-92b8-83370653e521",
   "metadata": {},
   "outputs": [],
   "source": [
    "conc = pd.concat([ram.set_index([\"k\", \"n_obs\", \"n_var\"]), df_filtered.set_index([\"k\", \"n_obs\", \"n_var\"])], axis=1).reset_index()"
   ]
  },
  {
   "cell_type": "code",
   "execution_count": 11,
   "id": "397ea57f-1382-415a-8ec9-bfcdc883eb61",
   "metadata": {},
   "outputs": [],
   "source": [
    "conc = conc[conc[\"k\"] < conc[\"n_obs\"]]"
   ]
  },
  {
   "cell_type": "code",
   "execution_count": 12,
   "id": "043b1232-1255-4c56-a7f4-a5b6231c4234",
   "metadata": {},
   "outputs": [],
   "source": [
    "conc[\"upper_lim_edges\"] = conc[\"k\"] * conc[\"n_obs\"]"
   ]
  },
  {
   "cell_type": "code",
   "execution_count": 13,
   "id": "ece71fa3-6d50-45ba-b8f3-e4283f485a58",
   "metadata": {},
   "outputs": [],
   "source": [
    "conc[\"t_total\"] = conc[\"t_NN [s]\"] + conc[\"t_matching [s]\"]"
   ]
  },
  {
   "cell_type": "code",
   "execution_count": 14,
   "id": "6bf52c1a-ea5d-4f55-a29a-5c293e975f32",
   "metadata": {},
   "outputs": [],
   "source": [
    "conc.rename({\"n_obs\": \"$n_{obs}$\", \"n_var\": \"$n_{var}$\", \"k\": \"$k$\"}, axis=1, inplace=True)"
   ]
  },
  {
   "cell_type": "code",
   "execution_count": 15,
   "id": "ad0b8745-b96a-4eb0-8851-c172b1614432",
   "metadata": {},
   "outputs": [
    {
     "name": "stdout",
     "output_type": "stream",
     "text": [
      "2.3529705319523032e-07 0.21084756909293478\n"
     ]
    }
   ],
   "source": [
    "X = conc.loc[(conc[\"$k$\"] > 0) & (conc[\"n_edges\"].notna()), \"n_edges\"].values.reshape(-1, 1)\n",
    "y = conc.loc[(conc[\"$k$\"] > 0) & (conc[\"n_edges\"].notna()), \"total_ram_gb\"].values.reshape(-1, 1)\n",
    "lr = LinearRegression().fit(X, y)\n",
    "coef = lr.coef_.item()\n",
    "intercept = lr.intercept_.item()\n",
    "print(coef, intercept)"
   ]
  },
  {
   "cell_type": "code",
   "execution_count": 1,
   "id": "eee2b937-1b44-4c09-9d28-9979902fef51",
   "metadata": {},
   "outputs": [
    {
     "ename": "NameError",
     "evalue": "name 'plt' is not defined",
     "output_type": "error",
     "traceback": [
      "\u001b[0;31m---------------------------------------------------------------------------\u001b[0m",
      "\u001b[0;31mNameError\u001b[0m                                 Traceback (most recent call last)",
      "Cell \u001b[0;32mIn[1], line 1\u001b[0m\n\u001b[0;32m----> 1\u001b[0m f, axs \u001b[38;5;241m=\u001b[39m \u001b[43mplt\u001b[49m\u001b[38;5;241m.\u001b[39msubplots(\u001b[38;5;241m2\u001b[39m, \u001b[38;5;241m2\u001b[39m, figsize\u001b[38;5;241m=\u001b[39m(\u001b[38;5;241m9\u001b[39m, \u001b[38;5;241m5\u001b[39m))\n\u001b[1;32m      2\u001b[0m \u001b[38;5;66;03m#f.set_size_inches(12, 8)  \u001b[39;00m\n\u001b[1;32m      3\u001b[0m plt\u001b[38;5;241m.\u001b[39msubplots_adjust(top\u001b[38;5;241m=\u001b[39m\u001b[38;5;241m0.75\u001b[39m)\n",
      "\u001b[0;31mNameError\u001b[0m: name 'plt' is not defined"
     ]
    }
   ],
   "source": [
    "f, axs = plt.subplots(2, 2, figsize=(9, 5))\n",
    "#f.set_size_inches(12, 8)  \n",
    "plt.subplots_adjust(top=0.75)\n",
    "ax0 = axs[0, 0]\n",
    "ax1 = axs[0, 1]\n",
    "ax2 = axs[1, 0]\n",
    "ax3 = axs[1, 1]\n",
    "\n",
    "\n",
    "conc[[\"$k$\", \"$n_{obs}$\", \"$n_{var}$\"]] = conc[[\"$k$\", \"$n_{obs}$\", \"$n_{var}$\"]].astype(int)\n",
    "sns.scatterplot(conc, ax=ax0, x=\"n_edges\", y=\"total_ram_gb\", legend=False, color=\"gray\", alpha=0.3)\n",
    "\n",
    "X_fit = np.linspace(X.min(), X.max(), 100).reshape(-1, 1)\n",
    "y_fit = lr.predict(X_fit)\n",
    "ax0.plot(X_fit, y_fit, color=\"grey\", label=f\"Linear fit with\\n$\\\\beta_0\\\\approx{intercept:.2f}$,\\n$\\\\beta_1\\\\approx{coef:.2e}$\", ls=\"dotted\")\n",
    "ax0.legend()\n",
    "ax0.set_ylabel(\"Total RAM [GB]\")\n",
    "ax0.set_xlabel(\"Number of edges in distance graph $|E|$ (log-scale)\")\n",
    "ax0.set_xscale(\"log\")\n",
    "\n",
    "conc_subset = conc[conc['$n_{obs}$'].isin([2000, 10000, 50000])]\n",
    "sns.lineplot(conc_subset, ax=ax1, x='$k$', y=\"total_ram_gb\", hue=\"$n_{obs}$\", style=\"$n_{obs}$\", dashes=False, markers=True, palette=sns.color_palette(\"colorblind\", 3), alpha=0.5, legend=True)\n",
    "ax1.set_xscale(\"log\")\n",
    "\n",
    "ax1.set_xticks(sorted(conc_subset['$k$'].unique()))  # Set tick positions\n",
    "ax1.set_xticklabels(sorted(conc_subset['$k$'].unique()))  # Set label\n",
    "\n",
    "ax1.set_ylabel(\"Total RAM [GB]\")\n",
    "ax1.set_xlabel(\"$k$ (log-scale)\")\n",
    "\n",
    "\n",
    "conc_subset = conc_subset[conc_subset['$n_{obs}$'] != conc_subset['$k$'] ]\n",
    "conc_subset[\"Runtime [min] (log-scale)\"] = conc_subset[\"t_total\"] / (60)\n",
    "sns.lineplot(conc_subset, ax=ax2, x='$k$', y=\"Runtime [min] (log-scale)\", hue=\"$n_{obs}$\", style=\"$n_{obs}$\", dashes=False, markers=True, palette=sns.color_palette(\"colorblind\", 3), alpha=0.5, legend=True)\n",
    "ax2.set_xscale(\"log\")\n",
    "ax2.set_yscale(\"log\")\n",
    "\n",
    "ax2.set_xticks(sorted(conc_subset['$k$'].unique()))  # Set tick positions\n",
    "ax2.set_xticklabels(sorted(conc_subset['$k$'].unique()))  # Set label\n",
    "\n",
    "ax2.set_yticks([1, 10, 20, 100])  # Set tick positions\n",
    "ax2.set_yticklabels([1, 10, 20, 100])  # Set labels\n",
    "\n",
    "ax2.set_xlabel(\"$k$ (log-scale)\")\n",
    "\n",
    "sns.lineplot(conc_subset, ax=ax3, x='$k$', y=\"s\", hue=\"$n_{obs}$\", style=\"$n_{obs}$\", dashes=False, markers=True, palette=sns.color_palette(\"colorblind\", 3), alpha=0.5, legend=True)\n",
    "ax3.set_xscale(\"log\")\n",
    "\n",
    "ax3.set_xticks(sorted(conc_subset['$k$'].unique()))  # Set tick positions\n",
    "ax3.set_xticklabels(sorted(conc_subset['$k$'].unique()))  # Set label\n",
    "ax3.set_xlabel(\"$k$ (log-scale)\")\n",
    "ax3.set_ylabel(\"Relative coverage $cov$\")\n",
    "\n",
    "\n",
    "labels = [\"a\", \"b\", \"c\", \"d\"]\n",
    "\n",
    "for i, label in enumerate(labels):\n",
    "    axs[i // 2, i % 2].text(\n",
    "        -0.05, 1.1,  # Position (normalized figure coordinates)\n",
    "        labels[i],   # Corresponding letter\n",
    "        transform=axs[i // 2, i % 2].transAxes,  # Relative to subplot\n",
    "        fontsize=10, fontweight='bold', va='top', ha='left'\n",
    "    )\n",
    "plt.tight_layout()  \n",
    "plt.savefig(\"../plots/fig2/runtime_memory_support.pdf\", bbox_inches=\"tight\")"
   ]
  },
  {
   "cell_type": "code",
   "execution_count": 17,
   "id": "ff044dd7-c0b4-4c4e-929c-d89930eed0a2",
   "metadata": {},
   "outputs": [
    {
     "data": {
      "text/plain": [
       "$n_{obs}$\n",
       "10000    36\n",
       "20000    36\n",
       "50000    36\n",
       "5000     32\n",
       "2000     28\n",
       "1000     24\n",
       "500      20\n",
       "Name: count, dtype: int64"
      ]
     },
     "execution_count": 17,
     "metadata": {},
     "output_type": "execute_result"
    }
   ],
   "source": [
    "conc[\"$n_{obs}$\"].value_counts()"
   ]
  },
  {
   "cell_type": "code",
   "execution_count": 18,
   "id": "d9909d0b-1e59-413b-b7f6-dbc794b5ffb7",
   "metadata": {},
   "outputs": [
    {
     "data": {
      "text/plain": [
       "0.9918"
      ]
     },
     "execution_count": 18,
     "metadata": {},
     "output_type": "execute_result"
    }
   ],
   "source": [
    "np.min(conc[conc[\"$k$\"] >= 100][\"s\"])"
   ]
  },
  {
   "cell_type": "code",
   "execution_count": null,
   "id": "83428051-0a35-4bee-9dd1-2bf560b87a95",
   "metadata": {},
   "outputs": [],
   "source": []
  }
 ],
 "metadata": {
  "kernelspec": {
   "display_name": "Python 3 (ipykernel)",
   "language": "python",
   "name": "python3"
  },
  "language_info": {
   "codemirror_mode": {
    "name": "ipython",
    "version": 3
   },
   "file_extension": ".py",
   "mimetype": "text/x-python",
   "name": "python",
   "nbconvert_exporter": "python",
   "pygments_lexer": "ipython3",
   "version": "3.10.16"
  }
 },
 "nbformat": 4,
 "nbformat_minor": 5
}
