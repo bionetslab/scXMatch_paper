{
 "cells": [
  {
   "cell_type": "markdown",
   "id": "b72b232f-f259-4abc-8b20-54be1af0bcd0",
   "metadata": {},
   "source": [
    "## Visualization\n",
    "Rosenbaum's test has a known, exact null distribution, which is exactly distribution free, meaning that the test works for any underlying distributions F and G which are tested on being equal. \n",
    "It constructs an optimal bi-partite matching of all observations, meaning that it pairs each data point to exactly one other, minimizing the within-pair distances.\n",
    "If F and G are similar or equal, the matching will result in a high number of cross-matches (pairs with one observation from each of the groups). If they are different, the minimal distance pairs will mostly be from the same groups.    \n",
    "This notebooks visualizes the Rosenbaum test with two distributions. \n",
    "\n",
    "#### Experiment with the distributions to see the effects on the matching!"
   ]
  },
  {
   "cell_type": "code",
   "execution_count": 1,
   "id": "40b06930-268b-4153-b5d6-f16f2c891e49",
   "metadata": {},
   "outputs": [],
   "source": [
    "%load_ext autoreload\n",
    "%autoreload 2"
   ]
  },
  {
   "cell_type": "code",
   "execution_count": 2,
   "id": "f08ab94c-f8e5-4b18-be3c-a89b46856ace",
   "metadata": {},
   "outputs": [
    {
     "name": "stdout",
     "output_type": "stream",
     "text": [
      "will use the CPU to calculate the distance matrix.\n",
      "will use the CPU to calculate the distance matrix.\n"
     ]
    }
   ],
   "source": [
    "import numpy as np \n",
    "from graph_tool.all import Graph, graph_draw\n",
    "import pandas as pd\n",
    "import anndata as ad\n",
    "import sys\n",
    "sys.path.append(\"..\")\n",
    "from src import *\n",
    "import seaborn as sns\n",
    "import matplotlib.pyplot as plt\n",
    "from matplotlib.lines import Line2D\n",
    "import itertools\n",
    "\n",
    "import time\n",
    "np.random.seed(42)"
   ]
  },
  {
   "cell_type": "code",
   "execution_count": 3,
   "id": "b18705c8-30af-40fc-aed1-69dea0983476",
   "metadata": {},
   "outputs": [],
   "source": [
    "metric = \"sqeuclidean\""
   ]
  },
  {
   "cell_type": "code",
   "execution_count": 4,
   "id": "91ecd88f-9fe4-4af9-a8bc-5c900dbea23d",
   "metadata": {},
   "outputs": [],
   "source": [
    "n_obs = 5000\n",
    "n_var = 1000\n",
    "samples_A = np.random.normal(0, 1, [n_obs, n_var]) \n",
    "samples_B = np.random.normal(0, 1, [n_obs, n_var]) \n",
    "\n",
    "\n",
    "groups = [\"A\"] * n_obs + [\"B\"] * n_obs  \n",
    "samples = np.concatenate((samples_A, samples_B)) \n",
    "adata = ad.AnnData(samples)\n",
    "adata.obs[\"Group\"] = groups"
   ]
  },
  {
   "cell_type": "code",
   "execution_count": 5,
   "id": "81de5f30-5665-45b3-b83b-b64e345f2034",
   "metadata": {},
   "outputs": [
    {
     "name": "stdout",
     "output_type": "stream",
     "text": [
      "AnnData object with n_obs × n_vars = 10000 × 1000\n",
      "    obs: 'Group'\n",
      "PCA 25.35942578315735\n"
     ]
    },
    {
     "name": "stderr",
     "output_type": "stream",
     "text": [
      "/data/bionets/je30bery/conda/envs/graphtool/lib/python3.9/site-packages/tqdm/auto.py:21: TqdmWarning: IProgress not found. Please update jupyter and ipywidgets. See https://ipywidgets.readthedocs.io/en/stable/user_install.html\n",
      "  from .autonotebook import tqdm as notebook_tqdm\n"
     ]
    },
    {
     "name": "stdout",
     "output_type": "stream",
     "text": [
      "Total 51.8831729888916\n",
      "AnnData object with n_obs × n_vars = 10000 × 1000\n",
      "    obs: 'Group'\n",
      "    uns: 'pca', 'neighbors'\n",
      "    obsm: 'X_pca'\n",
      "    varm: 'PCs'\n",
      "    obsp: 'distances', 'connectivities'\n"
     ]
    }
   ],
   "source": [
    "print(adata)\n",
    "start = time.time()\n",
    "sc.pp.pca(adata)\n",
    "print(\"PCA\", time.time() - start)\n",
    "\n",
    "sc.pp.neighbors(adata, metric=metric)\n",
    "print(\"Total\", time.time() - start)\n",
    "print(adata)"
   ]
  },
  {
   "cell_type": "code",
   "execution_count": 6,
   "id": "21fd80ac-4dbe-47ca-ae3f-1607a102fcb3",
   "metadata": {},
   "outputs": [
    {
     "data": {
      "text/plain": [
       "<10000x10000 sparse matrix of type '<class 'numpy.float32'>'\n",
       "\twith 160000 stored elements in Compressed Sparse Row format>"
      ]
     },
     "execution_count": 6,
     "metadata": {},
     "output_type": "execute_result"
    }
   ],
   "source": [
    "adata.obsp[\"distances\"]"
   ]
  },
  {
   "cell_type": "code",
   "execution_count": null,
   "id": "5c4d0063-07df-4387-a73e-3ce29d41bc9a",
   "metadata": {},
   "outputs": [
    {
     "name": "stdout",
     "output_type": "stream",
     "text": [
      "using CPU to calculate distance matrix.\n",
      "creating distance graph.\n"
     ]
    }
   ],
   "source": [
    "test = \"A\"\n",
    "reference = \"B\"\n",
    "metric=\"sqeuclidean\"\n",
    "distances = calculate_distances_nx(adata.X, metric)\n",
    "G = construct_graph_from_distances_nx(distances)\n",
    "matching = match_nx(G)\n",
    "p_val, z, support = rosenbaum(adata, group_by=\"Group\", test_group=test, reference=reference, use_nx=True)"
   ]
  },
  {
   "cell_type": "code",
   "execution_count": null,
   "id": "13cd626a-bd68-4cae-87ce-b77072a2ef11",
   "metadata": {},
   "outputs": [],
   "source": [
    "sc.pp.neighbors(adata, n_neighbors=5, metric=metric)"
   ]
  },
  {
   "cell_type": "code",
   "execution_count": null,
   "id": "8d15afec-ae11-43f1-9685-a23ef3861084",
   "metadata": {},
   "outputs": [],
   "source": [
    "G_knn = nx.from_scipy_sparse_array(adata.obsp[\"distances\"])"
   ]
  },
  {
   "cell_type": "code",
   "execution_count": null,
   "id": "3277255e-193d-4983-be60-059f4e7baf65",
   "metadata": {},
   "outputs": [],
   "source": [
    "G_matching = nx.from_edgelist(matching)"
   ]
  },
  {
   "cell_type": "code",
   "execution_count": null,
   "id": "5ca4bdd8-67a1-48d0-9faa-8f8223a4b1f7",
   "metadata": {},
   "outputs": [],
   "source": []
  },
  {
   "cell_type": "code",
   "execution_count": null,
   "id": "ac601ea2-b7a0-4b4d-a3b6-993597e5f202",
   "metadata": {},
   "outputs": [],
   "source": [
    "f, axs = plt.subplots(1, 3, figsize=(10, 4))\n",
    "used_elements = list(chain.from_iterable(matching))\n",
    "pos = {i: adata.X[i] for i in used_elements}\n",
    "n_colors = adata.obs[\"Group\"].replace({\"A\": \"purple\", \"B\": \"orange\"}).values[used_elements]\n",
    "\n",
    "nx.draw(G, pos=pos, node_color=n_colors, edge_color=(0,0,0,0.3), node_size=50, ax=axs[0])\n",
    "nx.draw(G_knn, pos=pos, node_color=n_colors, edge_color=(0,0,0,0.3), node_size=50, ax=axs[1])\n",
    "nx.draw(G_matching, pos=pos, node_color=n_colors, edge_color=(0,0,0,0.3), node_size=50, ax=axs[2])\n",
    "plt.savefig(\"explanation.jpg\")"
   ]
  }
 ],
 "metadata": {
  "kernelspec": {
   "display_name": "Python 3 (ipykernel)",
   "language": "python",
   "name": "python3"
  },
  "language_info": {
   "codemirror_mode": {
    "name": "ipython",
    "version": 3
   },
   "file_extension": ".py",
   "mimetype": "text/x-python",
   "name": "python",
   "nbconvert_exporter": "python",
   "pygments_lexer": "ipython3",
   "version": "3.9.18"
  }
 },
 "nbformat": 4,
 "nbformat_minor": 5
}
