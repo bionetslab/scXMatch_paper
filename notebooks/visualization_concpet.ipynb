{
 "cells": [
  {
   "cell_type": "markdown",
   "id": "b72b232f-f259-4abc-8b20-54be1af0bcd0",
   "metadata": {},
   "source": [
    "## Visualization\n",
    "Rosenbaum's test has a known, exact null distribution, which is exactly distribution free, meaning that the test works for any underlying distributions F and G which are tested on being equal. \n",
    "It constructs an optimal bi-partite matching of all observations, meaning that it pairs each data point to exactly one other, minimizing the within-pair distances.\n",
    "If F and G are similar or equal, the matching will result in a high number of cross-matches (pairs with one observation from each of the groups). If they are different, the minimal distance pairs will mostly be from the same groups.    \n",
    "This notebooks visualizes the Rosenbaum test with two distributions. \n",
    "\n",
    "#### Experiment with the distributions to see the effects on the matching!"
   ]
  },
  {
   "cell_type": "code",
   "execution_count": 1,
   "id": "40b06930-268b-4153-b5d6-f16f2c891e49",
   "metadata": {},
   "outputs": [],
   "source": [
    "%load_ext autoreload\n",
    "%autoreload 2"
   ]
  },
  {
   "cell_type": "code",
   "execution_count": 2,
   "id": "f08ab94c-f8e5-4b18-be3c-a89b46856ace",
   "metadata": {},
   "outputs": [
    {
     "ename": "ModuleNotFoundError",
     "evalue": "No module named 'matching'",
     "output_type": "error",
     "traceback": [
      "\u001b[0;31m---------------------------------------------------------------------------\u001b[0m",
      "\u001b[0;31mModuleNotFoundError\u001b[0m                       Traceback (most recent call last)",
      "Cell \u001b[0;32mIn[2], line 7\u001b[0m\n\u001b[1;32m      5\u001b[0m \u001b[38;5;28;01mimport\u001b[39;00m\u001b[38;5;250m \u001b[39m\u001b[38;5;21;01msys\u001b[39;00m\n\u001b[1;32m      6\u001b[0m sys\u001b[38;5;241m.\u001b[39mpath\u001b[38;5;241m.\u001b[39mappend(\u001b[38;5;124m\"\u001b[39m\u001b[38;5;124m..\u001b[39m\u001b[38;5;124m\"\u001b[39m)\n\u001b[0;32m----> 7\u001b[0m \u001b[38;5;28;01mfrom\u001b[39;00m\u001b[38;5;250m \u001b[39m\u001b[38;5;21;01mrosenbaum\u001b[39;00m\u001b[38;5;250m \u001b[39m\u001b[38;5;28;01mimport\u001b[39;00m \u001b[38;5;241m*\u001b[39m\n\u001b[1;32m      8\u001b[0m \u001b[38;5;28;01mimport\u001b[39;00m\u001b[38;5;250m \u001b[39m\u001b[38;5;21;01mseaborn\u001b[39;00m\u001b[38;5;250m \u001b[39m\u001b[38;5;28;01mas\u001b[39;00m\u001b[38;5;250m \u001b[39m\u001b[38;5;21;01msns\u001b[39;00m\n\u001b[1;32m      9\u001b[0m \u001b[38;5;28;01mimport\u001b[39;00m\u001b[38;5;250m \u001b[39m\u001b[38;5;21;01mmatplotlib\u001b[39;00m\u001b[38;5;21;01m.\u001b[39;00m\u001b[38;5;21;01mpyplot\u001b[39;00m\u001b[38;5;250m \u001b[39m\u001b[38;5;28;01mas\u001b[39;00m\u001b[38;5;250m \u001b[39m\u001b[38;5;21;01mplt\u001b[39;00m\n",
      "File \u001b[0;32m/data/bionets/je30bery/rosenbaum_test/notebooks/../rosenbaum/__init__.py:1\u001b[0m\n\u001b[0;32m----> 1\u001b[0m \u001b[38;5;28;01mfrom\u001b[39;00m\u001b[38;5;250m \u001b[39m\u001b[38;5;21;01mmatching\u001b[39;00m\u001b[38;5;250m \u001b[39m\u001b[38;5;28;01mimport\u001b[39;00m \u001b[38;5;241m*\u001b[39m\n\u001b[1;32m      2\u001b[0m \u001b[38;5;28;01mfrom\u001b[39;00m\u001b[38;5;250m \u001b[39m\u001b[38;5;21;01mmatching_nx\u001b[39;00m\u001b[38;5;250m \u001b[39m\u001b[38;5;28;01mimport\u001b[39;00m \u001b[38;5;241m*\u001b[39m\n\u001b[1;32m      3\u001b[0m \u001b[38;5;28;01mfrom\u001b[39;00m\u001b[38;5;250m \u001b[39m\u001b[38;5;21;01mrosenbaum\u001b[39;00m\u001b[38;5;250m \u001b[39m\u001b[38;5;28;01mimport\u001b[39;00m \u001b[38;5;241m*\u001b[39m\n",
      "\u001b[0;31mModuleNotFoundError\u001b[0m: No module named 'matching'"
     ]
    }
   ],
   "source": [
    "import numpy as np \n",
    "from graph_tool.all import Graph, graph_draw\n",
    "import pandas as pd\n",
    "import anndata as ad\n",
    "import sys\n",
    "sys.path.append(\"..\")\n",
    "from rosenbaum import *\n",
    "import seaborn as sns\n",
    "import matplotlib.pyplot as plt\n",
    "from matplotlib.lines import Line2D\n",
    "import itertools\n",
    "np.random.seed(42)"
   ]
  },
  {
   "cell_type": "code",
   "execution_count": null,
   "id": "b18705c8-30af-40fc-aed1-69dea0983476",
   "metadata": {},
   "outputs": [],
   "source": [
    "metric = \"sqeuclidean\""
   ]
  },
  {
   "cell_type": "code",
   "execution_count": null,
   "id": "91ecd88f-9fe4-4af9-a8bc-5c900dbea23d",
   "metadata": {},
   "outputs": [],
   "source": [
    "n_samples = 15\n",
    "samples_A = [np.random.normal((0,0), (1,1), 2) for _ in range(n_samples)]\n",
    "samples_B = [np.random.normal((2,1), (1,1), 2) for _ in range(n_samples)]\n",
    "\n",
    "\n",
    "groups = [\"A\"] * n_samples + [\"B\"] * n_samples  \n",
    "samples = np.array(samples_A + samples_B) \n",
    "adata = ad.AnnData(samples)\n",
    "adata.obs[\"Group\"] = groups"
   ]
  },
  {
   "cell_type": "code",
   "execution_count": null,
   "id": "5c4d0063-07df-4387-a73e-3ce29d41bc9a",
   "metadata": {},
   "outputs": [],
   "source": [
    "test = \"A\"\n",
    "reference = \"B\"\n",
    "metric=\"sqeuclidean\"\n",
    "distances = calculate_distances_nx(adata.X, metric)\n",
    "G = construct_graph_from_distances_nx(distances)\n",
    "matching = match_nx(G)\n",
    "p_val, z, support = rosenbaum(adata, group_by=\"Group\", test_group=test, reference=reference, nx=True)"
   ]
  },
  {
   "cell_type": "code",
   "execution_count": null,
   "id": "13cd626a-bd68-4cae-87ce-b77072a2ef11",
   "metadata": {},
   "outputs": [],
   "source": [
    "sc.pp.neighbors(adata, n_neighbors=5, metric=metric)"
   ]
  },
  {
   "cell_type": "code",
   "execution_count": null,
   "id": "8d15afec-ae11-43f1-9685-a23ef3861084",
   "metadata": {},
   "outputs": [],
   "source": [
    "G_knn = nx.from_scipy_sparse_array(adata.obsp[\"distances\"])"
   ]
  },
  {
   "cell_type": "code",
   "execution_count": null,
   "id": "3277255e-193d-4983-be60-059f4e7baf65",
   "metadata": {},
   "outputs": [],
   "source": [
    "G_matching = nx.from_edgelist(matching)"
   ]
  },
  {
   "cell_type": "code",
   "execution_count": null,
   "id": "ac601ea2-b7a0-4b4d-a3b6-993597e5f202",
   "metadata": {},
   "outputs": [],
   "source": [
    "f, axs = plt.subplots(1, 3, figsize=(10, 4))\n",
    "used_elements = list(chain.from_iterable(matching))\n",
    "pos = {i: adata.X[i] for i in used_elements}\n",
    "n_colors = adata.obs[\"Group\"].replace({\"A\": \"purple\", \"B\": \"orange\"}).values[used_elements]\n",
    "weights = [G[u][v].get('weight', 1) for u, v in G.edges()]  # Default weight is 1 if not provided\n",
    "weights_norm = (weights - np.min(weights)) / (np.max(weights) - np.min(weights))  # Normalize to [0, 1]\n",
    "\n",
    "nx.draw(G, pos=pos, node_color=n_colors, edge_color=(0,0,0,0.3), node_size=50, ax=axs[0])\n",
    "nx.draw(G_knn, pos=pos, node_color=n_colors, edge_color=(0,0,0,0.3), node_size=50, ax=axs[1])\n",
    "nx.draw(G_matching, pos=pos, node_color=n_colors, edge_color=(0,0,0,0.3), node_size=50, ax=axs[2])\n",
    "plt.savefig(\"explanation.jpg\")"
   ]
  },
  {
   "cell_type": "code",
   "execution_count": null,
   "id": "7bcacd28-f14a-4e48-a453-867f0ec760d9",
   "metadata": {},
   "outputs": [],
   "source": [
    "p_val, z, support = rosenbaum(adata, group_by=\"Group\", test_group=\"A\", reference=\"B\", nx=True)"
   ]
  },
  {
   "cell_type": "code",
   "execution_count": null,
   "id": "68272210-b2c1-4af9-b708-2c41448d35e6",
   "metadata": {},
   "outputs": [],
   "source": [
    "p_val"
   ]
  },
  {
   "cell_type": "code",
   "execution_count": null,
   "id": "5e77fca2-3350-4414-ab51-d54c420cb834",
   "metadata": {},
   "outputs": [],
   "source": [
    "used_elements = list(chain.from_iterable(matching))\n",
    "\n",
    "pos = {i: adata.X[i] for i in used_elements}\n",
    "G = nx.Graph()\n",
    "\n",
    "e_colors = list()\n",
    "for u, v in matching:\n",
    "    if adata.obs[\"Group\"].iloc[u] == adata.obs[\"Group\"].iloc[v]:\n",
    "        e_colors.append((0.9, 0.9, 0.9))\n",
    "    else:\n",
    "        e_colors.append((0, 0, 0))\n",
    "\n",
    "G.add_edges_from(matching)\n",
    "n_colors = adata.obs[\"Group\"].replace({\"A\": \"purple\", \"B\": \"orange\", \"C\": \"green\", \"D\": \"pink\", \"E\": \"blue\", \"F\": \"yellow\", \"G\": \"lightblue\"}).values[used_elements]\n",
    "nx.draw(G, pos=pos, node_color=n_colors, edge_color=e_colors, node_size=10, ax=ax)\n",
    "ax.set_title(f\"P={p_val:.5f}, z={z:.3f}\")\n",
    "#ax.axis(\"off\")"
   ]
  },
  {
   "cell_type": "code",
   "execution_count": null,
   "id": "e23800c9-8219-461f-b2f3-ea778a2f9175",
   "metadata": {},
   "outputs": [],
   "source": [
    "legend_elements = {\n",
    "    \"A\": Line2D([0], [0], marker='o', color='w', markerfacecolor='purple', markersize=8, label=r'$~\\mathcal{N}((0,0), (1,1))$'),\n",
    "    \"B\": Line2D([0], [0], marker='o', color='w', markerfacecolor='orange', markersize=8, label=r'$~\\mathcal{N}((0,0), (1,1))$'),\n",
    "    \"C\": Line2D([0], [0], marker='o', color='w', markerfacecolor='green', markersize=8, label=r'$~\\mathcal{N}((1,0), (1,1))$'),\n",
    "    \"D\": Line2D([0], [0], marker='o', color='w', markerfacecolor='pink', markersize=8, label=r'$~\\mathcal{N}((2,0), (1,1))$'),\n",
    "    \"E\": Line2D([0], [0], marker='o', color='w', markerfacecolor='blue', markersize=8, label=r'$~\\mathcal{N}((0,0), (2,2))$'),\n",
    "    \"F\": Line2D([0], [0], marker='o', color='w', markerfacecolor='yellow', markersize=8, label=r'$~\\mathcal{N}(((0,0), (3,3))$'),\n",
    "    \"G\": Line2D([0], [0], marker='o', color='w', markerfacecolor='lightblue', markersize=8, label=r'$~\\mathcal{N}((1,1), (2,2))$'),\n",
    "}\n",
    "edge_legend_elements = [\n",
    "    Line2D([0], [0], color=(0.9, 0.9, 0.9), lw=2, label=r'Iso-match'),\n",
    "    Line2D([0], [0], color=(0, 0, 0), lw=2, label=r'Cross-match')\n",
    "]"
   ]
  },
  {
   "cell_type": "code",
   "execution_count": null,
   "id": "f0dae995-2a5a-4215-938b-7d511d070043",
   "metadata": {},
   "outputs": [],
   "source": [
    "f, axs = plt.subplots(2, 3, figsize=(12, 8))\n",
    "for i, reference in enumerate([\"B\", \"C\", \"D\", \"E\", \"F\", \"G\"]):\n",
    "\n",
    "    x = i // 3\n",
    "    y = i % 3\n",
    "    draw_matching(adata_subset, matching, p_val, z, support, axs[x, y])\n",
    "    axs[x, y].legend(handles=[legend_elements[\"A\"], legend_elements[reference]] + edge_legend_elements, loc='lower center', bbox_to_anchor=(0.5,-0.5), ncol=2)\n",
    "\n",
    "plt.tight_layout()\n",
    "plt.show()"
   ]
  },
  {
   "cell_type": "code",
   "execution_count": null,
   "id": "381762f5-9b63-4598-a0d2-46b37b65c1e1",
   "metadata": {},
   "outputs": [],
   "source": []
  },
  {
   "cell_type": "code",
   "execution_count": null,
   "id": "6c4c8a04-b033-4dd2-ae20-d56c5765a9b2",
   "metadata": {},
   "outputs": [],
   "source": []
  },
  {
   "cell_type": "code",
   "execution_count": null,
   "id": "d95ee499-22d8-47b7-958a-fc6c323e0e24",
   "metadata": {},
   "outputs": [],
   "source": []
  },
  {
   "cell_type": "code",
   "execution_count": null,
   "id": "a71a472a-a5d8-4392-bae8-64f97552c2d7",
   "metadata": {},
   "outputs": [],
   "source": []
  }
 ],
 "metadata": {
  "kernelspec": {
   "display_name": "Python 3 (ipykernel)",
   "language": "python",
   "name": "python3"
  },
  "language_info": {
   "codemirror_mode": {
    "name": "ipython",
    "version": 3
   },
   "file_extension": ".py",
   "mimetype": "text/x-python",
   "name": "python",
   "nbconvert_exporter": "python",
   "pygments_lexer": "ipython3",
   "version": "3.9.18"
  }
 },
 "nbformat": 4,
 "nbformat_minor": 5
}
