{
 "cells": [
  {
   "cell_type": "code",
   "execution_count": 1,
   "id": "1ca32ef5-a9e4-4b06-99c2-36eca6422179",
   "metadata": {},
   "outputs": [
    {
     "name": "stdout",
     "output_type": "stream",
     "text": [
      "will use the CPU to calculate the distance matrix.\n"
     ]
    }
   ],
   "source": [
    "import sys\n",
    "sys.path.append(\"../../scxmatch/src/\")\n",
    "from scxmatch import *\n",
    "import anndata as ad\n",
    "import pandas as pd\n",
    "from tqdm import tqdm\n",
    "import seaborn as sns\n",
    "import matplotlib.pyplot as plt\n",
    "import string\n",
    "import scanpy as sc"
   ]
  },
  {
   "cell_type": "code",
   "execution_count": 28,
   "id": "e56c08d3-7d85-4758-adfd-c3cbb19846a4",
   "metadata": {},
   "outputs": [],
   "source": [
    "def discrete_level(x, levels=[1, 0.1, 0.05, 0.01, 0.001]):\n",
    "    for i, level in enumerate(levels[1:]):\n",
    "        if x > level:\n",
    "            return i / (len(levels) - 1) \n",
    "    return (i + 1) / (len(levels) - 1)     "
   ]
  },
  {
   "cell_type": "code",
   "execution_count": 2,
   "id": "9245eadd-6089-4a46-bb8e-73d10c13b495",
   "metadata": {},
   "outputs": [],
   "source": [
    "k=100"
   ]
  },
  {
   "cell_type": "code",
   "execution_count": 3,
   "id": "d2ef1d01-1275-46c3-9749-e5bf3a98ec32",
   "metadata": {},
   "outputs": [
    {
     "name": "stderr",
     "output_type": "stream",
     "text": [
      "/data/bionets/je30bery/conda/envs/gt-292/lib/python3.9/site-packages/scanpy/preprocessing/_highly_variable_genes.py:226: FutureWarning: The default of observed=False is deprecated and will be changed to True in a future version of pandas. Pass observed=False to retain current behavior or observed=True to adopt the future default and silence this warning.\n",
      "  disp_grouped = df.groupby(\"mean_bin\")[\"dispersions\"]\n"
     ]
    },
    {
     "data": {
      "text/plain": [
       "AnnData object with n_obs × n_vars = 12936 × 2000\n",
       "    obs: 'orig.ident', 'nCount_RNA', 'nFeature_RNA', 'nGene', 'nUMI', 'percent.mito', 'replicate', 'Period', 'label', 'cell_type', 'subtype'\n",
       "    var: 'name', 'highly_variable', 'means', 'dispersions', 'dispersions_norm'\n",
       "    uns: 'log1p', 'hvg'\n",
       "    layers: 'counts'"
      ]
     },
     "execution_count": 3,
     "metadata": {},
     "output_type": "execute_result"
    }
   ],
   "source": [
    "bhatt_adata = ad.read_h5ad(\"/data/bionets/datasets/scrnaseq_ji/bhattacherjee.hdf5\")\n",
    "scanpy_setup(bhatt_adata)"
   ]
  },
  {
   "cell_type": "code",
   "execution_count": 4,
   "id": "055ad54e-5988-4c0c-af5e-50eae014b574",
   "metadata": {},
   "outputs": [],
   "source": [
    "reference=\"Maintenance_Cocaine\"\n",
    "test_groups = [\"withdraw_48h_Cocaine\", \"withdraw_15d_Cocaine\"]\n",
    "bhatt_adata_48 = bhatt_adata[bhatt_adata.obs[\"label\"].isin([test_groups[0], reference])]\n",
    "bhatt_adata_15 = bhatt_adata[bhatt_adata.obs[\"label\"].isin([test_groups[1], reference])]"
   ]
  },
  {
   "cell_type": "code",
   "execution_count": 5,
   "id": "c2afcb35-3654-44cd-86b4-5b2a6a98d237",
   "metadata": {},
   "outputs": [
    {
     "name": "stderr",
     "output_type": "stream",
     "text": [
      "/data/bionets/je30bery/conda/envs/gt-292/lib/python3.9/site-packages/scanpy/preprocessing/_highly_variable_genes.py:226: FutureWarning: The default of observed=False is deprecated and will be changed to True in a future version of pandas. Pass observed=False to retain current behavior or observed=True to adopt the future default and silence this warning.\n",
      "  disp_grouped = df.groupby(\"mean_bin\")[\"dispersions\"]\n"
     ]
    }
   ],
   "source": [
    "kang_adata = ad.read_h5ad(\"/data/bionets/datasets/scrnaseq_ji/kang_2018.hdf5\")\n",
    "kang_adata = scanpy_setup(kang_adata)"
   ]
  },
  {
   "cell_type": "code",
   "execution_count": 6,
   "id": "48ae8327-b61b-41c2-80a4-19a9adb88abd",
   "metadata": {},
   "outputs": [
    {
     "name": "stderr",
     "output_type": "stream",
     "text": [
      "  0%|                                                                                                                                                                                                                                                                                      | 0/8 [00:00<?, ?it/s]"
     ]
    },
    {
     "name": "stdout",
     "output_type": "stream",
     "text": [
      "XMatch_group\n",
      "reference    2932\n",
      "test         2765\n",
      "Name: count, dtype: int64\n",
      "calculating kNN graph.\n"
     ]
    },
    {
     "name": "stderr",
     "output_type": "stream",
     "text": [
      "/data/bionets/je30bery/conda/envs/gt-292/lib/python3.9/site-packages/tqdm/auto.py:21: TqdmWarning: IProgress not found. Please update jupyter and ipywidgets. See https://ipywidgets.readthedocs.io/en/stable/user_install.html\n",
      "  from .autonotebook import tqdm as notebook_tqdm\n",
      " 12%|█████████████████████████████████▊                                                                                                                                                                                                                                            | 1/8 [00:33<03:53, 33.40s/it]"
     ]
    },
    {
     "name": "stdout",
     "output_type": "stream",
     "text": [
      "counting cross matches.\n",
      "XMatch_group\n",
      "test         5678\n",
      "reference    5560\n",
      "Name: count, dtype: int64\n",
      "calculating kNN graph.\n",
      "counting cross matches.\n"
     ]
    },
    {
     "name": "stderr",
     "output_type": "stream",
     "text": [
      " 25%|███████████████████████████████████████████████████████████████████▌                                                                                                                                                                                                          | 2/8 [01:49<05:50, 58.41s/it]"
     ]
    },
    {
     "name": "stdout",
     "output_type": "stream",
     "text": [
      "XMatch_group\n",
      "test         271\n",
      "reference    258\n",
      "Name: count, dtype: int64\n",
      "calculating kNN graph.\n"
     ]
    },
    {
     "name": "stderr",
     "output_type": "stream",
     "text": [
      " 38%|█████████████████████████████████████████████████████████████████████████████████████████████████████▎                                                                                                                                                                        | 3/8 [01:51<02:43, 32.70s/it]"
     ]
    },
    {
     "name": "stdout",
     "output_type": "stream",
     "text": [
      "counting cross matches.\n",
      "XMatch_group\n",
      "test         861\n",
      "reference    855\n",
      "Name: count, dtype: int64\n",
      "calculating kNN graph.\n"
     ]
    },
    {
     "name": "stderr",
     "output_type": "stream",
     "text": [
      " 50%|███████████████████████████████████████████████████████████████████████████████████████████████████████████████████████████████████████                                                                                                                                       | 4/8 [02:03<01:38, 24.55s/it]"
     ]
    },
    {
     "name": "stdout",
     "output_type": "stream",
     "text": [
      "counting cross matches.\n",
      "XMatch_group\n",
      "reference    811\n",
      "test         810\n",
      "Name: count, dtype: int64\n",
      "calculating kNN graph.\n"
     ]
    },
    {
     "name": "stderr",
     "output_type": "stream",
     "text": [
      " 62%|████████████████████████████████████████████████████████████████████████████████████████████████████████████████████████████████████████████████████████████████████████▊                                                                                                     | 5/8 [02:12<00:56, 18.77s/it]"
     ]
    },
    {
     "name": "stdout",
     "output_type": "stream",
     "text": [
      "counting cross matches.\n",
      "XMatch_group\n",
      "test         1335\n",
      "reference    1316\n",
      "Name: count, dtype: int64\n",
      "calculating kNN graph.\n"
     ]
    },
    {
     "name": "stderr",
     "output_type": "stream",
     "text": [
      " 75%|██████████████████████████████████████████████████████████████████████████████████████████████████████████████████████████████████████████████████████████████████████████████████████████████████████████▌                                                                   | 6/8 [02:38<00:43, 21.55s/it]"
     ]
    },
    {
     "name": "stdout",
     "output_type": "stream",
     "text": [
      "counting cross matches.\n",
      "XMatch_group\n",
      "test         569\n",
      "reference    520\n",
      "Name: count, dtype: int64\n",
      "calculating kNN graph.\n"
     ]
    },
    {
     "name": "stderr",
     "output_type": "stream",
     "text": [
      "100%|██████████████████████████████████████████████████████████████████████████████████████████████████████████████████████████████████████████████████████████████████████████████████████████████████████████████████████████████████████████████████████████████████████████████| 8/8 [02:42<00:00, 20.28s/it]"
     ]
    },
    {
     "name": "stdout",
     "output_type": "stream",
     "text": [
      "counting cross matches.\n",
      "XMatch_group\n",
      "test         69\n",
      "reference    63\n",
      "Name: count, dtype: int64\n",
      "calculating kNN graph.\n",
      "counting cross matches.\n"
     ]
    },
    {
     "name": "stderr",
     "output_type": "stream",
     "text": [
      "\n"
     ]
    }
   ],
   "source": [
    "p_vals = dict()\n",
    "mses = dict()\n",
    "for cell_type in tqdm(kang_adata.obs[\"cell_type\"].unique()):\n",
    "    subset = kang_adata[kang_adata.obs[\"cell_type\"] == cell_type]\n",
    "    p, _, s = rosenbaum(subset, group_by=\"condition\", reference=\"control\", test_group=\"stimulated\", k=k, return_matching=False, metric=\"sqeuclidean\")      \n",
    "    p_vals[cell_type] = p\n",
    "    control_mean = np.array(np.mean(subset[subset.obs[\"condition\"] == \"control\"].X.todense(), axis=0))[0]\n",
    "    test_mean = np.array(np.mean(subset[subset.obs[\"condition\"] == \"stimulated\"].X.todense(), axis=0))[0]\n",
    "    mse = np.mean((control_mean - test_mean) ** 2)\n",
    "    mses[cell_type] = mse"
   ]
  },
  {
   "cell_type": "code",
   "execution_count": 7,
   "id": "5a1f7b6f-9288-481e-a58a-83ff60c5fd52",
   "metadata": {},
   "outputs": [],
   "source": [
    "mean_augur_auc = {'CD14+ Monocytes': 0.920476, \n",
    "                  'CD4 T cells': 0.669376, \n",
    "                  'Dendritic cells': 0.847007,\n",
    "                  'NK cells': 0.673299, \n",
    "                  'CD8 T cells': 0.626247,\n",
    "                  'B cells': 0.783628, \n",
    "                  'FCGR3A+ Monocytes': 0.888934, \n",
    "                  'Megakaryocytes': 0.512619}"
   ]
  },
  {
   "cell_type": "code",
   "execution_count": 8,
   "id": "244f9a9e-ec20-4079-8349-eb0c5a1edad6",
   "metadata": {},
   "outputs": [],
   "source": [
    "kang_df = pd.DataFrame(mean_augur_auc.keys(), columns=[\"Cell type\"])"
   ]
  },
  {
   "cell_type": "code",
   "execution_count": 9,
   "id": "c62b3844-e9eb-4fff-8a24-51ed6e8bfe65",
   "metadata": {},
   "outputs": [],
   "source": [
    "kang_df[\"p\"] = kang_df[\"Cell type\"].apply(lambda x: p_vals[x])\n",
    "kang_df[\"MSE\"] = kang_df[\"Cell type\"].apply(lambda x: mses[x])\n",
    "kang_df[\"Mean Augur AUC\"] = kang_df[\"Cell type\"].apply(lambda x: mean_augur_auc[x])"
   ]
  },
  {
   "cell_type": "code",
   "execution_count": 10,
   "id": "ca1b56a0-e50e-4833-8afb-6dfd1686a597",
   "metadata": {},
   "outputs": [
    {
     "name": "stderr",
     "output_type": "stream",
     "text": [
      "  0%|                                                                                                                                                                                                                                                                                      | 0/8 [00:00<?, ?it/s]"
     ]
    },
    {
     "name": "stdout",
     "output_type": "stream",
     "text": [
      "XMatch_group\n",
      "test         270\n",
      "reference    216\n",
      "Name: count, dtype: int64\n",
      "calculating kNN graph.\n"
     ]
    },
    {
     "name": "stderr",
     "output_type": "stream",
     "text": [
      " 12%|█████████████████████████████████▊                                                                                                                                                                                                                                            | 1/8 [00:11<01:20, 11.46s/it]"
     ]
    },
    {
     "name": "stdout",
     "output_type": "stream",
     "text": [
      "counting cross matches.\n",
      "XMatch_group\n",
      "reference    373\n",
      "test         302\n",
      "Name: count, dtype: int64\n",
      "calculating kNN graph.\n"
     ]
    },
    {
     "name": "stderr",
     "output_type": "stream",
     "text": [
      " 25%|███████████████████████████████████████████████████████████████████▌                                                                                                                                                                                                          | 2/8 [00:32<01:44, 17.39s/it]"
     ]
    },
    {
     "name": "stdout",
     "output_type": "stream",
     "text": [
      "counting cross matches.\n",
      "XMatch_group\n",
      "test         1688\n",
      "reference    1264\n",
      "Name: count, dtype: int64\n",
      "calculating kNN graph.\n",
      "counting cross matches.\n"
     ]
    },
    {
     "name": "stderr",
     "output_type": "stream",
     "text": [
      " 38%|████████████████████████████████████████████████████████████████████████████████████████████████████▉                                                                                                                                                                        | 3/8 [05:23<11:49, 141.99s/it]"
     ]
    },
    {
     "name": "stdout",
     "output_type": "stream",
     "text": [
      "XMatch_group\n",
      "reference    478\n",
      "test         477\n",
      "Name: count, dtype: int64\n",
      "calculating kNN graph.\n",
      "counting cross matches.\n"
     ]
    },
    {
     "name": "stderr",
     "output_type": "stream",
     "text": [
      " 50%|██████████████████████████████████████████████████████████████████████████████████████████████████████████████████████████████████████▌                                                                                                                                      | 4/8 [06:07<06:53, 103.41s/it]"
     ]
    },
    {
     "name": "stdout",
     "output_type": "stream",
     "text": [
      "XMatch_group\n",
      "reference    409\n",
      "test         147\n",
      "Name: count, dtype: int64\n",
      "calculating kNN graph.\n"
     ]
    },
    {
     "name": "stderr",
     "output_type": "stream",
     "text": [
      " 62%|████████████████████████████████████████████████████████████████████████████████████████████████████████████████████████████████████████████████████████████████████████▊                                                                                                     | 5/8 [06:21<03:33, 71.19s/it]"
     ]
    },
    {
     "name": "stdout",
     "output_type": "stream",
     "text": [
      "counting cross matches.\n",
      "XMatch_group\n",
      "test         227\n",
      "reference    119\n",
      "Name: count, dtype: int64\n",
      "calculating kNN graph.\n",
      "counting cross matches.\n"
     ]
    },
    {
     "name": "stderr",
     "output_type": "stream",
     "text": [
      " 75%|██████████████████████████████████████████████████████████████████████████████████████████████████████████████████████████████████████████████████████████████████████████████████████████████████████████▌                                                                   | 6/8 [06:27<01:38, 49.03s/it]"
     ]
    },
    {
     "name": "stdout",
     "output_type": "stream",
     "text": [
      "XMatch_group\n",
      "test         182\n",
      "reference     82\n",
      "Name: count, dtype: int64\n",
      "calculating kNN graph.\n"
     ]
    },
    {
     "name": "stderr",
     "output_type": "stream",
     "text": [
      " 88%|████████████████████████████████████████████████████████████████████████████████████████████████████████████████████████████████████████████████████████████████████████████████████████████████████████████████████████████████████████████▎                                 | 7/8 [06:29<00:33, 33.47s/it]"
     ]
    },
    {
     "name": "stdout",
     "output_type": "stream",
     "text": [
      "counting cross matches.\n",
      "XMatch_group\n",
      "test         44\n",
      "reference    35\n",
      "Name: count, dtype: int64\n",
      "calculating kNN graph.\n",
      "WARNING: n_obs too small: adjusting to `n_neighbors = 40`\n",
      "counting cross matches.\n"
     ]
    },
    {
     "name": "stderr",
     "output_type": "stream",
     "text": [
      "100%|██████████████████████████████████████████████████████████████████████████████████████████████████████████████████████████████████████████████████████████████████████████████████████████████████████████████████████████████████████████████████████████████████████████████| 8/8 [06:29<00:00, 48.67s/it]\n",
      "  0%|                                                                                                                                                                                                                                                                                      | 0/8 [00:00<?, ?it/s]"
     ]
    },
    {
     "name": "stdout",
     "output_type": "stream",
     "text": [
      "XMatch_group\n",
      "reference    216\n",
      "test         213\n",
      "Name: count, dtype: int64\n",
      "calculating kNN graph.\n"
     ]
    },
    {
     "name": "stderr",
     "output_type": "stream",
     "text": [
      " 12%|█████████████████████████████████▊                                                                                                                                                                                                                                            | 1/8 [00:08<01:01,  8.83s/it]"
     ]
    },
    {
     "name": "stdout",
     "output_type": "stream",
     "text": [
      "counting cross matches.\n",
      "XMatch_group\n",
      "reference    373\n",
      "test          99\n",
      "Name: count, dtype: int64\n",
      "calculating kNN graph.\n"
     ]
    },
    {
     "name": "stderr",
     "output_type": "stream",
     "text": [
      " 25%|███████████████████████████████████████████████████████████████████▌                                                                                                                                                                                                          | 2/8 [00:12<00:34,  5.76s/it]"
     ]
    },
    {
     "name": "stdout",
     "output_type": "stream",
     "text": [
      "counting cross matches.\n",
      "XMatch_group\n",
      "test         4789\n",
      "reference    1264\n",
      "Name: count, dtype: int64\n",
      "calculating kNN graph.\n",
      "counting cross matches.\n"
     ]
    },
    {
     "name": "stderr",
     "output_type": "stream",
     "text": [
      " 38%|█████████████████████████████████████████████████████████████████████████████████████████████████████▎                                                                                                                                                                        | 3/8 [01:03<02:11, 26.24s/it]"
     ]
    },
    {
     "name": "stdout",
     "output_type": "stream",
     "text": [
      "XMatch_group\n",
      "test         753\n",
      "reference    478\n",
      "Name: count, dtype: int64\n",
      "calculating kNN graph.\n",
      "counting cross matches.\n"
     ]
    },
    {
     "name": "stderr",
     "output_type": "stream",
     "text": [
      " 50%|███████████████████████████████████████████████████████████████████████████████████████████████████████████████████████████████████████                                                                                                                                       | 4/8 [02:09<02:48, 42.11s/it]"
     ]
    },
    {
     "name": "stdout",
     "output_type": "stream",
     "text": [
      "XMatch_group\n",
      "reference    409\n",
      "test         240\n",
      "Name: count, dtype: int64\n",
      "calculating kNN graph.\n",
      "counting cross matches.\n"
     ]
    },
    {
     "name": "stderr",
     "output_type": "stream",
     "text": [
      " 62%|████████████████████████████████████████████████████████████████████████████████████████████████████████████████████████████████████████████████████████████████████████▊                                                                                                     | 5/8 [02:28<01:40, 33.63s/it]"
     ]
    },
    {
     "name": "stdout",
     "output_type": "stream",
     "text": [
      "XMatch_group\n",
      "reference    119\n",
      "test          71\n",
      "Name: count, dtype: int64\n",
      "calculating kNN graph.\n"
     ]
    },
    {
     "name": "stderr",
     "output_type": "stream",
     "text": [
      " 75%|██████████████████████████████████████████████████████████████████████████████████████████████████████████████████████████████████████████████████████████████████████████████████████████████████████████▌                                                                   | 6/8 [02:29<00:45, 22.57s/it]"
     ]
    },
    {
     "name": "stdout",
     "output_type": "stream",
     "text": [
      "counting cross matches.\n",
      "XMatch_group\n",
      "test         357\n",
      "reference     82\n",
      "Name: count, dtype: int64\n",
      "calculating kNN graph.\n"
     ]
    },
    {
     "name": "stderr",
     "output_type": "stream",
     "text": [
      " 88%|████████████████████████████████████████████████████████████████████████████████████████████████████████████████████████████████████████████████████████████████████████████████████████████████████████████████████████████████████████████▎                                 | 7/8 [02:38<00:18, 18.31s/it]"
     ]
    },
    {
     "name": "stdout",
     "output_type": "stream",
     "text": [
      "counting cross matches.\n",
      "XMatch_group\n",
      "test         101\n",
      "reference     35\n",
      "Name: count, dtype: int64\n",
      "calculating kNN graph.\n"
     ]
    },
    {
     "name": "stderr",
     "output_type": "stream",
     "text": [
      "100%|██████████████████████████████████████████████████████████████████████████████████████████████████████████████████████████████████████████████████████████████████████████████████████████████████████████████████████████████████████████████████████████████████████████████| 8/8 [02:39<00:00, 19.92s/it]"
     ]
    },
    {
     "name": "stdout",
     "output_type": "stream",
     "text": [
      "counting cross matches.\n"
     ]
    },
    {
     "name": "stderr",
     "output_type": "stream",
     "text": [
      "\n"
     ]
    }
   ],
   "source": [
    "p_vals = dict()\n",
    "mses = dict()\n",
    "group_by = \"label\"\n",
    "reference=\"Maintenance_Cocaine\"\n",
    "\n",
    "for test_group in test_groups:\n",
    "    p_vals[test_group] = dict()\n",
    "    mses[test_group] = dict()\n",
    "\n",
    "    \n",
    "    for cell_type in tqdm(bhatt_adata.obs[\"cell_type\"].unique()):\n",
    "        subset = bhatt_adata[bhatt_adata.obs[\"cell_type\"] == cell_type]\n",
    "        p, z, s = rosenbaum(subset, group_by=\"label\", reference=reference, test_group=test_group, k=k, return_matching=False, metric=\"sqeuclidean\")      \n",
    "        p_vals[test_group][cell_type] = p\n",
    "        control_mean = np.array(np.mean(subset[subset.obs[group_by] == reference].X.todense(), axis=0))[0]\n",
    "        test_mean = np.array(np.mean(subset[subset.obs[group_by] == test_group].X.todense(), axis=0))[0]\n",
    "        mse = np.mean((control_mean - test_mean) ** 2)\n",
    "        mses[test_group][cell_type] = mse"
   ]
  },
  {
   "cell_type": "code",
   "execution_count": 11,
   "id": "e5b95834-3302-4555-9ea2-71df162fbe8c",
   "metadata": {},
   "outputs": [],
   "source": [
    "aug_auc_15d = {\"Oligo\":         0.801417,\n",
    "                \"Astro\":         0.769116,\n",
    "                \"Microglia\":     0.743707,\n",
    "                \"OPC\":           0.743605,\n",
    "                \"Inhibitory\":    0.656202,\n",
    "                \"NF Oligo\":      0.625692,\n",
    "                \"Excitatory\":    0.623923,\n",
    "                \"Endo\":          0.588481}"
   ]
  },
  {
   "cell_type": "code",
   "execution_count": 12,
   "id": "9d8b0f7d-9268-41c3-912a-7f12a608ca1a",
   "metadata": {},
   "outputs": [],
   "source": [
    "aug_auc_48h = {\"Astro\":         0.624898,\n",
    "                \"OPC\":           0.598050,\n",
    "                \"NF Oligo\":      0.592619,\n",
    "                \"Microglia\":     0.587789,\n",
    "                \"Inhibitory\":    0.560000,\n",
    "                \"Oligo\":         0.557630,\n",
    "                \"Endo\":          0.540272,\n",
    "                \"Excitatory\":    0.527143}"
   ]
  },
  {
   "cell_type": "code",
   "execution_count": 13,
   "id": "96d0b818-42b5-4d3c-b10b-52df24536914",
   "metadata": {},
   "outputs": [],
   "source": [
    "bhat_df_48 = pd.DataFrame(aug_auc_15d.keys(), columns=[\"Cell type\"])\n",
    "bhat_df_15 = pd.DataFrame(aug_auc_15d.keys(), columns=[\"Cell type\"])"
   ]
  },
  {
   "cell_type": "code",
   "execution_count": 14,
   "id": "65d8c221-00d9-44b2-83f5-d9ee43d728a6",
   "metadata": {},
   "outputs": [],
   "source": [
    "bhat_df_48[\"p\"] = bhat_df_48[\"Cell type\"].apply(lambda x: p_vals[\"withdraw_48h_Cocaine\"][x])\n",
    "bhat_df_15[\"p\"] = bhat_df_15[\"Cell type\"].apply(lambda x: p_vals[\"withdraw_15d_Cocaine\"][x])\n",
    "bhat_df_48[\"MSE\"] = bhat_df_48[\"Cell type\"].apply(lambda x: mses[\"withdraw_48h_Cocaine\"][x])\n",
    "bhat_df_15[\"MSE\"] = bhat_df_15[\"Cell type\"].apply(lambda x: mses[\"withdraw_15d_Cocaine\"][x])"
   ]
  },
  {
   "cell_type": "code",
   "execution_count": 15,
   "id": "8ccd2c0e-03be-4154-a6cc-4610182ffd28",
   "metadata": {},
   "outputs": [],
   "source": [
    "bhat_df_48[\"Mean Augur AUC\"] =  bhat_df_48[\"Cell type\"].apply(lambda x: aug_auc_48h[x])\n",
    "bhat_df_15[\"Mean Augur AUC\"] =  bhat_df_15[\"Cell type\"].apply(lambda x: aug_auc_15d[x])"
   ]
  },
  {
   "cell_type": "code",
   "execution_count": 16,
   "id": "b163b11a-8ccb-4579-9977-b1e326858cbe",
   "metadata": {},
   "outputs": [],
   "source": [
    "pal = sns.color_palette(\"colorblind\", len(kang_adata.obs[\"cell_type\"].unique()))\n",
    "pal_ct = {ct: pal[i] for i, ct in enumerate(kang_adata.obs[\"cell_type\"].unique())}\n",
    "\n",
    "pal = sns.color_palette(\"colorblind\", len(bhatt_adata_48.obs[\"cell_type\"].unique()))\n",
    "pal_ct_48 = {ct: pal[i] for i, ct in enumerate(bhatt_adata_48.obs[\"cell_type\"].unique())}\n",
    "\n",
    "pal = sns.color_palette(\"colorblind\", len(bhatt_adata_15.obs[\"cell_type\"].unique()))\n",
    "pal_ct_15 = {ct: pal[i] for i, ct in enumerate(bhatt_adata_15.obs[\"cell_type\"].unique())}"
   ]
  },
  {
   "cell_type": "code",
   "execution_count": 18,
   "id": "42ebb00e-e31b-4052-8d7d-e52784e691af",
   "metadata": {},
   "outputs": [],
   "source": [
    "pal1 = {\"Control\": \"grey\", \"Stimulated\": \"black\"}\n",
    "pal2 = {\"Maint. cocaine\": \"grey\", \"Withdraw 48h\": \"black\", \"Withdraw 15d\": \"black\"}"
   ]
  },
  {
   "cell_type": "code",
   "execution_count": 29,
   "id": "d88559a3-1cc6-465c-937a-c51f89f607b5",
   "metadata": {},
   "outputs": [],
   "source": [
    "bhat_df_48[\"log(p + 1)\"] = np.log1p(bhat_df_48[\"p\"])\n",
    "bhat_df_15[\"log(p + 1)\"] = np.log1p(bhat_df_15[\"p\"])"
   ]
  },
  {
   "cell_type": "code",
   "execution_count": 30,
   "id": "dd1c5780-55d0-4045-ac38-c91ee34fa896",
   "metadata": {},
   "outputs": [],
   "source": [
    "kang_df[\"log(p + 1)\"] = np.log1p(kang_df[\"p\"])"
   ]
  },
  {
   "cell_type": "code",
   "execution_count": 31,
   "id": "c22303a9-95db-4e44-b1e1-ada60dc1b66c",
   "metadata": {},
   "outputs": [
    {
     "data": {
      "text/html": [
       "<div>\n",
       "<style scoped>\n",
       "    .dataframe tbody tr th:only-of-type {\n",
       "        vertical-align: middle;\n",
       "    }\n",
       "\n",
       "    .dataframe tbody tr th {\n",
       "        vertical-align: top;\n",
       "    }\n",
       "\n",
       "    .dataframe thead th {\n",
       "        text-align: right;\n",
       "    }\n",
       "</style>\n",
       "<table border=\"1\" class=\"dataframe\">\n",
       "  <thead>\n",
       "    <tr style=\"text-align: right;\">\n",
       "      <th></th>\n",
       "      <th>Cell type</th>\n",
       "      <th>p</th>\n",
       "      <th>MSE</th>\n",
       "      <th>Mean Augur AUC</th>\n",
       "      <th>log(p)</th>\n",
       "      <th>log(p + 1)</th>\n",
       "    </tr>\n",
       "  </thead>\n",
       "  <tbody>\n",
       "    <tr>\n",
       "      <th>0</th>\n",
       "      <td>CD14+ Monocytes</td>\n",
       "      <td>0.000000e+00</td>\n",
       "      <td>0.064307</td>\n",
       "      <td>0.920476</td>\n",
       "      <td>-inf</td>\n",
       "      <td>0.000000e+00</td>\n",
       "    </tr>\n",
       "    <tr>\n",
       "      <th>1</th>\n",
       "      <td>CD4 T cells</td>\n",
       "      <td>0.000000e+00</td>\n",
       "      <td>0.004275</td>\n",
       "      <td>0.669376</td>\n",
       "      <td>-inf</td>\n",
       "      <td>0.000000e+00</td>\n",
       "    </tr>\n",
       "    <tr>\n",
       "      <th>2</th>\n",
       "      <td>Dendritic cells</td>\n",
       "      <td>1.778156e-75</td>\n",
       "      <td>0.053486</td>\n",
       "      <td>0.847007</td>\n",
       "      <td>-172.118305</td>\n",
       "      <td>1.778156e-75</td>\n",
       "    </tr>\n",
       "    <tr>\n",
       "      <th>3</th>\n",
       "      <td>NK cells</td>\n",
       "      <td>4.257554e-171</td>\n",
       "      <td>0.006113</td>\n",
       "      <td>0.673299</td>\n",
       "      <td>-392.293356</td>\n",
       "      <td>4.257554e-171</td>\n",
       "    </tr>\n",
       "    <tr>\n",
       "      <th>4</th>\n",
       "      <td>CD8 T cells</td>\n",
       "      <td>2.122893e-147</td>\n",
       "      <td>0.004156</td>\n",
       "      <td>0.626247</td>\n",
       "      <td>-337.727229</td>\n",
       "      <td>2.122893e-147</td>\n",
       "    </tr>\n",
       "    <tr>\n",
       "      <th>5</th>\n",
       "      <td>B cells</td>\n",
       "      <td>0.000000e+00</td>\n",
       "      <td>0.007705</td>\n",
       "      <td>0.783628</td>\n",
       "      <td>-inf</td>\n",
       "      <td>0.000000e+00</td>\n",
       "    </tr>\n",
       "    <tr>\n",
       "      <th>6</th>\n",
       "      <td>FCGR3A+ Monocytes</td>\n",
       "      <td>7.529781e-147</td>\n",
       "      <td>0.049818</td>\n",
       "      <td>0.888934</td>\n",
       "      <td>-336.461143</td>\n",
       "      <td>7.529781e-147</td>\n",
       "    </tr>\n",
       "    <tr>\n",
       "      <th>7</th>\n",
       "      <td>Megakaryocytes</td>\n",
       "      <td>5.799778e-01</td>\n",
       "      <td>0.000610</td>\n",
       "      <td>0.512619</td>\n",
       "      <td>-0.544765</td>\n",
       "      <td>4.574108e-01</td>\n",
       "    </tr>\n",
       "  </tbody>\n",
       "</table>\n",
       "</div>"
      ],
      "text/plain": [
       "           Cell type              p       MSE  Mean Augur AUC      log(p)  \\\n",
       "0    CD14+ Monocytes   0.000000e+00  0.064307        0.920476        -inf   \n",
       "1        CD4 T cells   0.000000e+00  0.004275        0.669376        -inf   \n",
       "2    Dendritic cells   1.778156e-75  0.053486        0.847007 -172.118305   \n",
       "3           NK cells  4.257554e-171  0.006113        0.673299 -392.293356   \n",
       "4        CD8 T cells  2.122893e-147  0.004156        0.626247 -337.727229   \n",
       "5            B cells   0.000000e+00  0.007705        0.783628        -inf   \n",
       "6  FCGR3A+ Monocytes  7.529781e-147  0.049818        0.888934 -336.461143   \n",
       "7     Megakaryocytes   5.799778e-01  0.000610        0.512619   -0.544765   \n",
       "\n",
       "      log(p + 1)  \n",
       "0   0.000000e+00  \n",
       "1   0.000000e+00  \n",
       "2   1.778156e-75  \n",
       "3  4.257554e-171  \n",
       "4  2.122893e-147  \n",
       "5   0.000000e+00  \n",
       "6  7.529781e-147  \n",
       "7   4.574108e-01  "
      ]
     },
     "execution_count": 31,
     "metadata": {},
     "output_type": "execute_result"
    }
   ],
   "source": [
    "kang_df"
   ]
  },
  {
   "cell_type": "code",
   "execution_count": 34,
   "id": "dc6870e5-0ca4-4d3d-8662-8d8ee2016d2c",
   "metadata": {},
   "outputs": [
    {
     "data": {
      "image/png": "[encoded data removed]",
      "text/plain": [
       "<Figure size 900x200 with 3 Axes>"
      ]
     },
     "metadata": {},
     "output_type": "display_data"
    }
   ],
   "source": [
    "f, axs = plt.subplots(1, 3, figsize=(9, 2))\n",
    "\n",
    "s = 10\n",
    "sns.scatterplot(kang_df, x=\"Mean Augur AUC\", y=\"MSE\", hue=\"Cell type\", ax=axs[0], hue_order=sorted(kang_df[\"Cell type\"].unique()), palette=pal_ct)\n",
    "sns.scatterplot(bhat_df_48, x=\"Mean Augur AUC\", y=\"MSE\", hue=\"Cell type\", ax=axs[1], hue_order=sorted(bhat_df_48[\"Cell type\"].unique()), palette=pal_ct_48)\n",
    "sns.scatterplot(bhat_df_15, x=\"Mean Augur AUC\", y=\"MSE\", hue=\"Cell type\", ax=axs[2], hue_order=sorted(bhat_df_15[\"Cell type\"].unique()), palette=pal_ct_15)\n",
    "\n",
    "axs[0].set_title(\"Kang 2018,\\ncontrol versus stimulated\")\n",
    "axs[1].set_title(f\"Bhattacherjee,\\nMaint. cocaine vs. Withdraw 48h\")\n",
    "axs[2].set_title(f\"Bhattacherjee,\\nMaint. cocaine vs. Withdraw 15d\")\n",
    "\n",
    "axs[0].legend(ncols=len(mean_augur_auc) // 4, loc='upper center', bbox_to_anchor=(0.5, 2.4))\n",
    "axs[1].legend(ncols=len(aug_auc_48h) // 4, loc='upper center', bbox_to_anchor=(0.5, 2.4))\n",
    "axs[2].legend(ncols=len(aug_auc_15d) // 4, loc='upper center', bbox_to_anchor=(0.5, 2.4))\n",
    "\n",
    "labels = string.ascii_lowercase  \n",
    "for i in range(np.prod(axs.shape)):\n",
    "    axs[i].text(\n",
    "        -0.05, 1.1,  # Position (normalized figure coordinates)\n",
    "        labels[i],   # Corresponding letter\n",
    "        transform=axs[i].transAxes,  # Relative to subplot\n",
    "        fontsize=10, fontweight='bold', va='top', ha='left'\n",
    "    )\n",
    "    \n",
    "#plt.tight_layout()\n",
    "#plt.savefig(\"augur_figure.pdf\")"
   ]
  },
  {
   "cell_type": "code",
   "execution_count": 38,
   "id": "196f9935-2f6f-469f-afba-9c47fe900384",
   "metadata": {},
   "outputs": [
    {
     "data": {
      "image/png": "[encoded data removed]",
      "text/plain": [
       "<Figure size 900x200 with 3 Axes>"
      ]
     },
     "metadata": {},
     "output_type": "display_data"
    }
   ],
   "source": [
    "f, axs = plt.subplots(1, 3, figsize=(9, 2))\n",
    "\n",
    "s = 10\n",
    "sns.scatterplot(kang_df, x=\"Mean Augur AUC\", y=\"p\", hue=\"Cell type\", ax=axs[0], hue_order=sorted(kang_df[\"Cell type\"].unique()), palette=pal_ct)\n",
    "sns.scatterplot(bhat_df_48, x=\"Mean Augur AUC\", y=\"p\", hue=\"Cell type\", ax=axs[1], hue_order=sorted(bhat_df_48[\"Cell type\"].unique()), palette=pal_ct_48)\n",
    "sns.scatterplot(bhat_df_15, x=\"Mean Augur AUC\", y=\"p\", hue=\"Cell type\", ax=axs[2], hue_order=sorted(bhat_df_15[\"Cell type\"].unique()), palette=pal_ct_15)\n",
    "\n",
    "axs[0].set_title(\"Kang 2018,\\ncontrol versus stimulated\")\n",
    "axs[1].set_title(f\"Bhattacherjee,\\nMaint. cocaine vs. Withdraw 48h\")\n",
    "axs[2].set_title(f\"Bhattacherjee,\\nMaint. cocaine vs. Withdraw 15d\")\n",
    "\n",
    "axs[0].legend(ncols=len(mean_augur_auc) // 4, loc='upper center', bbox_to_anchor=(0.5, 2.4))\n",
    "axs[1].legend(ncols=len(aug_auc_48h) // 4, loc='upper center', bbox_to_anchor=(0.5, 2.4))\n",
    "axs[2].legend(ncols=len(aug_auc_15d) // 4, loc='upper center', bbox_to_anchor=(0.5, 2.4))\n",
    "\n",
    "axs[0].set_yscale(\"log\")\n",
    "axs[1].set_yscale(\"log\")\n",
    "axs[2].set_yscale(\"log\")\n",
    "\n",
    "labels = string.ascii_lowercase  \n",
    "for i in range(np.prod(axs.shape)):\n",
    "    axs[i].text(\n",
    "        -0.05, 1.1,  # Position (normalized figure coordinates)\n",
    "        labels[i],   # Corresponding letter\n",
    "        transform=axs[i].transAxes,  # Relative to subplot\n",
    "        fontsize=10, fontweight='bold', va='top', ha='left'\n",
    "    )\n",
    "    \n",
    "#plt.tight_layout()\n",
    "#plt.savefig(\"augur_figure.pdf\")"
   ]
  },
  {
   "cell_type": "code",
   "execution_count": 47,
   "id": "481c4887-d79b-44ef-b031-f7eab31e0a15",
   "metadata": {},
   "outputs": [
    {
     "data": {
      "text/plain": [
       "<Axes: xlabel='MSE', ylabel='log(p)'>"
      ]
     },
     "execution_count": 47,
     "metadata": {},
     "output_type": "execute_result"
    },
    {
     "data": {
      "image/png": "[encoded data removed]",
      "text/plain": [
       "<Figure size 640x480 with 1 Axes>"
      ]
     },
     "metadata": {},
     "output_type": "display_data"
    }
   ],
   "source": [
    "f, ax = plt.subplots(1)\n",
    "sns.scatterplot(bhat_df_15, x=\"MSE\", y=\"log(p)\", hue=\"Cell type\", hue_order=sorted(bhat_df_15[\"Cell type\"].unique()), palette=pal_ct_15, ax=ax)"
   ]
  },
  {
   "cell_type": "code",
   "execution_count": 44,
   "id": "9e03e0a4-fc26-4c85-a99c-19aa4c4fafa5",
   "metadata": {},
   "outputs": [
    {
     "data": {
      "text/html": [
       "<div>\n",
       "<style scoped>\n",
       "    .dataframe tbody tr th:only-of-type {\n",
       "        vertical-align: middle;\n",
       "    }\n",
       "\n",
       "    .dataframe tbody tr th {\n",
       "        vertical-align: top;\n",
       "    }\n",
       "\n",
       "    .dataframe thead th {\n",
       "        text-align: right;\n",
       "    }\n",
       "</style>\n",
       "<table border=\"1\" class=\"dataframe\">\n",
       "  <thead>\n",
       "    <tr style=\"text-align: right;\">\n",
       "      <th></th>\n",
       "      <th>Cell type</th>\n",
       "      <th>p</th>\n",
       "      <th>MSE</th>\n",
       "      <th>Mean Augur AUC</th>\n",
       "      <th>log(p)</th>\n",
       "      <th>log(p + 1)</th>\n",
       "    </tr>\n",
       "  </thead>\n",
       "  <tbody>\n",
       "    <tr>\n",
       "      <th>0</th>\n",
       "      <td>Oligo</td>\n",
       "      <td>5.339807e-45</td>\n",
       "      <td>0.005825</td>\n",
       "      <td>0.801417</td>\n",
       "      <td>-101.941140</td>\n",
       "      <td>5.339807e-45</td>\n",
       "    </tr>\n",
       "    <tr>\n",
       "      <th>1</th>\n",
       "      <td>Astro</td>\n",
       "      <td>5.737652e-24</td>\n",
       "      <td>0.005731</td>\n",
       "      <td>0.769116</td>\n",
       "      <td>-53.514992</td>\n",
       "      <td>5.737652e-24</td>\n",
       "    </tr>\n",
       "    <tr>\n",
       "      <th>2</th>\n",
       "      <td>Microglia</td>\n",
       "      <td>1.106536e-08</td>\n",
       "      <td>0.004547</td>\n",
       "      <td>0.743707</td>\n",
       "      <td>-18.319447</td>\n",
       "      <td>1.106536e-08</td>\n",
       "    </tr>\n",
       "    <tr>\n",
       "      <th>3</th>\n",
       "      <td>OPC</td>\n",
       "      <td>4.308243e-14</td>\n",
       "      <td>0.005010</td>\n",
       "      <td>0.743605</td>\n",
       "      <td>-30.775661</td>\n",
       "      <td>4.308243e-14</td>\n",
       "    </tr>\n",
       "    <tr>\n",
       "      <th>4</th>\n",
       "      <td>Inhibitory</td>\n",
       "      <td>4.251004e-16</td>\n",
       "      <td>0.004697</td>\n",
       "      <td>0.656202</td>\n",
       "      <td>-35.394206</td>\n",
       "      <td>4.251004e-16</td>\n",
       "    </tr>\n",
       "    <tr>\n",
       "      <th>5</th>\n",
       "      <td>NF Oligo</td>\n",
       "      <td>2.793801e-07</td>\n",
       "      <td>0.003669</td>\n",
       "      <td>0.625692</td>\n",
       "      <td>-15.090693</td>\n",
       "      <td>2.793801e-07</td>\n",
       "    </tr>\n",
       "    <tr>\n",
       "      <th>6</th>\n",
       "      <td>Excitatory</td>\n",
       "      <td>0.000000e+00</td>\n",
       "      <td>0.003767</td>\n",
       "      <td>0.623923</td>\n",
       "      <td>-inf</td>\n",
       "      <td>0.000000e+00</td>\n",
       "    </tr>\n",
       "    <tr>\n",
       "      <th>7</th>\n",
       "      <td>Endo</td>\n",
       "      <td>7.079529e-92</td>\n",
       "      <td>0.001954</td>\n",
       "      <td>0.588481</td>\n",
       "      <td>-209.880621</td>\n",
       "      <td>7.079529e-92</td>\n",
       "    </tr>\n",
       "  </tbody>\n",
       "</table>\n",
       "</div>"
      ],
      "text/plain": [
       "    Cell type             p       MSE  Mean Augur AUC      log(p)  \\\n",
       "0       Oligo  5.339807e-45  0.005825        0.801417 -101.941140   \n",
       "1       Astro  5.737652e-24  0.005731        0.769116  -53.514992   \n",
       "2   Microglia  1.106536e-08  0.004547        0.743707  -18.319447   \n",
       "3         OPC  4.308243e-14  0.005010        0.743605  -30.775661   \n",
       "4  Inhibitory  4.251004e-16  0.004697        0.656202  -35.394206   \n",
       "5    NF Oligo  2.793801e-07  0.003669        0.625692  -15.090693   \n",
       "6  Excitatory  0.000000e+00  0.003767        0.623923        -inf   \n",
       "7        Endo  7.079529e-92  0.001954        0.588481 -209.880621   \n",
       "\n",
       "     log(p + 1)  \n",
       "0  5.339807e-45  \n",
       "1  5.737652e-24  \n",
       "2  1.106536e-08  \n",
       "3  4.308243e-14  \n",
       "4  4.251004e-16  \n",
       "5  2.793801e-07  \n",
       "6  0.000000e+00  \n",
       "7  7.079529e-92  "
      ]
     },
     "execution_count": 44,
     "metadata": {},
     "output_type": "execute_result"
    }
   ],
   "source": [
    "bhat_df_15"
   ]
  },
  {
   "cell_type": "code",
   "execution_count": null,
   "id": "8d249868-3f88-43e0-bb58-77c07a9c2b34",
   "metadata": {},
   "outputs": [],
   "source": []
  }
 ],
 "metadata": {
  "kernelspec": {
   "display_name": "Python 3 (ipykernel)",
   "language": "python",
   "name": "python3"
  },
  "language_info": {
   "codemirror_mode": {
    "name": "ipython",
    "version": 3
   },
   "file_extension": ".py",
   "mimetype": "text/x-python",
   "name": "python",
   "nbconvert_exporter": "python",
   "pygments_lexer": "ipython3",
   "version": "3.10.13"
  }
 },
 "nbformat": 4,
 "nbformat_minor": 5
}
