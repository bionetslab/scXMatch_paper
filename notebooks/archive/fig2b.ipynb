{
 "cells": [
  {
   "cell_type": "code",
   "execution_count": 1,
   "id": "8eb43689-2300-4e10-8f81-b95a494d2524",
   "metadata": {},
   "outputs": [
    {
     "name": "stderr",
     "output_type": "stream",
     "text": [
      "\n",
      "KeyboardInterrupt\n",
      "\n"
     ]
    }
   ],
   "source": [
    "import pandas as pd\n",
    "import seaborn as sns\n",
    "import numpy as np\n",
    "import matplotlib.pyplot as plt\n",
    "import os\n",
    "import string"
   ]
  },
  {
   "cell_type": "code",
   "execution_count": null,
   "id": "05858363-a83e-4e87-8f29-e01fb965979f",
   "metadata": {},
   "outputs": [],
   "source": [
    "log_dir = \"../evaluation_results/runtime\"\n",
    "logs = pd.concat([pd.read_csv(os.path.join(log_dir, f), delimiter=\"; \") for f in os.listdir(log_dir) if os.path.isfile(os.path.join(log_dir, f))], axis=0)"
   ]
  },
  {
   "cell_type": "code",
   "execution_count": null,
   "id": "de3ad9d8-31ff-4220-980a-eafea0d4c893",
   "metadata": {},
   "outputs": [],
   "source": [
    "logs[\"t_matching [s]\"].replace({-1: np.nan}, inplace=True)"
   ]
  },
  {
   "cell_type": "code",
   "execution_count": null,
   "id": "5ebbc8c6-56cb-4d47-aaa5-395f86dde9d5",
   "metadata": {},
   "outputs": [],
   "source": [
    "nn_runtime_logs = logs.drop([\"t_matching [s]\"], axis=1)"
   ]
  },
  {
   "cell_type": "code",
   "execution_count": null,
   "id": "73cdcff0-a0bb-40c4-925a-c3e301da43c0",
   "metadata": {},
   "outputs": [],
   "source": [
    "n_var_values = nn_runtime_logs[\"n_var\"].unique()"
   ]
  },
  {
   "cell_type": "code",
   "execution_count": null,
   "id": "177f190a-3b8f-4c4d-bdee-8e4436685a71",
   "metadata": {},
   "outputs": [],
   "source": [
    "nn_runtime_logs"
   ]
  },
  {
   "cell_type": "code",
   "execution_count": null,
   "id": "c31880ef-cc5e-4cfe-939c-f4e4444950ff",
   "metadata": {},
   "outputs": [],
   "source": [
    "gt_runtime_logs = logs.dropna().drop([\"n_var\", \"t_NN [s]\"], axis=1)\n",
    "gt_runtime_logs.sort_values([\"k\", \"n_obs\"])"
   ]
  },
  {
   "cell_type": "code",
   "execution_count": null,
   "id": "6ae5c185-2b43-4550-aeb3-098117c2d445",
   "metadata": {},
   "outputs": [],
   "source": [
    "palette = sns.color_palette(\"Spectral\", len(logs[\"k\"].unique()))"
   ]
  },
  {
   "cell_type": "code",
   "execution_count": null,
   "id": "1411bd8c-71b5-4c95-aafa-5e140a569516",
   "metadata": {},
   "outputs": [],
   "source": [
    "len(n_var_values)"
   ]
  },
  {
   "cell_type": "code",
   "execution_count": null,
   "id": "353642e5-7990-499d-9855-a9b2968fb303",
   "metadata": {},
   "outputs": [],
   "source": [
    "f, axs = plt.subplots(1, len(n_var_values) + 1, figsize=(12, 4), sharex=True, width_ratios=[1, 1, 1, 1, 1,1.5], sharey=True)\n",
    "legend_idx = 3\n",
    "y_lim_max = nn_runtime_logs[\"t_NN [s]\"].max() + 100\n",
    "\n",
    "for i, n_var in enumerate(n_var_values):\n",
    "    legend = False if i!=legend_idx else \"full\"\n",
    "    sns.barplot(nn_runtime_logs[nn_runtime_logs[\"n_var\"] == n_var], x=\"n_obs\", y=\"t_NN [s]\", hue=\"k\", ax=axs[i], palette=palette, legend=legend)\n",
    "    if i == legend_idx:\n",
    "        axs[i].legend(loc='upper center', title=\"k\", bbox_to_anchor=(0.5, 1.3), ncol=len(gt_runtime_logs[\"k\"].unique()))\n",
    "    if i == 0:\n",
    "        axs[i].set_ylabel(\"Runtime NN matching [s]\")\n",
    "    else:\n",
    "        axs[i].set_ylabel(None)\n",
    "        axs[i].set_yticklabels([])\n",
    "    axs[i].set_xlabel(\"$n_{{obs}}$\")\n",
    "    axs[i].set_title(f\"$n_{{vars}}={n_var}$\")\n",
    "\n",
    "sns.barplot(gt_runtime_logs, x=\"n_obs\", y=\"t_matching [s]\", hue=\"k\", ax=axs[-1], palette=palette, legend=False)\n",
    "#axs[-1].legend(loc='upper left', title=\"k\")\n",
    "axs[-1].set_ylabel(\"Runtime MWMCM [s]\")\n",
    "axs[-1].set_xlabel(\"$n_{{obs}}$\")\n",
    "axs[-1].set_yscale(\"symlog\", linthresh=100) \n",
    "\n",
    "plt.subplots_adjust(wspace=0.05)\n",
    "\n",
    "pos = axs[-1].get_position()  # Get current position\n",
    "axs[-1].set_position([pos.x0 + 0.1, pos.y0, pos.width, pos.height])  # Shift right by 0.05\n",
    "\n",
    "labels = string.ascii_lowercase\n",
    "for i in range(len(n_var_values) + 1):\n",
    "    axs[i].text(\n",
    "        -0.05, 1.1,  # Position (normalized figure coordinates)\n",
    "        labels[i+6],   # Corresponding letter\n",
    "        transform=axs[i].transAxes,  # Relative to subplot\n",
    "        fontsize=10, fontweight='bold', va='top', ha='left'\n",
    "    )\n",
    "    axs[i].tick_params(axis='x', labelrotation=90)\n",
    "#plt.savefig(\"../plots/fig2/fig2-2.pdf\", bbox_inches=\"tight\")"
   ]
  },
  {
   "cell_type": "code",
   "execution_count": null,
   "id": "ec5824ef-e586-489b-b833-4c2fc533db30",
   "metadata": {},
   "outputs": [],
   "source": []
  }
 ],
 "metadata": {
  "kernelspec": {
   "display_name": "Python 3 (ipykernel)",
   "language": "python",
   "name": "python3"
  },
  "language_info": {
   "codemirror_mode": {
    "name": "ipython",
    "version": 3
   },
   "file_extension": ".py",
   "mimetype": "text/x-python",
   "name": "python",
   "nbconvert_exporter": "python",
   "pygments_lexer": "ipython3",
   "version": "3.10.16"
  }
 },
 "nbformat": 4,
 "nbformat_minor": 5
}
