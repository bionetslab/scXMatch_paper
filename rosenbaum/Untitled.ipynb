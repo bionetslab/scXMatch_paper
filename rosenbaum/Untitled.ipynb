{
 "cells": [
  {
   "cell_type": "code",
   "execution_count": 3,
   "id": "0b45fc9a-24e9-4c88-b5af-aec9c9fefdac",
   "metadata": {},
   "outputs": [],
   "source": [
    "def scanpy_setup(adata):\n",
    "    if 'counts' in adata.layers:\n",
    "        adata.X = adata.layers['counts'].copy()\n",
    "    else:\n",
    "        adata.layers['counts'] = adata.X.copy()\n",
    "    sc.pp.normalize_total(adata, target_sum=1e6, exclude_highly_expressed=True)\n",
    "    sc.pp.log1p(adata)\n",
    "    sc.pp.highly_variable_genes(adata, n_top_genes=2000)\n",
    "    adata = adata[:, adata.var.highly_variable]\n",
    "    sc.pp.pca(adata, use_highly_variable=True)\n",
    "    adata.obs_names_make_unique()\n",
    "    adata.var_names_make_unique()\n",
    "    return adata"
   ]
  },
  {
   "cell_type": "code",
   "execution_count": 5,
   "id": "6fa51319-cb2c-442f-b00d-ccb1c4eeeae5",
   "metadata": {},
   "outputs": [
    {
     "name": "stderr",
     "output_type": "stream",
     "text": [
      "/data/bionets/je30bery/anaconda3/envs/scanpy/lib/python3.9/site-packages/scanpy/preprocessing/_pca.py:377: FutureWarning: Argument `use_highly_variable` is deprecated, consider using the mask argument. Use_highly_variable=True can be called through mask_var=\"highly_variable\". Use_highly_variable=False can be called through mask_var=None\n",
      "  warn(msg, FutureWarning)\n"
     ]
    },
    {
     "name": "stdout",
     "output_type": "stream",
     "text": [
      "Index(['DepMap_ID', 'cancer', 'cell_det_rate', 'cell_line', 'cell_quality',\n",
      "       'channel', 'disease', 'dose_unit', 'dose_value', 'doublet_CL1',\n",
      "       'doublet_CL2', 'doublet_GMM_prob', 'doublet_dev_imp',\n",
      "       'doublet_z_margin', 'hash_assignment', 'hash_tag', 'num_SNPs',\n",
      "       'organism', 'percent.mito', 'perturbation', 'perturbation_type', 'sex',\n",
      "       'singlet_ID', 'singlet_dev', 'singlet_dev_z', 'singlet_margin',\n",
      "       'singlet_z_margin', 'time', 'tissue_type', 'tot_reads', 'nperts',\n",
      "       'ngenes', 'ncounts', 'percent_mito', 'percent_ribo', 'chembl-ID'],\n",
      "      dtype='object')\n"
     ]
    },
    {
     "name": "stderr",
     "output_type": "stream",
     "text": [
      "/data/bionets/je30bery/anaconda3/envs/scanpy/lib/python3.9/site-packages/scanpy/preprocessing/_pca.py:317: ImplicitModificationWarning: Setting element `.obsm['X_pca']` of view, initializing view as actual.\n",
      "  adata.obsm[key_obsm] = X_pca\n"
     ]
    }
   ],
   "source": [
    "from anndata import read_h5ad\n",
    "import scanpy as sc\n",
    "\n",
    "path=\"/data_nfs/datasets/scrnaseq_ji/mcfarland.hdf5\"\n",
    "adata = read_h5ad(path)\n",
    "adata = scanpy_setup(adata)\n",
    "print(adata.obs.keys())"
   ]
  },
  {
   "cell_type": "code",
   "execution_count": 9,
   "id": "cb467cbc-1ad7-4bd3-ab6b-7dd6b39e5950",
   "metadata": {},
   "outputs": [
    {
     "data": {
      "text/plain": [
       "time\n",
       "24    1995\n",
       "6      654\n",
       "Name: count, dtype: int64"
      ]
     },
     "execution_count": 9,
     "metadata": {},
     "output_type": "execute_result"
    }
   ],
   "source": [
    "adata.obs.time.value_counts()"
   ]
  },
  {
   "cell_type": "code",
   "execution_count": 10,
   "id": "54935fa3-c85e-443b-a655-b588515ad6b3",
   "metadata": {},
   "outputs": [
    {
     "data": {
      "text/plain": [
       "perturbation\n",
       "control           541\n",
       "Trametinib_24     378\n",
       "AZD5591_24        179\n",
       "Dabrafenib_24     148\n",
       "Idasanutlin_24    129\n",
       "Navitoclax_24     120\n",
       "BRD3379_24        116\n",
       "JQ1_24            115\n",
       "Prexasertib_24    114\n",
       "Bortezomib_24     113\n",
       "Trametinib_6      112\n",
       "Everolimus_24     108\n",
       "Idasanutlin_6      99\n",
       "Bortezomib_6       92\n",
       "BRD3379_6          89\n",
       "Taselisib_24       88\n",
       "Afatinib_24        71\n",
       "Gemcitabine_24     37\n",
       "Name: count, dtype: int64"
      ]
     },
     "execution_count": 10,
     "metadata": {},
     "output_type": "execute_result"
    }
   ],
   "source": [
    "adata.obs.perturbation.value_counts()"
   ]
  },
  {
   "cell_type": "code",
   "execution_count": 12,
   "id": "a0bf6edc-9e5d-4d01-991f-9130c2d0cefd",
   "metadata": {},
   "outputs": [],
   "source": [
    "obs = adata.obs"
   ]
  },
  {
   "cell_type": "code",
   "execution_count": 14,
   "id": "a21eca9b-58eb-4bf2-a711-7d40cf9169bf",
   "metadata": {},
   "outputs": [
    {
     "data": {
      "text/plain": [
       "AAAGATGCAGCGTTCG    Navitoclax_24\n",
       "AAGTCTGCAGCTGTAT    Navitoclax_24\n",
       "ACACCAACAAACGCGA    Navitoclax_24\n",
       "ACACCAACAGCGTCCA    Navitoclax_24\n",
       "ACACCGGTCTAAGCCA    Navitoclax_24\n",
       "                        ...      \n",
       "TTCTCAATCGTTTATC          control\n",
       "TTCTCCTAGCTGAAAT          control\n",
       "TTCTTAGGTTAGATGA          control\n",
       "TTTATGCCATCTACGA          control\n",
       "TTTATGCTCGCAGGCT          control\n",
       "Name: perturbation, Length: 2649, dtype: category\n",
       "Categories (18, object): ['AZD5591_24', 'Afatinib_24', 'BRD3379_6', 'BRD3379_24', ..., 'Taselisib_24', 'Trametinib_6', 'Trametinib_24', 'control']"
      ]
     },
     "execution_count": 14,
     "metadata": {},
     "output_type": "execute_result"
    }
   ],
   "source": [
    "obs[obs[\"perturbation\"] == \"cont"
   ]
  },
  {
   "cell_type": "code",
   "execution_count": null,
   "id": "37b3810f-8703-485d-9636-8eb46764bd98",
   "metadata": {},
   "outputs": [],
   "source": []
  }
 ],
 "metadata": {
  "kernelspec": {
   "display_name": "Python 3 (ipykernel)",
   "language": "python",
   "name": "python3"
  },
  "language_info": {
   "codemirror_mode": {
    "name": "ipython",
    "version": 3
   },
   "file_extension": ".py",
   "mimetype": "text/x-python",
   "name": "python",
   "nbconvert_exporter": "python",
   "pygments_lexer": "ipython3",
   "version": "3.9.18"
  }
 },
 "nbformat": 4,
 "nbformat_minor": 5
}
